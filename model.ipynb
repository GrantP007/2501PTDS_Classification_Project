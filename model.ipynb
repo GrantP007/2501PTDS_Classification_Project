{
 "cells": [
  {
   "cell_type": "markdown",
   "id": "c95e61de",
   "metadata": {},
   "source": [
    "## Contents\n",
    "1. Setup & Imports  \n",
    "2. Load Data\n",
    "3. Data Checks\n",
    "4. Preprocessing & Pipeline\n",
    "5. Training & Evaluation  \n",
    "6. Model Export\n",
    "7. Manually Test Model\n",
    "8. Streamlit\n",
    "9. MLFlow"
   ]
  },
  {
   "cell_type": "markdown",
   "id": "9766aa11",
   "metadata": {},
   "source": [
    "## 1. Setup & Imports"
   ]
  },
  {
   "cell_type": "code",
   "execution_count": 152,
   "id": "7ab3f346",
   "metadata": {},
   "outputs": [],
   "source": [
    "# !pip install xgboost\n",
    "\n",
    "# !pip freeze > requirements.txt\n",
    "# !pip install -r requirements.txt"
   ]
  },
  {
   "cell_type": "code",
   "execution_count": 153,
   "id": "7e1cb512",
   "metadata": {},
   "outputs": [
    {
     "name": "stderr",
     "output_type": "stream",
     "text": [
      "[nltk_data] Downloading package punkt to\n",
      "[nltk_data]     C:\\Users\\gpietersen\\AppData\\Roaming\\nltk_data...\n",
      "[nltk_data]   Package punkt is already up-to-date!\n",
      "[nltk_data] Downloading package wordnet to\n",
      "[nltk_data]     C:\\Users\\gpietersen\\AppData\\Roaming\\nltk_data...\n",
      "[nltk_data]   Package wordnet is already up-to-date!\n",
      "[nltk_data] Downloading package stopwords to\n",
      "[nltk_data]     C:\\Users\\gpietersen\\AppData\\Roaming\\nltk_data...\n",
      "[nltk_data]   Package stopwords is already up-to-date!\n",
      "[nltk_data] Downloading package omw-1.4 to\n",
      "[nltk_data]     C:\\Users\\gpietersen\\AppData\\Roaming\\nltk_data...\n",
      "[nltk_data]   Package omw-1.4 is already up-to-date!\n",
      "[nltk_data] Downloading package punkt_tab to\n",
      "[nltk_data]     C:\\Users\\gpietersen\\AppData\\Roaming\\nltk_data...\n",
      "[nltk_data]   Package punkt_tab is already up-to-date!\n"
     ]
    },
    {
     "data": {
      "text/plain": [
       "True"
      ]
     },
     "execution_count": 153,
     "metadata": {},
     "output_type": "execute_result"
    }
   ],
   "source": [
    "import pandas as pd\n",
    "import numpy as np\n",
    "import re\n",
    "import nltk\n",
    "import mlflow\n",
    "import mlflow.sklearn\n",
    "\n",
    "from sklearn.feature_extraction.text import TfidfVectorizer, CountVectorizer\n",
    "from sklearn.model_selection import train_test_split, GridSearchCV\n",
    "from sklearn.linear_model import LogisticRegression, SGDClassifier, RidgeClassifier, PassiveAggressiveClassifier\n",
    "from sklearn.metrics import accuracy_score, classification_report, confusion_matrix, f1_score\n",
    "from sklearn.preprocessing import LabelEncoder\n",
    "from sklearn.pipeline import Pipeline\n",
    "from sklearn.svm import SVC\n",
    "from sklearn.naive_bayes import MultinomialNB, ComplementNB\n",
    "from xgboost import XGBClassifier\n",
    "from sklearn.ensemble import RandomForestClassifier\n",
    "from sklearn.svm import LinearSVC\n",
    "\n",
    "from nltk.tokenize import word_tokenize\n",
    "from nltk.corpus import stopwords\n",
    "from nltk.stem import WordNetLemmatizer, PorterStemmer\n",
    "\n",
    "# Download necessary NLTK data\n",
    "nltk.download('punkt')\n",
    "nltk.download('wordnet')\n",
    "nltk.download('stopwords')\n",
    "nltk.download('omw-1.4')\n",
    "nltk.download('punkt_tab')\n"
   ]
  },
  {
   "cell_type": "code",
   "execution_count": 154,
   "id": "0d352f00",
   "metadata": {},
   "outputs": [
    {
     "data": {
      "text/plain": [
       "['a',\n",
       " 'about',\n",
       " 'above',\n",
       " 'after',\n",
       " 'again',\n",
       " 'against',\n",
       " 'ain',\n",
       " 'all',\n",
       " 'am',\n",
       " 'an',\n",
       " 'and',\n",
       " 'any',\n",
       " 'are',\n",
       " 'aren',\n",
       " \"aren't\",\n",
       " 'as',\n",
       " 'at',\n",
       " 'be',\n",
       " 'because',\n",
       " 'been',\n",
       " 'before',\n",
       " 'being',\n",
       " 'below',\n",
       " 'between',\n",
       " 'both',\n",
       " 'but',\n",
       " 'by',\n",
       " 'can',\n",
       " 'couldn',\n",
       " \"couldn't\",\n",
       " 'd',\n",
       " 'did',\n",
       " 'didn',\n",
       " \"didn't\",\n",
       " 'do',\n",
       " 'does',\n",
       " 'doesn',\n",
       " \"doesn't\",\n",
       " 'doing',\n",
       " 'don',\n",
       " \"don't\",\n",
       " 'down',\n",
       " 'during',\n",
       " 'each',\n",
       " 'few',\n",
       " 'for',\n",
       " 'from',\n",
       " 'further',\n",
       " 'had',\n",
       " 'hadn',\n",
       " \"hadn't\",\n",
       " 'has',\n",
       " 'hasn',\n",
       " \"hasn't\",\n",
       " 'have',\n",
       " 'haven',\n",
       " \"haven't\",\n",
       " 'having',\n",
       " 'he',\n",
       " \"he'd\",\n",
       " \"he'll\",\n",
       " 'her',\n",
       " 'here',\n",
       " 'hers',\n",
       " 'herself',\n",
       " \"he's\",\n",
       " 'him',\n",
       " 'himself',\n",
       " 'his',\n",
       " 'how',\n",
       " 'i',\n",
       " \"i'd\",\n",
       " 'if',\n",
       " \"i'll\",\n",
       " \"i'm\",\n",
       " 'in',\n",
       " 'into',\n",
       " 'is',\n",
       " 'isn',\n",
       " \"isn't\",\n",
       " 'it',\n",
       " \"it'd\",\n",
       " \"it'll\",\n",
       " \"it's\",\n",
       " 'its',\n",
       " 'itself',\n",
       " \"i've\",\n",
       " 'just',\n",
       " 'll',\n",
       " 'm',\n",
       " 'ma',\n",
       " 'me',\n",
       " 'mightn',\n",
       " \"mightn't\",\n",
       " 'more',\n",
       " 'most',\n",
       " 'mustn',\n",
       " \"mustn't\",\n",
       " 'my',\n",
       " 'myself',\n",
       " 'needn',\n",
       " \"needn't\",\n",
       " 'no',\n",
       " 'nor',\n",
       " 'not',\n",
       " 'now',\n",
       " 'o',\n",
       " 'of',\n",
       " 'off',\n",
       " 'on',\n",
       " 'once',\n",
       " 'only',\n",
       " 'or',\n",
       " 'other',\n",
       " 'our',\n",
       " 'ours',\n",
       " 'ourselves',\n",
       " 'out',\n",
       " 'over',\n",
       " 'own',\n",
       " 're',\n",
       " 's',\n",
       " 'same',\n",
       " 'shan',\n",
       " \"shan't\",\n",
       " 'she',\n",
       " \"she'd\",\n",
       " \"she'll\",\n",
       " \"she's\",\n",
       " 'should',\n",
       " 'shouldn',\n",
       " \"shouldn't\",\n",
       " \"should've\",\n",
       " 'so',\n",
       " 'some',\n",
       " 'such',\n",
       " 't',\n",
       " 'than',\n",
       " 'that',\n",
       " \"that'll\",\n",
       " 'the',\n",
       " 'their',\n",
       " 'theirs',\n",
       " 'them',\n",
       " 'themselves',\n",
       " 'then',\n",
       " 'there',\n",
       " 'these',\n",
       " 'they',\n",
       " \"they'd\",\n",
       " \"they'll\",\n",
       " \"they're\",\n",
       " \"they've\",\n",
       " 'this',\n",
       " 'those',\n",
       " 'through',\n",
       " 'to',\n",
       " 'too',\n",
       " 'under',\n",
       " 'until',\n",
       " 'up',\n",
       " 've',\n",
       " 'very',\n",
       " 'was',\n",
       " 'wasn',\n",
       " \"wasn't\",\n",
       " 'we',\n",
       " \"we'd\",\n",
       " \"we'll\",\n",
       " \"we're\",\n",
       " 'were',\n",
       " 'weren',\n",
       " \"weren't\",\n",
       " \"we've\",\n",
       " 'what',\n",
       " 'when',\n",
       " 'where',\n",
       " 'which',\n",
       " 'while',\n",
       " 'who',\n",
       " 'whom',\n",
       " 'why',\n",
       " 'will',\n",
       " 'with',\n",
       " 'won',\n",
       " \"won't\",\n",
       " 'wouldn',\n",
       " \"wouldn't\",\n",
       " 'y',\n",
       " 'you',\n",
       " \"you'd\",\n",
       " \"you'll\",\n",
       " 'your',\n",
       " \"you're\",\n",
       " 'yours',\n",
       " 'yourself',\n",
       " 'yourselves',\n",
       " \"you've\"]"
      ]
     },
     "execution_count": 154,
     "metadata": {},
     "output_type": "execute_result"
    }
   ],
   "source": [
    "stopwords.words('english')"
   ]
  },
  {
   "cell_type": "markdown",
   "id": "582e5ce1",
   "metadata": {},
   "source": [
    "## 2. Load Data"
   ]
  },
  {
   "cell_type": "code",
   "execution_count": 155,
   "id": "b2463721",
   "metadata": {},
   "outputs": [
    {
     "data": {
      "application/vnd.microsoft.datawrangler.viewer.v0+json": {
       "columns": [
        {
         "name": "index",
         "rawType": "int64",
         "type": "integer"
        },
        {
         "name": "headlines",
         "rawType": "object",
         "type": "string"
        },
        {
         "name": "description",
         "rawType": "object",
         "type": "string"
        },
        {
         "name": "content",
         "rawType": "object",
         "type": "string"
        },
        {
         "name": "url",
         "rawType": "object",
         "type": "string"
        },
        {
         "name": "category",
         "rawType": "object",
         "type": "string"
        }
       ],
       "ref": "4c094420-6c80-4dac-aecc-2608b62b656e",
       "rows": [
        [
         "0",
         "RBI revises definition of politically-exposed persons for KYC purpose",
         "The central bank has also asked chairpersons and chief executives of banks and other financial services, which are into lending business, to make the changes effective immediately.",
         "The Reserve Bank of India (RBI) has changed the definition of Politically-Exposed Persons (PEPs) under its norms, a move that will make it easier for those individuals to carry out various banking transactions, including availing loans.\r\nCertain changes have been made in the RBI’s Know Your Customer (KYC) norms.\r\nThe earlier norms pertaining to PEPs were open-ended and there was a lack of clarity on the definition, apparently leading to issues for bankers, parliamentarians and others. There were also concerns in certain quarters that PEPs were finding it difficult to get loans or open bank accounts.\r\nADVERTISEMENT\r\nIn the amended KYC master direction, the central bank defines PEPs as “individuals who are or have been entrusted with prominent public functions by a foreign country, including the heads of states/governments, senior politicians, senior government or judicial or military officers, senior executives of state-owned corporations and important political party officials”. The new rules also include a person who is entrusted by a foreign country with a public function.\r\nBank accounts of PEPs have additional KYC norms under the current provisions and special due diligence has to be undertaken by a senior bank official. A sub-clause in the master direction in KYC norms issued by way of a circular on February 25, 2016 has been removed by the central bank.\r\nThe central bank has also asked chairpersons and chief executives of banks and other financial services, which are into lending business, to make the changes effective immediately.\r\nLast year, the Centre amended the Prevention of Money Laundering Act (PMLA) to introduce more disclosures for non-government organisations by reporting entities.",
         "https://indianexpress.com/article/business/banking-and-finance/rbi-revises-politically-exposed-persons-kyc-9096600/",
         "business"
        ],
        [
         "1",
         "NDTV Q2 net profit falls 57.4% to Rs 5.55 crore impacted by lower revenue and higher expenses",
         "NDTV's consolidated revenue from operations was Rs 95.55 crore as against Rs 105.8 crore in the year-ago period.",
         "Broadcaster New Delhi Television Ltd on Monday reported a 57.4 per cent decline in consolidated profit after tax at Rs 5.55 crore in the September quarter, impacted by lower revenue and higher expenses.\r\nThe company had posted a consolidated net profit of Rs 13.03 crore in the same quarter last fiscal, New Delhi Television Ltd (NDTV) said in a regulatory filing.\r\nConsolidated revenue from operations was Rs 95.55 crore as against Rs 105.8 crore in the year-ago period, it added.\r\nADVERTISEMENT\r\nTotal expenses were higher at Rs 93.48 crore as compared to Rs 91.93 crore a year ago, the company said.\r\nIn the second quarter, there was a slight bullishness in advertisement spend despite the muted economic environment, it added.\r\nNDTV said it launched two regional channels ‘NDTV Madhya Pradesh/Chhattisgarh’ and ‘NDTV Rajasthan’ in the second quarter (Q2).\r\n“With its focus on expansion and growth, NDTV expects to launch more regional channels in the near future,” the company said.",
         "https://indianexpress.com/article/business/companies/ndtv-q2-net-profit-falls-lower-revenue-higher-expenses-8996212/",
         "business"
        ],
        [
         "2",
         "Akasa Air ‘well capitalised’, can grow much faster: CEO Vinay Dube",
         "The initial share sale will be open for public subscription during July 17-19. The bidding for anchor investors will open on July 14, according to the company.",
         "Homegrown server maker Netweb Technologies India on Thursday said it has fixed a price band of Rs 475-500 per share for its Rs 631-crore initial public offering (IPO).\r\nThe initial share sale will be open for public subscription during July 17-19. The bidding for anchor investors will open on July 14, according to the company.\r\nThe IPO comprises a fresh issue of equity shares worth Rs 206 crore and an offer-for-sale (OFS) of 85 lakh equity shares by promoters.\r\nADVERTISEMENT\r\nThose selling shares in the OFS are Sanjay Lodha, Vivek Lodha, Navin Lodha, Niraj Lodha, and Ashoka Bajaj Automobiles LLP.\r\nAlso read | Sensex crosses 66,000 mark for first time ever, Nifty over 19,550; HDFC Bank, IT stocks lead the rally\r\nProceeds to the tune of Rs 32.77 crore will be used to fund capital expenditure, Rs 128.02 crore to support long-term working capital, Rs 22.5 crore for debt payment, besides for general corporate purposes.\r\nThe company through its IPO will fetch Rs 610 crore and Rs 631 crore at the lower and upper end of the price band, respectively.\r\nDelhi NCR-based Netweb Technologies is one of the country’s leading high-end computing solutions (HCS) providers. It is one of the few original equipment manufacturers (OEMs) in the country and is a recipient of production-linked incentives schemes of Government of India.\r\nADVERTISEMENT\r\nHalf of the issue size has been reserved for qualified institutional investors, 35 per cent for retail investors, and the remaining 15 per cent for non-institutional investors.\r\nInvestors can bid for a minimum of 30 shares and in multiples thereof. Last month, the company raised Rs 51 crore from institutional investors in a pre-IPO placement round.\r\nIn fiscal year 2023, the company’s revenue from operations jumped 80 per cent to Rs 445 crore against Rs 247 crore a year ago and net profit more than doubled to Rs 47 crore from Rs 22.45 crore.\r\nADVERTISEMENT\r\nEquirus Capital and IIFL Securities are the book-running lead managers to the issue. Post-IPO, equity shares of the company will be listed on the BSE and NSE.",
         "https://indianexpress.com/article/business/market/netweb-technologies-ipo-price-band-rs-475-500-per-share-8833096/",
         "business"
        ],
        [
         "3",
         "India’s current account deficit declines sharply to 1% of GDP in July-September quarter",
         "The current account deficit (CAD) was 3.8 per cent of GDP or USD 30.9 billion in July-September quarter in 2022-23.",
         "India’s current account deficit declined sharply to 1 per cent of the GDP or USD 8.3 billion in the second quarter of this financial year, mainly due to lower merchandise trade deficit and growth in services exports, according to a RBI data released on Tuesday.\r\nThe current account deficit (CAD) was 3.8 per cent of GDP or USD 30.9 billion in July-September quarter in 2022-23.\r\nCAD was USD 9.2 billion or 1.1 per cent of GDP in the first quarter (April-June) of the current financial year 2023-24.\r\nADVERTISEMENT\r\n“Underlying the lower current account deficit on a year-on-year (y-o-y) basis in Q2:2023-24 was the narrowing of merchandise trade deficit to USD 61.0 billion from USD 78.3 billion in Q2:2022-23,” said the data on Developments in India’s Balance of Payments during the second quarter (July-September) of 2023-24.\r\nServices exports grew by 4.2 per cent on a y-o-y basis on the back of rising exports of software, business and travel services, the Reserve Bank said.\r\nNet services receipts increased both sequentially and on a y-o-y basis, it added.",
         "https://indianexpress.com/article/business/economy/indias-current-account-deficit-declines-1-gdp-july-september-quarter-9083597/",
         "business"
        ],
        [
         "4",
         "States borrowing cost soars to 7.68%, highest so far this fiscal",
         "The prices shot up reflecting the overall higher risk averseness of investors with the rising interest rates.",
         "States have been forced to pay through their nose at the weekly auction of their debt on Tuesday with the weighted average interest rate payable soaring to the highest so far this fiscal at 7.68 per cent, 12 basis points (bps) more than the previous peak at the last auction.\r\nThe prices shot up reflecting the overall higher risk averseness of investors with the rising interest rates along with higher demand, which rose by 14 per cent at the auction in spite of a jump in the average tenor to 15 years from 13 years last week.\r\nEight states raised Rs 9,600 crore through state government securities (SGS) on Tuesday, which is 13.6 per cent higher than the amount indicated for this week in the auction calendar, according to Aditi Nayar, the chief economist at Icra Ratings.\r\nADVERTISEMENT\r\nThe sharp increase in the cutoffs of the 10-year and above issuances in the auction pushed the weighted average cut-off to 7.68 per cent, the highest in FY24 so far, up from 7.56 per cent last week, she said.\r\nThe weighted average tenor also increased to 15 years from 13 years last week.\r\nAs a result, the spread between the cut-off of the 10-year SGS and the 10-year G-sec (7.18 GS 2033) yield also rose to a 20-week high of 37 bps on Tuesday, from 33 bps last week, she said.\r\nCumulatively, the states have drawn down 28 per cent more funds than they had availed of in the same period last year at Rs 3,90,100 crore as of the latest auction today, up from Rs 3,04,700 crore in the year-ago period.",
         "https://indianexpress.com/article/business/economy/states-borrowing-cost-soars-to-7-68-pc-the-highest-so-far-this-fiscal-8976977/",
         "business"
        ]
       ],
       "shape": {
        "columns": 5,
        "rows": 5
       }
      },
      "text/html": [
       "<div>\n",
       "<style scoped>\n",
       "    .dataframe tbody tr th:only-of-type {\n",
       "        vertical-align: middle;\n",
       "    }\n",
       "\n",
       "    .dataframe tbody tr th {\n",
       "        vertical-align: top;\n",
       "    }\n",
       "\n",
       "    .dataframe thead th {\n",
       "        text-align: right;\n",
       "    }\n",
       "</style>\n",
       "<table border=\"1\" class=\"dataframe\">\n",
       "  <thead>\n",
       "    <tr style=\"text-align: right;\">\n",
       "      <th></th>\n",
       "      <th>headlines</th>\n",
       "      <th>description</th>\n",
       "      <th>content</th>\n",
       "      <th>url</th>\n",
       "      <th>category</th>\n",
       "    </tr>\n",
       "  </thead>\n",
       "  <tbody>\n",
       "    <tr>\n",
       "      <th>0</th>\n",
       "      <td>RBI revises definition of politically-exposed ...</td>\n",
       "      <td>The central bank has also asked chairpersons a...</td>\n",
       "      <td>The Reserve Bank of India (RBI) has changed th...</td>\n",
       "      <td>https://indianexpress.com/article/business/ban...</td>\n",
       "      <td>business</td>\n",
       "    </tr>\n",
       "    <tr>\n",
       "      <th>1</th>\n",
       "      <td>NDTV Q2 net profit falls 57.4% to Rs 5.55 cror...</td>\n",
       "      <td>NDTV's consolidated revenue from operations wa...</td>\n",
       "      <td>Broadcaster New Delhi Television Ltd on Monday...</td>\n",
       "      <td>https://indianexpress.com/article/business/com...</td>\n",
       "      <td>business</td>\n",
       "    </tr>\n",
       "    <tr>\n",
       "      <th>2</th>\n",
       "      <td>Akasa Air ‘well capitalised’, can grow much fa...</td>\n",
       "      <td>The initial share sale will be open for public...</td>\n",
       "      <td>Homegrown server maker Netweb Technologies Ind...</td>\n",
       "      <td>https://indianexpress.com/article/business/mar...</td>\n",
       "      <td>business</td>\n",
       "    </tr>\n",
       "    <tr>\n",
       "      <th>3</th>\n",
       "      <td>India’s current account deficit declines sharp...</td>\n",
       "      <td>The current account deficit (CAD) was 3.8 per ...</td>\n",
       "      <td>India’s current account deficit declined sharp...</td>\n",
       "      <td>https://indianexpress.com/article/business/eco...</td>\n",
       "      <td>business</td>\n",
       "    </tr>\n",
       "    <tr>\n",
       "      <th>4</th>\n",
       "      <td>States borrowing cost soars to 7.68%, highest ...</td>\n",
       "      <td>The prices shot up reflecting the overall high...</td>\n",
       "      <td>States have been forced to pay through their n...</td>\n",
       "      <td>https://indianexpress.com/article/business/eco...</td>\n",
       "      <td>business</td>\n",
       "    </tr>\n",
       "  </tbody>\n",
       "</table>\n",
       "</div>"
      ],
      "text/plain": [
       "                                           headlines  \\\n",
       "0  RBI revises definition of politically-exposed ...   \n",
       "1  NDTV Q2 net profit falls 57.4% to Rs 5.55 cror...   \n",
       "2  Akasa Air ‘well capitalised’, can grow much fa...   \n",
       "3  India’s current account deficit declines sharp...   \n",
       "4  States borrowing cost soars to 7.68%, highest ...   \n",
       "\n",
       "                                         description  \\\n",
       "0  The central bank has also asked chairpersons a...   \n",
       "1  NDTV's consolidated revenue from operations wa...   \n",
       "2  The initial share sale will be open for public...   \n",
       "3  The current account deficit (CAD) was 3.8 per ...   \n",
       "4  The prices shot up reflecting the overall high...   \n",
       "\n",
       "                                             content  \\\n",
       "0  The Reserve Bank of India (RBI) has changed th...   \n",
       "1  Broadcaster New Delhi Television Ltd on Monday...   \n",
       "2  Homegrown server maker Netweb Technologies Ind...   \n",
       "3  India’s current account deficit declined sharp...   \n",
       "4  States have been forced to pay through their n...   \n",
       "\n",
       "                                                 url  category  \n",
       "0  https://indianexpress.com/article/business/ban...  business  \n",
       "1  https://indianexpress.com/article/business/com...  business  \n",
       "2  https://indianexpress.com/article/business/mar...  business  \n",
       "3  https://indianexpress.com/article/business/eco...  business  \n",
       "4  https://indianexpress.com/article/business/eco...  business  "
      ]
     },
     "metadata": {},
     "output_type": "display_data"
    },
    {
     "data": {
      "application/vnd.microsoft.datawrangler.viewer.v0+json": {
       "columns": [
        {
         "name": "index",
         "rawType": "int64",
         "type": "integer"
        },
        {
         "name": "headlines",
         "rawType": "object",
         "type": "string"
        },
        {
         "name": "description",
         "rawType": "object",
         "type": "string"
        },
        {
         "name": "content",
         "rawType": "object",
         "type": "string"
        },
        {
         "name": "url",
         "rawType": "object",
         "type": "string"
        },
        {
         "name": "category",
         "rawType": "object",
         "type": "string"
        }
       ],
       "ref": "10ce77db-65f8-470f-bf3a-94d18e641ba9",
       "rows": [
        [
         "0",
         "NLC India wins contract for power supply to Rajasthan at Rs 2.64 per unit",
         "State-owned firm NLC India Ltd (NLCIL) on Monday said it has emerged as the successful bidder for supply of power to Rajasthan at a tariff of Rs 2.64 per unit.",
         "State-owned firm NLC India Ltd (NLCIL) on Monday said it has emerged as the successful bidder for supply of power to Rajasthan at a tariff of Rs 2.64 per unit.\r\nNLCIL is a navratna company under the coal ministry.\r\n“NLCIL has been successful bidder for the total capacity of 810 MW for tariff of Rs 2.64 per unit,” NLCIL said in a filing to BSE.\r\nA letter of intent for the same was issued by RRVUNL.\r\nADVERTISEMENT\r\nThe company had participated in a tender floated by Rajasthan Rajya Vidyut Utpadan Nigam Limited (RRVUNL) for procurement of power from 810 MW Grid Connected Solar photovoltaic power projects to be set up in 2,000 MW Pugal Solar Park in Bikaner, Rajasthan.\r\nNLC India currently has an installed renewable energy (RE) capacity of 1,431.06 MW, while 2,110 MW of RE project is in the pipeline.\r\nThe company proposes to develop RE capacity of 6,031 MW as per its corporate plan 2030.\r\nThis project will offset carbon emissions to the tune of 46,628.56 tonnes considering lifetime electricity generation of approximately 48,170.00 million units.\r\nNLC’s core business is mining and power generation.",
         "https://indianexpress.com/article/business/companies/nlc-india-wins-contract-power-supply-rajasthan-8974456/",
         "business"
        ],
        [
         "1",
         "SBI Clerk prelims exams dates announced; admit card from December 27 at sbi.co.in",
         "SBI Clerk Prelims Exam: The SBI Clerk prelims exam 2024 will be tentatively held on January 5, 6, 11 and 12. The schedule was released at the official SBI website -- sbi.co.in.",
         "SBI Clerk Prelims Exam: The State Bank of Indian (SBI) has announced the exam dates for the junior associate preliminary exams. The schedule was released at the official SBI website — sbi.co.in.\r\nAccording to the official schedule, the SBI Clerk prelims exam 2024 will be tentatively held on January 5, 6, 11 and 12. For these exams, the admit card will be released on December 27.\r\nYou have exhausted your monthly limit of free stories.\r\nRegister to read more stories\r\nContinue With:-\r\nGoogle\r\nFacebook\r\nEmail\r\nAlready have an account? Sign in",
         "https://indianexpress.com/article/education/sbi-clerk-prelims-exams-schedule-admit-card-dec-27-sbi-co-in-9080898/",
         "education"
        ],
        [
         "2",
         "Golden Globes: Michelle Yeoh, Will Ferrell, Angela Bassett will present awards. Here’s what to know",
         "Barbie is the top nominee this year, followed closely by Oppenheimer. The films reflect one unique aspect of the Globes — they split the top film winners into two categories.",
         "Michelle Yeoh, Will Ferrell, Angela Bassett and Amanda Seyfried will be among the presenters at Sunday’s Golden Globe Awards. The show announced its first batch of presenters on Wednesday.\r\nOthers taking the stage will be Julia Garner, George Lopez and Justin Hartley. Yeoh is returning to the Globes a year after she won best actress in a drama film for Everything Everywhere All at Once, delivering a poignant acceptance speech (and a semi-serious threat to beat up the piano player who started to cut her off).\r\nCheck out | Golden Globes 2024 nominations: The complete list\r\nWednesday’s announcement is the latest indicator that stars are likely to return to the show as it continues to attempt a return to form after several scandal-tarnished years. The show is known for its boozy celebration of film and television and as an early stop for awards season contenders. Scandals have led to a membership revamp and a new broadcaster for the Jan 7 show, but a key question remains: Will viewers tune in? Here’s more to know about the 81st Golden Globe Awards.\r\nADVERTISEMENT\r\nHow can I watch the Golden Globes?\r\nViewers in the United States can catch the ceremony, broadcast live from the Beverly Hilton Hotel, beginning at 8 p.m. Eastern. It will air beginning at 5 p.m. on the West Coast. The three-hour show will have a strong lead-in since CBS is airing an NFL game directly before the Globes. CBS says the show will air on its app and stream on Paramount+, but there’s an important caveat. Only Paramount+ subscribers with the Showtime add-on will be able to watch the show live. Otherwise, it’ll be available on the streaming platform on Monday.\r\nJust 3️⃣ MORE DAYS until we are LIVE from the 📍 @beverlyhilton for the 81st Annual #GoldenGlobes!\r\nTune in SUNDAY on @CBS and @paramountplus at 8pm ET/5pm PT pic.twitter.com/SOGznSb9Mt\r\n— Golden Globe Awards (@goldenglobes) January 4, 2024\r\nWhat’s new with the Golden Globes?\r\nThe 81st Golden Globe Awards will be the first major broadcast of the awards season, with a new home on CBS. And while to audiences it might look similar on the surface, it’s been a tumultuous few years behind the scenes following a bombshell report in the Los Angeles Times. The 2021 report found that there were no Black members in the Hollywood Foreign Press Association, which voted on the awards. Stars and studios boycotted the Globes and NBC refused to air it in 2022 as a result. After the group added journalists of colour to its ranks and instituted other reforms to address ethical concerns, the show came back in January 2023 in a one-year probationary agreement with NBC. The network did not opt to renew. In June, billionaire Todd Boehly was granted approval to dissolve the HFPA and reinvent the Golden Globes as a for-profit organization. Its assets were acquired by Boehly’s Eldridge Industries, along with Dick Clark Productions, a group that is owned by Penske Media whose assets also include Variety, Deadline, The Hollywood Reporter, Rolling Stone and Billboard. The show has also added a new award for stand-up comedy, with Chris Rock, Amy Schumer and former Globes host Ricky Gervais among the nominees.\r\nWho’s hosting the Globes?\r\nComedian Jo Koy, who has headlined several Netflix specials and starred in last year’s comedy film “Easter Sunday,” will host the Globes. Organizers cited his “infectious energy and relatable humour” in announcing Koy would headline the event. Hosting the Globes typically requires serving a mix of biting humour to the audience of film and television stars and keeping the ceremony from getting too sloppy. Previous hosts include Ricky Gervais, whose jokes were particularly caustic, the duo of Tina Fey and Amy Poehler and last year’s emcee, Jerrod Carmichael.\r\nThe #GoldenGlobes festivities have popped off with @moetchandon! 🍾\r\nTune in THIS Sunday at 8pm ET | 5pm PT on @CBS and stream on @paramountplus! pic.twitter.com/T6mYHrW4Ps\r\n— Golden Globe Awards (@goldenglobes) January 4, 2024\r\nWhat about 60 Minutes?\r\nThe Globes, and New Year’s Eve celebrations, are keeping 60 Minutes from airing for two weeks. CBS aired New Year’s Eve Live: Nashville’s Big Bash on Sunday. CBS says 60 Minutes will resume on Jan. 14.\r\nGolden Globe nominees\r\nBarbie is the top nominee this year, followed closely by Oppenheimer. The films reflect one unique aspect of the Globes — they split the top film winners into two categories. With Greta Gerwig’s Barbie and Christopher Nolan’s Oppenheimer leading the way, it gives the show a chance to capitalize on the Barbenheimer craze that boosted theatres in 2023. Films nominated for best motion picture drama include Oppenheimer, Martin Scorsese’s Killers of the Flower Moon, Bradley Cooper’s Maestro, Celine Song’s Past Lives, Justine Triet’s Anatomy of a Fall and Jonathan Glazer’s The Zone of Interest. In the best motion picture musical or comedy category, Barbie was joined by Ben Affleck’s Air, Cord Jefferson’s American Fiction, Alexander Payne’s The Holdovers, Todd Haynes’ May December and Yorgos Lanthimos’ Poor Things. Succession was the top-nominated television program, with nine nods including for series stars Brian Cox, Jeremy Strong, Sarah Snook and Kieran Culkin, followed by Hulu’s The Bear.\r\nDon't Miss | Barbie and Succession lead 2024 Golden Globe nominations, Oppenheimer scores 8 nods\r\nWhat are the Globes known for?\r\nThe Golden Globe Awards had long been one of the highest-profile awards season broadcasts, second only to the Oscars. The show was touted as an A-list party whose hosts often took a more irreverent tone than their Academy counterparts. It also only honoured the flashiest filmmaking categories — picture, director, and actors among them — meaning no long speeches from visual effects supervisors or directors of little-known shorts. But the voting body was a small group of around 87 members who wielded incredible influence in the industry and often accepted lavish gifts and travel from studios and awards publicists eager to court favour and win votes.\r\n#GoldenGlobes host, @Jokoy, has been getting ALL the advice! Tune in to the show THIS SUNDAY, Jan 7 @ 8 ET | 5 PT on @CBS and @paramountplus! pic.twitter.com/3Y9TshVBMC\r\n— Golden Globe Awards (@goldenglobes) January 4, 2024\r\nSome years, the HFPA was pilloried for nominating poorly reviewed films with big-name talent in hopes of getting them to the show — the most infamous being The Tourist, with Angelina Jolie and Johnny Depp. In the past decade, they’ve more often overlapped with the Oscars. The show also recognizes television. Before the expose and public relations crisis though, no one in the industry took much umbrage with who was voting on the awards. The show had become an important part of the Hollywood awards ecosystem, a platform for Oscar hopefuls and was, until recently, a reliable ratings draw. As of 2019, the broadcast was still pulling in nearly 19 million viewers. In 2023, NBC’s Tuesday night broadcast got its smallest audience ever for a traditional broadcast, with 6.3 million viewers.\r\nADVERTISEMENT\r\nWho votes on the Globes?\r\nThe group nominating and voting for the awards is now made up of a more diverse group of over 300 people from around the world.\r\nClick for more updates and latest Hollywood News along with Bollywood and Entertainment updates. Also get latest news and top headlines from India and around the World at The Indian Express.",
         "https://indianexpress.com/article/entertainment/hollywood/golden-globes-michelle-yeoh-will-ferrell-angela-bassett-will-present-awards-heres-what-to-know-9096172/",
         "entertainment"
        ],
        [
         "3",
         "OnePlus Nord 3 at Rs 27,999 as part of new price cut: Here’s how",
         "New deal makes the OnePlus Nord 3 an easy purchase under Rs 30k.",
         "In our review of the OnePlus Nord 3 5G, we praised its balanced combination of features and price, noting it was a “great choice for those who want a perfectly-balanced phone.” However, we also concluded that the pricing was a wee bit high for this product tier, likely a result of the OnePlus brand cachet.\r\nWell, a fresh discount has now made this already-appealing phone even more compelling, bringing it below the Rs 30,000 threshold that many buyers psychologically key on.\r\nYou have exhausted your monthly limit of free stories.\r\nRegister to read more stories\r\nContinue With:-\r\nGoogle\r\nFacebook\r\nEmail\r\nAlready have an account? Sign in",
         "https://indianexpress.com/article/technology/tech-news-technology/oneplus-nord-3-5g-price-cut-9088751/",
         "technology"
        ],
        [
         "4",
         "Adani family’s partners used ‘opaque’ funds to invest in its stocks : Report",
         "Citing review of files from multiple tax havens and internal Adani Group emails, nonprofit media organization OCCRP said its investigation found at least two cases where the investors bought and sold Adani stock through such offshore structures.",
         "Millions of dollars were invested in some publicly traded stocks of India’s Adani Group via “opaque” Mauritius funds that “obscured” involvement of alleged business partners of the Adani family, the Organised Crime and Corruption Reporting Project (OCCRP) said in an article on Thursday.\r\nCiting review of files from multiple tax havens and internal Adani Group emails, nonprofit media organization OCCRP said its investigation found at least two cases where the investors bought and sold Adani stock through such offshore structures.\r\nThe OCCRP article comes after U.S.-based short-seller Hindenburg Research in January accused Adani Group of improper business dealings, including the use of offshore entities in tax havens such as Mauritius from where it said certain offshore funds “surreptitiously” owned stock in Adani’s listed firms.\r\nADVERTISEMENT\r\nAdani Group has called Hindenburg’s claims misleading and without evidence and said it always complied with laws. Days following the January report though, Adani group stocks lost $150 billion in market value and remain down around $100 billion following a recovery in recent months after it repaid some debt and regained some investor confidence.\r\nIn a statement to OCCRP, Adani Group said the Mauritius funds investigated by reporters had already been named in the Hindenburg report and the “allegations are not only baseless and unsubstantiated but are rehashed from Hindenburg’s allegations.”\r\nMust Read | Hindenburg report probe: Short selling in Adani shares led to ‘gains’ for 12 firms, ED to SEBI\r\n“It is categorically stated that all the Adani Group’s publicly listed entities are in compliance with all applicable laws including the regulation relating to public share holdings,” it told the OCCRP, according to the news article.\r\nReuters has not independently verified OCCRP’s assertions. Adani Group did not immediately respond to a Reuters request for comment on the OCCRP report.\r\nHindenburg saga, regulatory probe \r\nADVERTISEMENT\r\nThe Hindenburg report hit hard Gautam Adani, the billionaire who leads the ports-to-energy conglomerate and was until January the world’s third-richest person. The crisis forced him to shelve a $2.5 billion share sale and convince banks about his business credentials.\r\nIndia’s Supreme Court later appointed a panel to oversee a market regulator probe based on the Hindenburg report. The panel in May said the regulator had so far “drawn a blank” in investigations into suspected violations in overseas investments in the Adani Group.\r\nLast week, the regulator said its report was nearing completion and its investigation on some offshore deals was taking time as some entities were located in tax haven jurisdictions. The regulator “shall take appropriate action based on outcome of the investigations,” it said. The regulator, Securities and Exchange Board of India (SEBI), did not immediately respond to a Reuters request for comment on the OCCRP report.\r\nADVERTISEMENT\r\nThe OCCRP report on Thursday named two individual investors who made the investments it investigated for its article – Nasser Ali Shaban Ahli and Chang Chung-Ling – described by OCCRP as “longtime business partners” of the Adani family.\r\nExplained | SEBI seeks more time on Adani-Hindenburg report: The case so far\r\nThe media organization said there was no evidence Chang and Ahli’s money for their investments came from the Adani family, but said its reporting and documents – including an agreement, corporate records and an email – showed there “is evidence” that their trading in Adani stock “was coordinated with the family.”\r\n“The question of whether this arrangement is a violation of the law rests on whether Ahli and Chang should be considered to be acting on behalf of Adani ‘promoters,’ a term used in India to refer to the majority owners of a business,” OCCRP said.\r\nExpress Investigation | Exposed & shut, Panama Papers law firm outsourced its offshore deals to Kerala accountant; ED probe on\r\nIf so, OCCRP said, their stake in Adani holdings would exceed the 75% limit allowed for insider ownership. Ahli and Chang did not respond to OCCRP’s requests for comment, the news article said. Reuters could not immediately reach Ahli and Chang for comment.\r\nIn an interview with a reporter from the Guardian, OCCRP said Chang said he knew nothing about any secret purchases of Adani stock. He asked why journalists were not interested in his other investments and said, “We are a simple business.”",
         "https://indianexpress.com/article/business/adani-familys-partners-opaque-funds-invest-stocks-media-group-8917136/",
         "business"
        ]
       ],
       "shape": {
        "columns": 5,
        "rows": 5
       }
      },
      "text/html": [
       "<div>\n",
       "<style scoped>\n",
       "    .dataframe tbody tr th:only-of-type {\n",
       "        vertical-align: middle;\n",
       "    }\n",
       "\n",
       "    .dataframe tbody tr th {\n",
       "        vertical-align: top;\n",
       "    }\n",
       "\n",
       "    .dataframe thead th {\n",
       "        text-align: right;\n",
       "    }\n",
       "</style>\n",
       "<table border=\"1\" class=\"dataframe\">\n",
       "  <thead>\n",
       "    <tr style=\"text-align: right;\">\n",
       "      <th></th>\n",
       "      <th>headlines</th>\n",
       "      <th>description</th>\n",
       "      <th>content</th>\n",
       "      <th>url</th>\n",
       "      <th>category</th>\n",
       "    </tr>\n",
       "  </thead>\n",
       "  <tbody>\n",
       "    <tr>\n",
       "      <th>0</th>\n",
       "      <td>NLC India wins contract for power supply to Ra...</td>\n",
       "      <td>State-owned firm NLC India Ltd (NLCIL) on Mond...</td>\n",
       "      <td>State-owned firm NLC India Ltd (NLCIL) on Mond...</td>\n",
       "      <td>https://indianexpress.com/article/business/com...</td>\n",
       "      <td>business</td>\n",
       "    </tr>\n",
       "    <tr>\n",
       "      <th>1</th>\n",
       "      <td>SBI Clerk prelims exams dates announced; admit...</td>\n",
       "      <td>SBI Clerk Prelims Exam: The SBI Clerk prelims ...</td>\n",
       "      <td>SBI Clerk Prelims Exam: The State Bank of Indi...</td>\n",
       "      <td>https://indianexpress.com/article/education/sb...</td>\n",
       "      <td>education</td>\n",
       "    </tr>\n",
       "    <tr>\n",
       "      <th>2</th>\n",
       "      <td>Golden Globes: Michelle Yeoh, Will Ferrell, An...</td>\n",
       "      <td>Barbie is the top nominee this year, followed ...</td>\n",
       "      <td>Michelle Yeoh, Will Ferrell, Angela Bassett an...</td>\n",
       "      <td>https://indianexpress.com/article/entertainmen...</td>\n",
       "      <td>entertainment</td>\n",
       "    </tr>\n",
       "    <tr>\n",
       "      <th>3</th>\n",
       "      <td>OnePlus Nord 3 at Rs 27,999 as part of new pri...</td>\n",
       "      <td>New deal makes the OnePlus Nord 3 an easy purc...</td>\n",
       "      <td>In our review of the OnePlus Nord 3 5G, we pra...</td>\n",
       "      <td>https://indianexpress.com/article/technology/t...</td>\n",
       "      <td>technology</td>\n",
       "    </tr>\n",
       "    <tr>\n",
       "      <th>4</th>\n",
       "      <td>Adani family’s partners used ‘opaque’ funds to...</td>\n",
       "      <td>Citing review of files from multiple tax haven...</td>\n",
       "      <td>Millions of dollars were invested in some publ...</td>\n",
       "      <td>https://indianexpress.com/article/business/ada...</td>\n",
       "      <td>business</td>\n",
       "    </tr>\n",
       "  </tbody>\n",
       "</table>\n",
       "</div>"
      ],
      "text/plain": [
       "                                           headlines  \\\n",
       "0  NLC India wins contract for power supply to Ra...   \n",
       "1  SBI Clerk prelims exams dates announced; admit...   \n",
       "2  Golden Globes: Michelle Yeoh, Will Ferrell, An...   \n",
       "3  OnePlus Nord 3 at Rs 27,999 as part of new pri...   \n",
       "4  Adani family’s partners used ‘opaque’ funds to...   \n",
       "\n",
       "                                         description  \\\n",
       "0  State-owned firm NLC India Ltd (NLCIL) on Mond...   \n",
       "1  SBI Clerk Prelims Exam: The SBI Clerk prelims ...   \n",
       "2  Barbie is the top nominee this year, followed ...   \n",
       "3  New deal makes the OnePlus Nord 3 an easy purc...   \n",
       "4  Citing review of files from multiple tax haven...   \n",
       "\n",
       "                                             content  \\\n",
       "0  State-owned firm NLC India Ltd (NLCIL) on Mond...   \n",
       "1  SBI Clerk Prelims Exam: The State Bank of Indi...   \n",
       "2  Michelle Yeoh, Will Ferrell, Angela Bassett an...   \n",
       "3  In our review of the OnePlus Nord 3 5G, we pra...   \n",
       "4  Millions of dollars were invested in some publ...   \n",
       "\n",
       "                                                 url       category  \n",
       "0  https://indianexpress.com/article/business/com...       business  \n",
       "1  https://indianexpress.com/article/education/sb...      education  \n",
       "2  https://indianexpress.com/article/entertainmen...  entertainment  \n",
       "3  https://indianexpress.com/article/technology/t...     technology  \n",
       "4  https://indianexpress.com/article/business/ada...       business  "
      ]
     },
     "metadata": {},
     "output_type": "display_data"
    }
   ],
   "source": [
    "train = pd.read_csv(\"Data/processed/train.csv\")\n",
    "test = pd.read_csv(\"Data/processed/test.csv\")\n",
    "\n",
    "# Applying our post inspection changes\n",
    "train.dropna(inplace=True)\n",
    "test.dropna(inplace=True)\n",
    "\n",
    "display(train.head(), test.head())"
   ]
  },
  {
   "cell_type": "markdown",
   "id": "22a30354",
   "metadata": {},
   "source": [
    "## 3. Data Checks"
   ]
  },
  {
   "cell_type": "code",
   "execution_count": 156,
   "id": "2bce1431",
   "metadata": {},
   "outputs": [
    {
     "name": "stdout",
     "output_type": "stream",
     "text": [
      "Null counts (train):\n",
      "headlines      0\n",
      "description    0\n",
      "content        0\n",
      "url            0\n",
      "category       0\n",
      "dtype: int64\n",
      "Null counts (test):\n",
      "headlines      0\n",
      "description    0\n",
      "content        0\n",
      "url            0\n",
      "category       0\n",
      "dtype: int64\n"
     ]
    }
   ],
   "source": [
    "# Null checks\n",
    "print(\"Null counts (train):\")\n",
    "print(train.isnull().sum())\n",
    "print(\"Null counts (test):\")\n",
    "print(test.isnull().sum())"
   ]
  },
  {
   "cell_type": "markdown",
   "id": "50b566a9",
   "metadata": {},
   "source": [
    "Check how frequent each category occurs"
   ]
  },
  {
   "cell_type": "code",
   "execution_count": 157,
   "id": "e7381234",
   "metadata": {},
   "outputs": [
    {
     "data": {
      "application/vnd.microsoft.datawrangler.viewer.v0+json": {
       "columns": [
        {
         "name": "category",
         "rawType": "object",
         "type": "string"
        },
        {
         "name": "0",
         "rawType": "int64",
         "type": "integer"
        }
       ],
       "ref": "7608458b-4d01-493d-ba86-17cd05425655",
       "rows": [
        [
         "business",
         "1120"
        ],
        [
         "education",
         "1520"
        ],
        [
         "entertainment",
         "960"
        ],
        [
         "sports",
         "640"
        ],
        [
         "technology",
         "1280"
        ]
       ],
       "shape": {
        "columns": 1,
        "rows": 5
       }
      },
      "text/plain": [
       "category\n",
       "business         1120\n",
       "education        1520\n",
       "entertainment     960\n",
       "sports            640\n",
       "technology       1280\n",
       "dtype: int64"
      ]
     },
     "metadata": {},
     "output_type": "display_data"
    },
    {
     "data": {
      "application/vnd.microsoft.datawrangler.viewer.v0+json": {
       "columns": [
        {
         "name": "category",
         "rawType": "object",
         "type": "string"
        },
        {
         "name": "0",
         "rawType": "int64",
         "type": "integer"
        }
       ],
       "ref": "ffe585f9-3d2e-440e-a63b-a5dcee08b755",
       "rows": [
        [
         "business",
         "400"
        ],
        [
         "education",
         "400"
        ],
        [
         "entertainment",
         "400"
        ],
        [
         "sports",
         "400"
        ],
        [
         "technology",
         "400"
        ]
       ],
       "shape": {
        "columns": 1,
        "rows": 5
       }
      },
      "text/plain": [
       "category\n",
       "business         400\n",
       "education        400\n",
       "entertainment    400\n",
       "sports           400\n",
       "technology       400\n",
       "dtype: int64"
      ]
     },
     "metadata": {},
     "output_type": "display_data"
    }
   ],
   "source": [
    "display(train.groupby('category').size())\n",
    "display(test.groupby('category').size())\n",
    "        "
   ]
  },
  {
   "cell_type": "markdown",
   "id": "c7326cf5",
   "metadata": {},
   "source": [
    "Check for categories not reflected in the feature data"
   ]
  },
  {
   "cell_type": "code",
   "execution_count": 158,
   "id": "6793a2da",
   "metadata": {},
   "outputs": [
    {
     "data": {
      "application/vnd.microsoft.datawrangler.viewer.v0+json": {
       "columns": [
        {
         "name": "index",
         "rawType": "int64",
         "type": "integer"
        },
        {
         "name": "headlines",
         "rawType": "object",
         "type": "string"
        },
        {
         "name": "description",
         "rawType": "object",
         "type": "string"
        },
        {
         "name": "content",
         "rawType": "object",
         "type": "string"
        },
        {
         "name": "url",
         "rawType": "object",
         "type": "string"
        },
        {
         "name": "category",
         "rawType": "object",
         "type": "string"
        },
        {
         "name": "test",
         "rawType": "object",
         "type": "string"
        },
        {
         "name": "contains",
         "rawType": "bool",
         "type": "boolean"
        }
       ],
       "ref": "5596ef89-492b-44a0-9e28-881e19fa330f",
       "rows": [
        [
         "0",
         "RBI revises definition of politically-exposed persons for KYC purpose",
         "The central bank has also asked chairpersons and chief executives of banks and other financial services, which are into lending business, to make the changes effective immediately.",
         "The Reserve Bank of India (RBI) has changed the definition of Politically-Exposed Persons (PEPs) under its norms, a move that will make it easier for those individuals to carry out various banking transactions, including availing loans.\r\nCertain changes have been made in the RBI’s Know Your Customer (KYC) norms.\r\nThe earlier norms pertaining to PEPs were open-ended and there was a lack of clarity on the definition, apparently leading to issues for bankers, parliamentarians and others. There were also concerns in certain quarters that PEPs were finding it difficult to get loans or open bank accounts.\r\nADVERTISEMENT\r\nIn the amended KYC master direction, the central bank defines PEPs as “individuals who are or have been entrusted with prominent public functions by a foreign country, including the heads of states/governments, senior politicians, senior government or judicial or military officers, senior executives of state-owned corporations and important political party officials”. The new rules also include a person who is entrusted by a foreign country with a public function.\r\nBank accounts of PEPs have additional KYC norms under the current provisions and special due diligence has to be undertaken by a senior bank official. A sub-clause in the master direction in KYC norms issued by way of a circular on February 25, 2016 has been removed by the central bank.\r\nThe central bank has also asked chairpersons and chief executives of banks and other financial services, which are into lending business, to make the changes effective immediately.\r\nLast year, the Centre amended the Prevention of Money Laundering Act (PMLA) to introduce more disclosures for non-government organisations by reporting entities.",
         "https://indianexpress.com/article/business/banking-and-finance/rbi-revises-politically-exposed-persons-kyc-9096600/",
         "business",
         "The Reserve Bank of India (RBI) has changed the definition of Politically-Exposed Persons (PEPs) under its norms, a move that will make it easier for those individuals to carry out various banking transactions, including availing loans.\r\nCertain changes have been made in the RBI’s Know Your Customer (KYC) norms.\r\nThe earlier norms pertaining to PEPs were open-ended and there was a lack of clarity on the definition, apparently leading to issues for bankers, parliamentarians and others. There were also concerns in certain quarters that PEPs were finding it difficult to get loans or open bank accounts.\r\nADVERTISEMENT\r\nIn the amended KYC master direction, the central bank defines PEPs as “individuals who are or have been entrusted with prominent public functions by a foreign country, including the heads of states/governments, senior politicians, senior government or judicial or military officers, senior executives of state-owned corporations and important political party officials”. The new rules also include a person who is entrusted by a foreign country with a public function.\r\nBank accounts of PEPs have additional KYC norms under the current provisions and special due diligence has to be undertaken by a senior bank official. A sub-clause in the master direction in KYC norms issued by way of a circular on February 25, 2016 has been removed by the central bank.\r\nThe central bank has also asked chairpersons and chief executives of banks and other financial services, which are into lending business, to make the changes effective immediately.\r\nLast year, the Centre amended the Prevention of Money Laundering Act (PMLA) to introduce more disclosures for non-government organisations by reporting entities.",
         "True"
        ],
        [
         "1",
         "NDTV Q2 net profit falls 57.4% to Rs 5.55 crore impacted by lower revenue and higher expenses",
         "NDTV's consolidated revenue from operations was Rs 95.55 crore as against Rs 105.8 crore in the year-ago period.",
         "Broadcaster New Delhi Television Ltd on Monday reported a 57.4 per cent decline in consolidated profit after tax at Rs 5.55 crore in the September quarter, impacted by lower revenue and higher expenses.\r\nThe company had posted a consolidated net profit of Rs 13.03 crore in the same quarter last fiscal, New Delhi Television Ltd (NDTV) said in a regulatory filing.\r\nConsolidated revenue from operations was Rs 95.55 crore as against Rs 105.8 crore in the year-ago period, it added.\r\nADVERTISEMENT\r\nTotal expenses were higher at Rs 93.48 crore as compared to Rs 91.93 crore a year ago, the company said.\r\nIn the second quarter, there was a slight bullishness in advertisement spend despite the muted economic environment, it added.\r\nNDTV said it launched two regional channels ‘NDTV Madhya Pradesh/Chhattisgarh’ and ‘NDTV Rajasthan’ in the second quarter (Q2).\r\n“With its focus on expansion and growth, NDTV expects to launch more regional channels in the near future,” the company said.",
         "https://indianexpress.com/article/business/companies/ndtv-q2-net-profit-falls-lower-revenue-higher-expenses-8996212/",
         "business",
         "Broadcaster New Delhi Television Ltd on Monday reported a 57.4 per cent decline in consolidated profit after tax at Rs 5.55 crore in the September quarter, impacted by lower revenue and higher expenses.\r\nThe company had posted a consolidated net profit of Rs 13.03 crore in the same quarter last fiscal, New Delhi Television Ltd (NDTV) said in a regulatory filing.\r\nConsolidated revenue from operations was Rs 95.55 crore as against Rs 105.8 crore in the year-ago period, it added.\r\nADVERTISEMENT\r\nTotal expenses were higher at Rs 93.48 crore as compared to Rs 91.93 crore a year ago, the company said.\r\nIn the second quarter, there was a slight bullishness in advertisement spend despite the muted economic environment, it added.\r\nNDTV said it launched two regional channels ‘NDTV Madhya Pradesh/Chhattisgarh’ and ‘NDTV Rajasthan’ in the second quarter (Q2).\r\n“With its focus on expansion and growth, NDTV expects to launch more regional channels in the near future,” the company said.",
         "False"
        ],
        [
         "2",
         "Akasa Air ‘well capitalised’, can grow much faster: CEO Vinay Dube",
         "The initial share sale will be open for public subscription during July 17-19. The bidding for anchor investors will open on July 14, according to the company.",
         "Homegrown server maker Netweb Technologies India on Thursday said it has fixed a price band of Rs 475-500 per share for its Rs 631-crore initial public offering (IPO).\r\nThe initial share sale will be open for public subscription during July 17-19. The bidding for anchor investors will open on July 14, according to the company.\r\nThe IPO comprises a fresh issue of equity shares worth Rs 206 crore and an offer-for-sale (OFS) of 85 lakh equity shares by promoters.\r\nADVERTISEMENT\r\nThose selling shares in the OFS are Sanjay Lodha, Vivek Lodha, Navin Lodha, Niraj Lodha, and Ashoka Bajaj Automobiles LLP.\r\nAlso read | Sensex crosses 66,000 mark for first time ever, Nifty over 19,550; HDFC Bank, IT stocks lead the rally\r\nProceeds to the tune of Rs 32.77 crore will be used to fund capital expenditure, Rs 128.02 crore to support long-term working capital, Rs 22.5 crore for debt payment, besides for general corporate purposes.\r\nThe company through its IPO will fetch Rs 610 crore and Rs 631 crore at the lower and upper end of the price band, respectively.\r\nDelhi NCR-based Netweb Technologies is one of the country’s leading high-end computing solutions (HCS) providers. It is one of the few original equipment manufacturers (OEMs) in the country and is a recipient of production-linked incentives schemes of Government of India.\r\nADVERTISEMENT\r\nHalf of the issue size has been reserved for qualified institutional investors, 35 per cent for retail investors, and the remaining 15 per cent for non-institutional investors.\r\nInvestors can bid for a minimum of 30 shares and in multiples thereof. Last month, the company raised Rs 51 crore from institutional investors in a pre-IPO placement round.\r\nIn fiscal year 2023, the company’s revenue from operations jumped 80 per cent to Rs 445 crore against Rs 247 crore a year ago and net profit more than doubled to Rs 47 crore from Rs 22.45 crore.\r\nADVERTISEMENT\r\nEquirus Capital and IIFL Securities are the book-running lead managers to the issue. Post-IPO, equity shares of the company will be listed on the BSE and NSE.",
         "https://indianexpress.com/article/business/market/netweb-technologies-ipo-price-band-rs-475-500-per-share-8833096/",
         "business",
         "Homegrown server maker Netweb Technologies India on Thursday said it has fixed a price band of Rs 475-500 per share for its Rs 631-crore initial public offering (IPO).\r\nThe initial share sale will be open for public subscription during July 17-19. The bidding for anchor investors will open on July 14, according to the company.\r\nThe IPO comprises a fresh issue of equity shares worth Rs 206 crore and an offer-for-sale (OFS) of 85 lakh equity shares by promoters.\r\nADVERTISEMENT\r\nThose selling shares in the OFS are Sanjay Lodha, Vivek Lodha, Navin Lodha, Niraj Lodha, and Ashoka Bajaj Automobiles LLP.\r\nAlso read | Sensex crosses 66,000 mark for first time ever, Nifty over 19,550; HDFC Bank, IT stocks lead the rally\r\nProceeds to the tune of Rs 32.77 crore will be used to fund capital expenditure, Rs 128.02 crore to support long-term working capital, Rs 22.5 crore for debt payment, besides for general corporate purposes.\r\nThe company through its IPO will fetch Rs 610 crore and Rs 631 crore at the lower and upper end of the price band, respectively.\r\nDelhi NCR-based Netweb Technologies is one of the country’s leading high-end computing solutions (HCS) providers. It is one of the few original equipment manufacturers (OEMs) in the country and is a recipient of production-linked incentives schemes of Government of India.\r\nADVERTISEMENT\r\nHalf of the issue size has been reserved for qualified institutional investors, 35 per cent for retail investors, and the remaining 15 per cent for non-institutional investors.\r\nInvestors can bid for a minimum of 30 shares and in multiples thereof. Last month, the company raised Rs 51 crore from institutional investors in a pre-IPO placement round.\r\nIn fiscal year 2023, the company’s revenue from operations jumped 80 per cent to Rs 445 crore against Rs 247 crore a year ago and net profit more than doubled to Rs 47 crore from Rs 22.45 crore.\r\nADVERTISEMENT\r\nEquirus Capital and IIFL Securities are the book-running lead managers to the issue. Post-IPO, equity shares of the company will be listed on the BSE and NSE.",
         "False"
        ],
        [
         "3",
         "India’s current account deficit declines sharply to 1% of GDP in July-September quarter",
         "The current account deficit (CAD) was 3.8 per cent of GDP or USD 30.9 billion in July-September quarter in 2022-23.",
         "India’s current account deficit declined sharply to 1 per cent of the GDP or USD 8.3 billion in the second quarter of this financial year, mainly due to lower merchandise trade deficit and growth in services exports, according to a RBI data released on Tuesday.\r\nThe current account deficit (CAD) was 3.8 per cent of GDP or USD 30.9 billion in July-September quarter in 2022-23.\r\nCAD was USD 9.2 billion or 1.1 per cent of GDP in the first quarter (April-June) of the current financial year 2023-24.\r\nADVERTISEMENT\r\n“Underlying the lower current account deficit on a year-on-year (y-o-y) basis in Q2:2023-24 was the narrowing of merchandise trade deficit to USD 61.0 billion from USD 78.3 billion in Q2:2022-23,” said the data on Developments in India’s Balance of Payments during the second quarter (July-September) of 2023-24.\r\nServices exports grew by 4.2 per cent on a y-o-y basis on the back of rising exports of software, business and travel services, the Reserve Bank said.\r\nNet services receipts increased both sequentially and on a y-o-y basis, it added.",
         "https://indianexpress.com/article/business/economy/indias-current-account-deficit-declines-1-gdp-july-september-quarter-9083597/",
         "business",
         "India’s current account deficit declined sharply to 1 per cent of the GDP or USD 8.3 billion in the second quarter of this financial year, mainly due to lower merchandise trade deficit and growth in services exports, according to a RBI data released on Tuesday.\r\nThe current account deficit (CAD) was 3.8 per cent of GDP or USD 30.9 billion in July-September quarter in 2022-23.\r\nCAD was USD 9.2 billion or 1.1 per cent of GDP in the first quarter (April-June) of the current financial year 2023-24.\r\nADVERTISEMENT\r\n“Underlying the lower current account deficit on a year-on-year (y-o-y) basis in Q2:2023-24 was the narrowing of merchandise trade deficit to USD 61.0 billion from USD 78.3 billion in Q2:2022-23,” said the data on Developments in India’s Balance of Payments during the second quarter (July-September) of 2023-24.\r\nServices exports grew by 4.2 per cent on a y-o-y basis on the back of rising exports of software, business and travel services, the Reserve Bank said.\r\nNet services receipts increased both sequentially and on a y-o-y basis, it added.",
         "True"
        ],
        [
         "4",
         "States borrowing cost soars to 7.68%, highest so far this fiscal",
         "The prices shot up reflecting the overall higher risk averseness of investors with the rising interest rates.",
         "States have been forced to pay through their nose at the weekly auction of their debt on Tuesday with the weighted average interest rate payable soaring to the highest so far this fiscal at 7.68 per cent, 12 basis points (bps) more than the previous peak at the last auction.\r\nThe prices shot up reflecting the overall higher risk averseness of investors with the rising interest rates along with higher demand, which rose by 14 per cent at the auction in spite of a jump in the average tenor to 15 years from 13 years last week.\r\nEight states raised Rs 9,600 crore through state government securities (SGS) on Tuesday, which is 13.6 per cent higher than the amount indicated for this week in the auction calendar, according to Aditi Nayar, the chief economist at Icra Ratings.\r\nADVERTISEMENT\r\nThe sharp increase in the cutoffs of the 10-year and above issuances in the auction pushed the weighted average cut-off to 7.68 per cent, the highest in FY24 so far, up from 7.56 per cent last week, she said.\r\nThe weighted average tenor also increased to 15 years from 13 years last week.\r\nAs a result, the spread between the cut-off of the 10-year SGS and the 10-year G-sec (7.18 GS 2033) yield also rose to a 20-week high of 37 bps on Tuesday, from 33 bps last week, she said.\r\nCumulatively, the states have drawn down 28 per cent more funds than they had availed of in the same period last year at Rs 3,90,100 crore as of the latest auction today, up from Rs 3,04,700 crore in the year-ago period.",
         "https://indianexpress.com/article/business/economy/states-borrowing-cost-soars-to-7-68-pc-the-highest-so-far-this-fiscal-8976977/",
         "business",
         "States have been forced to pay through their nose at the weekly auction of their debt on Tuesday with the weighted average interest rate payable soaring to the highest so far this fiscal at 7.68 per cent, 12 basis points (bps) more than the previous peak at the last auction.\r\nThe prices shot up reflecting the overall higher risk averseness of investors with the rising interest rates along with higher demand, which rose by 14 per cent at the auction in spite of a jump in the average tenor to 15 years from 13 years last week.\r\nEight states raised Rs 9,600 crore through state government securities (SGS) on Tuesday, which is 13.6 per cent higher than the amount indicated for this week in the auction calendar, according to Aditi Nayar, the chief economist at Icra Ratings.\r\nADVERTISEMENT\r\nThe sharp increase in the cutoffs of the 10-year and above issuances in the auction pushed the weighted average cut-off to 7.68 per cent, the highest in FY24 so far, up from 7.56 per cent last week, she said.\r\nThe weighted average tenor also increased to 15 years from 13 years last week.\r\nAs a result, the spread between the cut-off of the 10-year SGS and the 10-year G-sec (7.18 GS 2033) yield also rose to a 20-week high of 37 bps on Tuesday, from 33 bps last week, she said.\r\nCumulatively, the states have drawn down 28 per cent more funds than they had availed of in the same period last year at Rs 3,90,100 crore as of the latest auction today, up from Rs 3,04,700 crore in the year-ago period.",
         "False"
        ],
        [
         "5",
         "India’s Russian oil imports slip in Oct, Saudi supply rebounds from Sep low",
         "Russian crude accounted for nearly 35 per cent of India’s oil imports in October, followed by Iraq with 21 per cent, and Saudi Arabia with an 18 per cent share.",
         "India’s oil imports from Russia averaged 1.57 million barrels per day (million bpd) in October, down from 1.78 million bpd in September, as per Kpler data. India’s overall oil imports for the month, however, rose 8.1 per cent sequentially to 4.50 million bpd, mainly on the back of higher imports from Riyadh.\r\nRussian crude accounted for nearly 35 per cent of India’s oil imports in October, followed by Iraq with 21 per cent, and Saudi Arabia with an 18 per cent share.\r\nThis story is subscriber only!\r\n\r\nNow subscribe at a special Republic Day offer of Rs 75/month.\r\nSubscribe Now\r\nAlready a subscriber? Sign in",
         "https://indianexpress.com/article/business/commodities/indias-russian-oil-imports-slip-in-oct-saudi-supply-rebounds-from-sep-low-9008191/",
         "business",
         "India’s oil imports from Russia averaged 1.57 million barrels per day (million bpd) in October, down from 1.78 million bpd in September, as per Kpler data. India’s overall oil imports for the month, however, rose 8.1 per cent sequentially to 4.50 million bpd, mainly on the back of higher imports from Riyadh.\r\nRussian crude accounted for nearly 35 per cent of India’s oil imports in October, followed by Iraq with 21 per cent, and Saudi Arabia with an 18 per cent share.\r\nThis story is subscriber only!\r\n\r\nNow subscribe at a special Republic Day offer of Rs 75/month.\r\nSubscribe Now\r\nAlready a subscriber? Sign in",
         "False"
        ],
        [
         "6",
         "Neelkanth Mishra appointed part-time chairperson of UIDAI, Neelesh Shah and Prof Mausam join as members",
         "The board of the UIDAI comprises a chairperson, two part-time members, and the chief executive officer, who is also the Member-Secretary of the Authority.",
         "Neelkanth Mishra, chief economist at Axis Bank, has been appointed as part-time chairperson of the Unique Identification Authority of India (UIDAI) while Nilesh Shah, the managing director of Kotak Mahindra Asset Management Company Ltd, has been appointed as a part-time member of the Aadhaar agency.\r\nMishra’s appointment as the UIDAI’s part-time chairperson means that he is now a part of some of the most high-profile government offices; he is also a part-time member of the Economic Advisory Committee to the Prime Minister (PM-EAC); and a member of the advisory committee of the India Semiconductor Mission, which vets chip applications in India.",
         "https://indianexpress.com/article/business/economy/neelkanth-mishra-uidai-chairperson-neelesh-shah-prof-mausam-members-8903409/",
         "business",
         "Neelkanth Mishra, chief economist at Axis Bank, has been appointed as part-time chairperson of the Unique Identification Authority of India (UIDAI) while Nilesh Shah, the managing director of Kotak Mahindra Asset Management Company Ltd, has been appointed as a part-time member of the Aadhaar agency.\r\nMishra’s appointment as the UIDAI’s part-time chairperson means that he is now a part of some of the most high-profile government offices; he is also a part-time member of the Economic Advisory Committee to the Prime Minister (PM-EAC); and a member of the advisory committee of the India Semiconductor Mission, which vets chip applications in India.",
         "False"
        ],
        [
         "7",
         "Centre issues advisory to social media platforms over deepfakes after viral ‘Rashmika Mandanna’ video",
         "The IT ministry had earlier also issued advisories to the chief compliance officers of various social media platforms after it received reports regarding the potential use of AI-generated deepfakes.",
         "The Ministry of Electronics and IT (MeitY) has sent advisories to social media platforms, including Facebook, Instagram and YouTube, to take down misleading content generated through artificial intelligence – deepfakes – within 24 hours.\r\nThe advisory comes a day after a deepfake of actor Rashmika Mandanna went viral on social media platforms. The ministry had issued a similar advisory to the platforms in February this year.\r\nRegister to continue reading this story\r\nGoogle\r\nFacebook\r\nEmail\r\nAlready have an account? Sign in",
         "https://indianexpress.com/article/business/centre-deepfake-advisory-to-social-media-platforms-9017283/",
         "business",
         "The Ministry of Electronics and IT (MeitY) has sent advisories to social media platforms, including Facebook, Instagram and YouTube, to take down misleading content generated through artificial intelligence – deepfakes – within 24 hours.\r\nThe advisory comes a day after a deepfake of actor Rashmika Mandanna went viral on social media platforms. The ministry had issued a similar advisory to the platforms in February this year.\r\nRegister to continue reading this story\r\nGoogle\r\nFacebook\r\nEmail\r\nAlready have an account? Sign in",
         "False"
        ],
        [
         "8",
         "Asian shares rise after eased pressure on bonds pushes Wall Street higher",
         "US futures were little changed and oil prices rose slightly.",
         "Shares advanced Wednesday in Asia, tracking Wall Street gains following an easing of pressure from the bond market.\r\nUS futures were little changed and oil prices rose slightly.\r\nIn China, investor sentiment got a boost from a report by Bloomberg, citing unnamed sources, that the government is considering boosting spending on construction to support the economy.\r\nADVERTISEMENT\r\nChina’s lackluster recovery from the blows to its economy during the COVID-19 pandemic have weighed heavily on regional and global growth.\r\nThe Hang Seng in Hong Kong added 1.4 per cent to 17,919.55 and the Shanghai Composite index was up 0.2 per cent at 3,081.22.\r\nTokyo’s Nikkei 225 index climbed 0.9 per cent to 32,019.42.\r\nIn South Korea, the Kospi jumped 2.5 per cent, to 2,462.10 after Samsung Electronics reported improved quarterly earnings. Samsung’s shares surged 4.4 per cent, while SK Hynix’s were up 3.3 per cent. Analysts say the worst of the post-pandemic contraction in demand for computer chips and electronic devices may be over.\r\nAustralia’s S&P/ASX 200 advanced 0.6 per cent to 7,085.70. In India, the Sensex added 0.7 per cent and in Bangkok the SET was up 0.8 per cent.\r\nADVERTISEMENT\r\nInvestors have taken heart amid signs that upward pressure on inflation in many economies may be easing, which would enable the Federal Reserve and other central banks to halt or reverse aggressive interest rate hikes meant to curb rising prices.\r\nOn Tuesday, the S&P 500 gained 0.5 per cent to 4,358.24. The Dow Jones Industrial Average rose 0.4 per cent to 33,739.30, and the Nasdaq composite climbed 0.6 per cent to 13,562.84.\r\nPepsiCo rose 1.9 per cent after it reported stronger profit and revenue for its latest quarter than analysts expected.\r\nADVERTISEMENT\r\nSome of the strongest action was in the bond market, where Treasury yields eased after trading resumed following a holiday on Monday. It was the first opportunity for yields to move since the weekend’s surprise attack by Hamas on Israel injected caution into global markets.\r\nPerhaps more impactfully, it was also the first trading for Treasurys since speeches by Federal Reserve officials that traders took as a suggestion the Fed may not raise its main interest rate again. The comments helped US stocks swing from early losses to gains on Monday.\r\nThe yield on the 10-year Treasury has fallen to 4.64 per cent from 4.80 per cent late Friday, which is a considerable move for the bond market. The two-year Treasury yield, which moves more closely with expectations for the Fed’s actions, sank to 4.97 per cent from 5.09 per cent.\r\nTreasury yields had jumped last week to their highest levels in more than a decade, following the lead of the Fed’s main interest rate, which is at heights unseen since 2001. They’ve been the main reason for the stock market’s stumbles since the summer, as worries rise that the Fed will keep its federal funds rate at a high level for longer than Wall Street hopes.\r\nHigh rates and longer-term yields knock down prices for stocks and other investments, while slowing the economy in hopes of undercutting high inflation.\r\nADVERTISEMENT\r\nBut the swift rise in the 10-year Treasury yield has helped pull the average long-term mortgage rate up to its highest level since 2000, and Fed officials have intimated such moves may help contain high inflation on their own.\r\n“I actually don’t think we need to increase rates anymore,” Raphael Bostic, president of the Federal Reserve Bank of Atlanta, said in remarks before the American Bankers Association on Tuesday. “I think we are at a good place in that regard.” The Fed’s next announcement on interest rates is due Nov. 1. Traders are now betting on a nearly 73 per cent chance that the year will end without any more Fed rate hikes, according to data from CME Group. That’s up from the 53 per cent chance seen a week ago.\r\nADVERTISEMENT\r\nIn other trading, a barrel of US crude picked up 24 cents to USD 86.21 per barrel in electronic trading on the New York Mercantile Exchange. It fell 41 cents to settle at USD 85.97 on Tuesday, giving back a bit of its USD 3.59 leap a day before due to the fighting in the Middle East.\r\nBrent crude, the international standard, was up 30 cents at USD 87.95 per barrel. It fell 50 cents to USD 87.50 per barrel on Tuesday.\r\nADVERTISEMENT\r\nThe US dollar rose to 148.88 Japanese yen from 148.72 yen. The euro slipped to USD 1.0604 from USD 1.0608.",
         "https://indianexpress.com/article/business/world-market/asian-shares-rise-eased-pressure-bonds-pushes-wall-street-higher-8977586/",
         "business",
         "Shares advanced Wednesday in Asia, tracking Wall Street gains following an easing of pressure from the bond market.\r\nUS futures were little changed and oil prices rose slightly.\r\nIn China, investor sentiment got a boost from a report by Bloomberg, citing unnamed sources, that the government is considering boosting spending on construction to support the economy.\r\nADVERTISEMENT\r\nChina’s lackluster recovery from the blows to its economy during the COVID-19 pandemic have weighed heavily on regional and global growth.\r\nThe Hang Seng in Hong Kong added 1.4 per cent to 17,919.55 and the Shanghai Composite index was up 0.2 per cent at 3,081.22.\r\nTokyo’s Nikkei 225 index climbed 0.9 per cent to 32,019.42.\r\nIn South Korea, the Kospi jumped 2.5 per cent, to 2,462.10 after Samsung Electronics reported improved quarterly earnings. Samsung’s shares surged 4.4 per cent, while SK Hynix’s were up 3.3 per cent. Analysts say the worst of the post-pandemic contraction in demand for computer chips and electronic devices may be over.\r\nAustralia’s S&P/ASX 200 advanced 0.6 per cent to 7,085.70. In India, the Sensex added 0.7 per cent and in Bangkok the SET was up 0.8 per cent.\r\nADVERTISEMENT\r\nInvestors have taken heart amid signs that upward pressure on inflation in many economies may be easing, which would enable the Federal Reserve and other central banks to halt or reverse aggressive interest rate hikes meant to curb rising prices.\r\nOn Tuesday, the S&P 500 gained 0.5 per cent to 4,358.24. The Dow Jones Industrial Average rose 0.4 per cent to 33,739.30, and the Nasdaq composite climbed 0.6 per cent to 13,562.84.\r\nPepsiCo rose 1.9 per cent after it reported stronger profit and revenue for its latest quarter than analysts expected.\r\nADVERTISEMENT\r\nSome of the strongest action was in the bond market, where Treasury yields eased after trading resumed following a holiday on Monday. It was the first opportunity for yields to move since the weekend’s surprise attack by Hamas on Israel injected caution into global markets.\r\nPerhaps more impactfully, it was also the first trading for Treasurys since speeches by Federal Reserve officials that traders took as a suggestion the Fed may not raise its main interest rate again. The comments helped US stocks swing from early losses to gains on Monday.\r\nThe yield on the 10-year Treasury has fallen to 4.64 per cent from 4.80 per cent late Friday, which is a considerable move for the bond market. The two-year Treasury yield, which moves more closely with expectations for the Fed’s actions, sank to 4.97 per cent from 5.09 per cent.\r\nTreasury yields had jumped last week to their highest levels in more than a decade, following the lead of the Fed’s main interest rate, which is at heights unseen since 2001. They’ve been the main reason for the stock market’s stumbles since the summer, as worries rise that the Fed will keep its federal funds rate at a high level for longer than Wall Street hopes.\r\nHigh rates and longer-term yields knock down prices for stocks and other investments, while slowing the economy in hopes of undercutting high inflation.\r\nADVERTISEMENT\r\nBut the swift rise in the 10-year Treasury yield has helped pull the average long-term mortgage rate up to its highest level since 2000, and Fed officials have intimated such moves may help contain high inflation on their own.\r\n“I actually don’t think we need to increase rates anymore,” Raphael Bostic, president of the Federal Reserve Bank of Atlanta, said in remarks before the American Bankers Association on Tuesday. “I think we are at a good place in that regard.” The Fed’s next announcement on interest rates is due Nov. 1. Traders are now betting on a nearly 73 per cent chance that the year will end without any more Fed rate hikes, according to data from CME Group. That’s up from the 53 per cent chance seen a week ago.\r\nADVERTISEMENT\r\nIn other trading, a barrel of US crude picked up 24 cents to USD 86.21 per barrel in electronic trading on the New York Mercantile Exchange. It fell 41 cents to settle at USD 85.97 on Tuesday, giving back a bit of its USD 3.59 leap a day before due to the fighting in the Middle East.\r\nBrent crude, the international standard, was up 30 cents at USD 87.95 per barrel. It fell 50 cents to USD 87.50 per barrel on Tuesday.\r\nADVERTISEMENT\r\nThe US dollar rose to 148.88 Japanese yen from 148.72 yen. The euro slipped to USD 1.0604 from USD 1.0608.",
         "False"
        ],
        [
         "9",
         "India’s demand for electricity for ACs to exceed total power consumption of Africa: International Energy Agency",
         "India's demand for electricity for running household air conditioners is estimated to expand nine-fold by 2050 and will exceed total power consumption in the whole of Africa today, the International Energy Agency (IEA) said on Tuesday.",
         "nrIndia’s demand for electricity for running household air conditioners is estimated to expand nine-fold by 2050 and will exceed total power consumption in the whole of Africa today, the International Energy Agency (IEA) said on Tuesday.\r\nIn its latest World Energy Outlook, IEA said India will see the largest energy demand growth of any country or region in the world over the next three decades.\r\nIt projected India’s energy supply to rise from 42 exajoules (EJ) in 2022 to 53.7 EJ in 2030 and 73 EJ in 2050 under stated policies scenarios and 47.6 EJ by 2030 and 60.3 EJ by 2050 as per announced pledges.\r\nADVERTISEMENT\r\nOil demand is seen rising from 5.2 million barrels per day (bpd) in 2022 to 6.8 million bpd in 2030 and 7.8 million bpd in 2050 under stated policies scenario. Under announced pledges, this demand is seeking 6.2 million bpd in 2030 and 4.7 million bpd in 2050.\r\nIEA said over the past five decades, India witnessed over 700 heatwave events, which have claimed over 17,000 lives. Fuelled by its geographic and meteorological conditions, air conditioner ownership in India has been steadily rising with growing incomes, tripling since 2010 to reach 24 units per 100 households.\r\n“The impact of cooling needs on electricity consumption is already clear,” the Paris-based agency said.\r\n“Electricity demand is sensitive to temperatures, and in India’s case there is a sharp increase in demand as temperatures cross the 25-degree Celsius threshold..\r\nADVERTISEMENT\r\nElectricity consumption due to space cooling increased 21 per cent between 2019 and 2022, and today nearly 10 per cent of electricity demand comes from space cooling requirements.\r\n“Household air conditioner ownership is estimated to expand ninefold by 2050 across the IEA scenarios, outpacing the growth in ownership of every other major household appliance including televisions, refrigerators and washing machines,” it said.\r\n“Residential electricity demand from cooling increases ninefold in the Stated Policies Scenario (STEPS) by 2050..\r\nADVERTISEMENT\r\nIEA said by 2050, “India’s total electricity demand from residential air conditioners in the STEPS exceeds total electricity consumption in the whole of Africa today..\r\nIn the Announced Pledges Scenario (APS), however, electricity demand for air conditioners is nearly 15 per cent lower in 2050 as it is in the STEPS as a result of increased use of energy-efficient air conditioners and thermal insulation in buildings. “This reduction itself is larger than the total electricity generation by several countries today, such as that of the Netherlands”.\r\nThe growth in ownership and use of air conditioners and other cooling equipment is one of the key drivers of the increase in peak electricity demand in India.\r\nIn the STEPS, peak electricity demand rise around 60 per cent from the 2022 level by 2030 and cooling accounts for nearly half of this increase.\r\nIn the APS, however, the implementation of building codes, the use of more efficient appliances and the adoption of demand response measures enable the same cooling needs to be met with less energy. This reduces peak electricity demand growth by nearly one-quarter compared to the STEPS. Given that the electricity system is sized to meet peak demand, lower peak demand helps to lower electricity investment needs and system costs.\r\nADVERTISEMENT\r\nAlthough solar PV matches well with daytime cooling needs, cooling demand is also significant in India during the late evening and at night.\r\n“Lowering cooling demand through energy efficiency policies therefore reduces the need for investment in batteries or expensive standby generation capacity, and thus helps to integrate renewables more cost effectively,” IEA said.\r\nADVERTISEMENT\r\nIEA said India is moving into a dynamic new phase in its energy development marked by a long-term net zero emissions ambition, increased regulatory sophistication, a focus on clean energy deployment, and the creation of domestic clean energy technology supply chains.\r\nRecognising the potential to transform its energy sector and reduce the import burden of fossil fuels while reducing CO2 emissions, India has announced a net zero emissions target by 2070, and has put in place policies to scale up clean energy supply and clean technology manufacturing.\r\nADVERTISEMENT\r\n“While clean energy investment in India more than doubles in the STEPS by 2030 from around USD 60 billion in 2022, investment needs to nearly triple by the end of this decade to be on a trajectory to meet its net zero emissions target, which is reflected in the APS,” it said.\r\nAlthough India’s population growth has slowed to reach replacement levels, its urban population increases by 74 per cent and per capita income triples by 2050. Industrial output expands rapidly, for example through a tripling of output of iron and steel, and doubling of cement, plus there is a ninefold increase in residential air conditioner ownership by 2050.\r\n“As a result, demand for oil and natural gas increases in the STEPS by nearly 70 per cent between 2022 and 2050, while coal demand increases by 10 per cent, even as solar PV makes inroads into electricity generation. As a result, India’s annual CO2 emissions still rise nearly 30 per cent by 2050, which is one of the largest increases in the world,” the outlook said.\r\nIn the APS, the increase in clean energy investment changes the outlook. In the STEPS, solar provides nearly 45 per cent of total generated power by 2050; in the APS, it crosses 50 per cent. In both the STEPS and APS, India achieves its target of 50 per cent non-fossil power generation capacity by 2030.\r\nClean energy investment in the APS over and above those in the STEPS also drives faster growth in electromobility, low-emissions hydrogen, grid expansions and other clean energy infrastructure.\r\n“As a result, India’s annual CO2 emissions fall sharply in the APS by over 40 per cent from current levels by 2050, even though its GDP quadruples over this period,” it added.",
         "https://indianexpress.com/article/business/economy/india-electricity-demand-ac-exceed-total-power-consumption-africa-iea-8997377/",
         "business",
         "nrIndia’s demand for electricity for running household air conditioners is estimated to expand nine-fold by 2050 and will exceed total power consumption in the whole of Africa today, the International Energy Agency (IEA) said on Tuesday.\r\nIn its latest World Energy Outlook, IEA said India will see the largest energy demand growth of any country or region in the world over the next three decades.\r\nIt projected India’s energy supply to rise from 42 exajoules (EJ) in 2022 to 53.7 EJ in 2030 and 73 EJ in 2050 under stated policies scenarios and 47.6 EJ by 2030 and 60.3 EJ by 2050 as per announced pledges.\r\nADVERTISEMENT\r\nOil demand is seen rising from 5.2 million barrels per day (bpd) in 2022 to 6.8 million bpd in 2030 and 7.8 million bpd in 2050 under stated policies scenario. Under announced pledges, this demand is seeking 6.2 million bpd in 2030 and 4.7 million bpd in 2050.\r\nIEA said over the past five decades, India witnessed over 700 heatwave events, which have claimed over 17,000 lives. Fuelled by its geographic and meteorological conditions, air conditioner ownership in India has been steadily rising with growing incomes, tripling since 2010 to reach 24 units per 100 households.\r\n“The impact of cooling needs on electricity consumption is already clear,” the Paris-based agency said.\r\n“Electricity demand is sensitive to temperatures, and in India’s case there is a sharp increase in demand as temperatures cross the 25-degree Celsius threshold..\r\nADVERTISEMENT\r\nElectricity consumption due to space cooling increased 21 per cent between 2019 and 2022, and today nearly 10 per cent of electricity demand comes from space cooling requirements.\r\n“Household air conditioner ownership is estimated to expand ninefold by 2050 across the IEA scenarios, outpacing the growth in ownership of every other major household appliance including televisions, refrigerators and washing machines,” it said.\r\n“Residential electricity demand from cooling increases ninefold in the Stated Policies Scenario (STEPS) by 2050..\r\nADVERTISEMENT\r\nIEA said by 2050, “India’s total electricity demand from residential air conditioners in the STEPS exceeds total electricity consumption in the whole of Africa today..\r\nIn the Announced Pledges Scenario (APS), however, electricity demand for air conditioners is nearly 15 per cent lower in 2050 as it is in the STEPS as a result of increased use of energy-efficient air conditioners and thermal insulation in buildings. “This reduction itself is larger than the total electricity generation by several countries today, such as that of the Netherlands”.\r\nThe growth in ownership and use of air conditioners and other cooling equipment is one of the key drivers of the increase in peak electricity demand in India.\r\nIn the STEPS, peak electricity demand rise around 60 per cent from the 2022 level by 2030 and cooling accounts for nearly half of this increase.\r\nIn the APS, however, the implementation of building codes, the use of more efficient appliances and the adoption of demand response measures enable the same cooling needs to be met with less energy. This reduces peak electricity demand growth by nearly one-quarter compared to the STEPS. Given that the electricity system is sized to meet peak demand, lower peak demand helps to lower electricity investment needs and system costs.\r\nADVERTISEMENT\r\nAlthough solar PV matches well with daytime cooling needs, cooling demand is also significant in India during the late evening and at night.\r\n“Lowering cooling demand through energy efficiency policies therefore reduces the need for investment in batteries or expensive standby generation capacity, and thus helps to integrate renewables more cost effectively,” IEA said.\r\nADVERTISEMENT\r\nIEA said India is moving into a dynamic new phase in its energy development marked by a long-term net zero emissions ambition, increased regulatory sophistication, a focus on clean energy deployment, and the creation of domestic clean energy technology supply chains.\r\nRecognising the potential to transform its energy sector and reduce the import burden of fossil fuels while reducing CO2 emissions, India has announced a net zero emissions target by 2070, and has put in place policies to scale up clean energy supply and clean technology manufacturing.\r\nADVERTISEMENT\r\n“While clean energy investment in India more than doubles in the STEPS by 2030 from around USD 60 billion in 2022, investment needs to nearly triple by the end of this decade to be on a trajectory to meet its net zero emissions target, which is reflected in the APS,” it said.\r\nAlthough India’s population growth has slowed to reach replacement levels, its urban population increases by 74 per cent and per capita income triples by 2050. Industrial output expands rapidly, for example through a tripling of output of iron and steel, and doubling of cement, plus there is a ninefold increase in residential air conditioner ownership by 2050.\r\n“As a result, demand for oil and natural gas increases in the STEPS by nearly 70 per cent between 2022 and 2050, while coal demand increases by 10 per cent, even as solar PV makes inroads into electricity generation. As a result, India’s annual CO2 emissions still rise nearly 30 per cent by 2050, which is one of the largest increases in the world,” the outlook said.\r\nIn the APS, the increase in clean energy investment changes the outlook. In the STEPS, solar provides nearly 45 per cent of total generated power by 2050; in the APS, it crosses 50 per cent. In both the STEPS and APS, India achieves its target of 50 per cent non-fossil power generation capacity by 2030.\r\nClean energy investment in the APS over and above those in the STEPS also drives faster growth in electromobility, low-emissions hydrogen, grid expansions and other clean energy infrastructure.\r\n“As a result, India’s annual CO2 emissions fall sharply in the APS by over 40 per cent from current levels by 2050, even though its GDP quadruples over this period,” it added.",
         "False"
        ],
        [
         "10",
         "Sensex slips 180 pts, Nifty falls to 19,387; JioFin’s losing streak continues, Reliance, L&T weigh",
         "Jio Financial Services continued its downward rally for the fourth day straight and hit 5 per cent lower circuit. The stock was locked at Rs 213.45 in the lower circuit today.",
         "After opening higher, domestic equities slumped on Thursday as Sensex slipped 661.43 points from its day’s high to close at 65,252.34, down 180.96 points, or 0.28 per cent. Meanwhile, broader NSE Nifty50 fell 57.30 points, or 0.29 per cent to 19,386.70.\r\nBroader markets were largely mixed as Nifty Midcap 50 gained 0.45 per cent, Nifty Midcap Select rose 0.30 per cent, and Nifty Midcap 150 rose 0.27 per cent. On the other hand, Nifty Smallcap 100 slipped 0.35 per cent, Nifty Smallcap 50 fell 0.32 per cent, and Nifty 100 tanked 0.20 per cent.\r\nSectorally, Nifty IT soared 0.61 per cent, Nifty FMCG slipped 0.29 per cent, and realty rose 0.20 per cent. On the other hand, sectors that saw the most losses were Nifty Healthcare Index at 0.78 per cent, Nifty PSU Bank at 0.65 per cent, the pharma sector slipped 0.58 per cent, and oil & gas index fell 0.56 per cent.\r\nADVERTISEMENT\r\nJio Financial Services continued its downward rally for the fourth day straight and hit 5 per cent lower circuit. The stock was locked at Rs 213.45 in the lower circuit today.\r\nJio Financial Services, Reliance Industries, Divis Lab, Power Grid, ONGC, Hindalco, JSW Steel, Grasim, L&T, Bajaj Auto, Eicher Motors, Cipla and HCLTech were the top losers in today’s session.\r\nOn the other hand, BPCL, Asian Paints, IndusInd Bank, Infosys, Britannia, Adani Enterprises, UltraTech Cement, Axis Bank, Bharti Airtel, ICICI Bank, ITC and Nestle India were the top gainers.",
         "https://indianexpress.com/article/business/market/stock-market-live-sensex-nifty-today-adani-group-bank-stocks-jio-financial-8906749/",
         "business",
         "After opening higher, domestic equities slumped on Thursday as Sensex slipped 661.43 points from its day’s high to close at 65,252.34, down 180.96 points, or 0.28 per cent. Meanwhile, broader NSE Nifty50 fell 57.30 points, or 0.29 per cent to 19,386.70.\r\nBroader markets were largely mixed as Nifty Midcap 50 gained 0.45 per cent, Nifty Midcap Select rose 0.30 per cent, and Nifty Midcap 150 rose 0.27 per cent. On the other hand, Nifty Smallcap 100 slipped 0.35 per cent, Nifty Smallcap 50 fell 0.32 per cent, and Nifty 100 tanked 0.20 per cent.\r\nSectorally, Nifty IT soared 0.61 per cent, Nifty FMCG slipped 0.29 per cent, and realty rose 0.20 per cent. On the other hand, sectors that saw the most losses were Nifty Healthcare Index at 0.78 per cent, Nifty PSU Bank at 0.65 per cent, the pharma sector slipped 0.58 per cent, and oil & gas index fell 0.56 per cent.\r\nADVERTISEMENT\r\nJio Financial Services continued its downward rally for the fourth day straight and hit 5 per cent lower circuit. The stock was locked at Rs 213.45 in the lower circuit today.\r\nJio Financial Services, Reliance Industries, Divis Lab, Power Grid, ONGC, Hindalco, JSW Steel, Grasim, L&T, Bajaj Auto, Eicher Motors, Cipla and HCLTech were the top losers in today’s session.\r\nOn the other hand, BPCL, Asian Paints, IndusInd Bank, Infosys, Britannia, Adani Enterprises, UltraTech Cement, Axis Bank, Bharti Airtel, ICICI Bank, ITC and Nestle India were the top gainers.",
         "False"
        ],
        [
         "11",
         "LIC shares jump 6% after insurance behemoth’s net profit jumps multifold",
         "LIC's shares opened higher at Rs 666 and soon climbed 5.8 per cent to hit an intraday high of Rs 679 on NSE.",
         "Shares of Life Insurance Corporation of India (LIC) on Friday jumped almost 6 per cent after the company’s net profit for the April-June quarter jumped multi-fold to Rs Rs 9,544 crore.\r\nLIC’s shares opened higher at Rs 666 and soon climbed 5.8 per cent to hit an intraday high of Rs 679 on NSE. At the time of writing, LIC’s shares were trading 3.07 per cent higher at Rs 661.40.\r\nYou have exhausted your monthly limit of free stories.\r\nRegister to read more stories\r\nContinue With:-\r\nGoogle\r\nFacebook\r\nEmail\r\nAlready have an account? Sign in",
         "https://indianexpress.com/article/business/market/lic-shares-jump-insurance-behemoth-net-profit-jumps-multifold-8887312/",
         "business",
         "Shares of Life Insurance Corporation of India (LIC) on Friday jumped almost 6 per cent after the company’s net profit for the April-June quarter jumped multi-fold to Rs Rs 9,544 crore.\r\nLIC’s shares opened higher at Rs 666 and soon climbed 5.8 per cent to hit an intraday high of Rs 679 on NSE. At the time of writing, LIC’s shares were trading 3.07 per cent higher at Rs 661.40.\r\nYou have exhausted your monthly limit of free stories.\r\nRegister to read more stories\r\nContinue With:-\r\nGoogle\r\nFacebook\r\nEmail\r\nAlready have an account? Sign in",
         "False"
        ],
        [
         "12",
         "RBI’s tightening of lending norms for unsecured loans is credit positive, says Moody’s",
         "Last week, the RBI increased the risk weights on the exposure of banks towards consumer credit, credit card receivables and NBFCs by 25 per cent up to 150 per cent.",
         "The Reserve Bank of India’s (RBI) recent move to tighten the risk weights on unsecured personal loans and credit cards by banks and non-bank finance companies (NBFCs) is credit positive because lenders will need to allocate higher capitals, which will improve their loss-absorbing buffers, Moody’s Investors Service said in a report on Monday.\r\nLast week, the RBI increased the risk weights on the exposure of banks towards consumer credit, credit card receivables and NBFCs by 25 per cent up to 150 per cent.\r\nRegister to continue reading this story\r\nGoogle\r\nFacebook\r\nEmail\r\nAlready have an account? Sign in",
         "https://indianexpress.com/article/business/economy/rbis-tightening-of-lending-norms-for-unsecured-loans-is-credit-positive-says-moodys-9035381/",
         "business",
         "The Reserve Bank of India’s (RBI) recent move to tighten the risk weights on unsecured personal loans and credit cards by banks and non-bank finance companies (NBFCs) is credit positive because lenders will need to allocate higher capitals, which will improve their loss-absorbing buffers, Moody’s Investors Service said in a report on Monday.\r\nLast week, the RBI increased the risk weights on the exposure of banks towards consumer credit, credit card receivables and NBFCs by 25 per cent up to 150 per cent.\r\nRegister to continue reading this story\r\nGoogle\r\nFacebook\r\nEmail\r\nAlready have an account? Sign in",
         "False"
        ],
        [
         "13",
         "G20 Leaders’ Summit: New Delhi Declaration, enhanced co-operation key focus areas",
         "As the New Delhi Summit had drawn to a close in September, Prime Minister Narendra Modi had proposed a virtual session in November before the end of India’s presidency – Brazil will take over the G20 presidency from December 1.",
         "Development and enhanced co-operation on critical challenges along with a review of the New Delhi Leaders’ Declaration from September are expected to be the key focus areas on the agenda of the virtual G20 Leaders’ Summit to be held Wednesday before the end of India’s Presidency.\r\nG20 Sherpa Amitabh Kant, while speaking at a curtain raiser briefing for the Virtual G20 Leaders’ Summit Tuesday, said development will be the core agenda, while leaders may discuss many other issues.\r\nRegister to continue reading this story\r\nGoogle\r\nFacebook\r\nEmail\r\nAlready have an account? Sign in",
         "https://indianexpress.com/article/business/g20-leaders-summit-g20-sherpa-amitabh-kant-g20-new-delhi-declaration-indias-g20-presidency-9036933/",
         "business",
         "Development and enhanced co-operation on critical challenges along with a review of the New Delhi Leaders’ Declaration from September are expected to be the key focus areas on the agenda of the virtual G20 Leaders’ Summit to be held Wednesday before the end of India’s Presidency.\r\nG20 Sherpa Amitabh Kant, while speaking at a curtain raiser briefing for the Virtual G20 Leaders’ Summit Tuesday, said development will be the core agenda, while leaders may discuss many other issues.\r\nRegister to continue reading this story\r\nGoogle\r\nFacebook\r\nEmail\r\nAlready have an account? Sign in",
         "False"
        ],
        [
         "14",
         "Federal Bank net profit in June quarter rises 29% at Rs 854 crore",
         "Edtech company Byju's has appointed upGrad's former top boss Arjun Mohan as its CEO for international business.",
         "Edtech company Byju’s has appointed upGrad’s former top boss Arjun Mohan as its CEO for international business, according to sources.\r\nByju Raveendran will remain as group CEO and Mrinal Mohit will continue to head the India business, the sources confirmed to PTI.\r\nByju’s declined to comment on the development.\r\nMohan was with Byju’s for 11 years as its Chief Business Officer before moving on to join Ronnie Screwvala-promoted upGrad as its Chief Executive Officer for India.\r\nHe resigned from upGrad in December last year.",
         "https://indianexpress.com/article/business/startups/byjus-ex-upgrad-chief-arjun-mohan-ceo-international-business-8833280/",
         "business",
         "Edtech company Byju’s has appointed upGrad’s former top boss Arjun Mohan as its CEO for international business, according to sources.\r\nByju Raveendran will remain as group CEO and Mrinal Mohit will continue to head the India business, the sources confirmed to PTI.\r\nByju’s declined to comment on the development.\r\nMohan was with Byju’s for 11 years as its Chief Business Officer before moving on to join Ronnie Screwvala-promoted upGrad as its Chief Executive Officer for India.\r\nHe resigned from upGrad in December last year.",
         "True"
        ],
        [
         "15",
         "India will remain lower middle economy by 2047 if growth rate is not over 6%: Raghuram Rajan",
         "Speaking at a programme in Hyderabad, the economist said if the country does not grow faster, it will grow older (demographically) before it gets richer, which means there is the burden of an aging population to deal with also at that point.",
         "Former Reserve Bank Governor Raghuram Rajan said India will still remain a lower middle country if the growth rate remains at 6 per cent annually without any rise in population by 2047 (Amrit Kaal) and will be reaching the end of the demographic dividend by then.\r\nSpeaking at a programme organised by Manthan in Hyderabad, the economist said if the country does not grow faster, it will grow older (demographically) before it gets richer, which means there is the burden of an aging population to deal with also at that point.\r\n“If you do the math, at 6 per cent a year, you double every 12 years, and therefore in 24 years, we’ll be four times our per capita income. Today, the per capita income in India, as you know, is just a little below $2,500 per person. multiply by four, we get $10,000 per person…So if you do the math, at our current rate of growth, you know, strong as it is highest in the G20, we don’t get rich but we stay lower middle income till 2047,” he said.\r\nADVERTISEMENT\r\nThe former RBI chief said some southern states are growing with regards to population at below reproduction rate, in other words, the fertility rate has fallen below reproduction rate thus slowing the growth.\r\n“In other words, we will start the process of aging at some point around that time, which leads to the alarming question if we don’t grow faster, we will grow old before we grow rich, which means we all have all the burdens of an aging population to deal with also at that point,” he opined.\r\nAccording to him, the current pace of growth is not enough to employ all those who are entering the labour force and insufficient to make the country us get rich, before it gets old.",
         "https://indianexpress.com/article/business/india-remain-lower-middle-economy-growth-rate-raghuram-rajan-9071171/",
         "business",
         "Former Reserve Bank Governor Raghuram Rajan said India will still remain a lower middle country if the growth rate remains at 6 per cent annually without any rise in population by 2047 (Amrit Kaal) and will be reaching the end of the demographic dividend by then.\r\nSpeaking at a programme organised by Manthan in Hyderabad, the economist said if the country does not grow faster, it will grow older (demographically) before it gets richer, which means there is the burden of an aging population to deal with also at that point.\r\n“If you do the math, at 6 per cent a year, you double every 12 years, and therefore in 24 years, we’ll be four times our per capita income. Today, the per capita income in India, as you know, is just a little below $2,500 per person. multiply by four, we get $10,000 per person…So if you do the math, at our current rate of growth, you know, strong as it is highest in the G20, we don’t get rich but we stay lower middle income till 2047,” he said.\r\nADVERTISEMENT\r\nThe former RBI chief said some southern states are growing with regards to population at below reproduction rate, in other words, the fertility rate has fallen below reproduction rate thus slowing the growth.\r\n“In other words, we will start the process of aging at some point around that time, which leads to the alarming question if we don’t grow faster, we will grow old before we grow rich, which means we all have all the burdens of an aging population to deal with also at that point,” he opined.\r\nAccording to him, the current pace of growth is not enough to employ all those who are entering the labour force and insufficient to make the country us get rich, before it gets old.",
         "False"
        ],
        [
         "16",
         "Sensex slips 224 points, Nifty below 19,400 ahead of inflation data; Adani Ent, TaMo top losers",
         "At present there are 1.3 million customers and 0.3 million merchants using retail digital Rupee. There are 13 banks offering retail CBDC.",
         "The Reserve Bank of India (RBI) is aiming to scale up the number of central bank digital currency (CBDC) transactions to one million per day by the end of 2023, Deputy Governor T Rabi Sankar said on Tuesday.\r\nCurrently, around 5,000-10,000 transactions are being done per day using retail CBDC (e₹-R) – the pilot for which was launched by the RBI in December last year.\r\nThis story is subscriber only!\r\n\r\nNow subscribe at a special Republic Day offer of Rs 75/month.\r\nSubscribe Now\r\nAlready a subscriber? Sign in",
         "https://indianexpress.com/article/business/banking-and-finance/targeting-1-mn-cbdc-transactions-per-day-by-end-2023-rbi-deputy-governor-t-rabi-sankar-8828209/",
         "business",
         "The Reserve Bank of India (RBI) is aiming to scale up the number of central bank digital currency (CBDC) transactions to one million per day by the end of 2023, Deputy Governor T Rabi Sankar said on Tuesday.\r\nCurrently, around 5,000-10,000 transactions are being done per day using retail CBDC (e₹-R) – the pilot for which was launched by the RBI in December last year.\r\nThis story is subscriber only!\r\n\r\nNow subscribe at a special Republic Day offer of Rs 75/month.\r\nSubscribe Now\r\nAlready a subscriber? Sign in",
         "False"
        ],
        [
         "17",
         "After onion, it’s garlic’s turn to bite",
         "In both lahsun and pyaaz, a real respite to consumers can come only after March, when their rabi crops are harvested. But there are worries even on that front, due to depleting groundwater tables, particularly in Maharashtra and Karnataka.",
         "A sudden rise in prices of garlic has added to the woes of consumers already paying around Rs 60 per kg for onion. The spicy bulb with stronger taste and odour than the humble pyaaz is currently retailing at around Rs 210 per kg, compared to Rs 40 a year ago and Rs 150 three months back.\r\nTraders are attributing the spike in lahsun (garlic) prices to the delayed harvesting and arrivals of the kharif crop. Garlic, like onion, is cultivated during both the kharif and rabi season. The kharif garlic is planted in June-July and harvested in October-November, while in September-November and March-April for the rabi crop.\r\nYou have exhausted your monthly limit of free stories.\r\nRegister to read more stories\r\nContinue With:-\r\nGoogle\r\nFacebook\r\nEmail\r\nAlready have an account? Sign in",
         "https://indianexpress.com/article/business/garlic-price-hike-9066283/",
         "business",
         "A sudden rise in prices of garlic has added to the woes of consumers already paying around Rs 60 per kg for onion. The spicy bulb with stronger taste and odour than the humble pyaaz is currently retailing at around Rs 210 per kg, compared to Rs 40 a year ago and Rs 150 three months back.\r\nTraders are attributing the spike in lahsun (garlic) prices to the delayed harvesting and arrivals of the kharif crop. Garlic, like onion, is cultivated during both the kharif and rabi season. The kharif garlic is planted in June-July and harvested in October-November, while in September-November and March-April for the rabi crop.\r\nYou have exhausted your monthly limit of free stories.\r\nRegister to read more stories\r\nContinue With:-\r\nGoogle\r\nFacebook\r\nEmail\r\nAlready have an account? Sign in",
         "False"
        ],
        [
         "18",
         "Rupee falls 2 paise to close at all-time low of 83.12 against US dollar",
         "Forex traders said rupee is likely to trade with a negative bias on risk aversion in global markets.",
         "The rupee depreciated by 2 paise and settled for the day at an all-time low of 83.12 (provisional) against the US dollar on Monday, weighed down by a surge in crude oil prices and selling pressure by foreign investors.\r\nForex traders said rupee is likely to trade with a negative bias on risk aversion in global markets.\r\nAt the interbank foreign exchange market, the local unit opened at 83.10 against the US dollar and moved in a range of 83.05 to 83.13 in the day trade.\r\nADVERTISEMENT\r\nThe rupee finally settled at 83.12 (provisional) against the US dollar, down 2 paise from its previous close.\r\nOn Friday, the rupee edged lower by 1 paisa to settle at an all-time low of 83.10 against the US dollar, weighed down by a negative trend in domestic equities, and foreign fund outflows.\r\nThe Indian rupee depreciated on a surge in crude oil prices and selling pressure by foreign investors.\r\nHowever, the weak tone in US dollar and positive domestic markets cushioned the downside, said Anuj Choudhary – Research Analyst at Sharekhan by BNP Paribas.\r\nADVERTISEMENT\r\nThe US dollar declined after the Chinese central bank reduced a key rate by 10 basis points to 3.45 per cent to stimulate the economy leading to risk on sentiments.\r\n“We expect the rupee to trade with a negative bias on rising global crude oil prices and overall strength in the US dollar amid the hawkish US Federal Reserve. However, positive domestic markets and any intervention by the Reserve Bank of India may support rupee at lower levels. USDINR spot price is expected to trade in a range of Rs 82.80 to Rs 83.50,” Choudhary added.\r\nMost investors will be taking cues from the BRICS summit and the Jackson Hole Symposium, traders said.\r\nADVERTISEMENT\r\nMeanwhile, the dollar index, which gauges the greenback’s strength against a basket of six currencies, fell 0.14 per cent to 103.23.\r\nBrent crude futures, the global oil benchmark, advanced 0.64 per cent to USD 85.34 per barrel.\r\nOn the domestic equity market front, the 30-share BSE Sensex closed 267.43 points or 0.41 per cent higher at 65,216.09. The broader NSE Nifty advanced 83.45 points or 0.43 per cent to 19,393.60.\r\nForeign Institutional Investors (FIIs) were net sellers in the capital markets on Friday as they offloaded shares worth Rs 266.98 crore, according to exchange data.\r\nMeanwhile, India’s foreign exchange reserves jumped USD 708 million to USD 602.161 billion for the week ended August 11, the Reserve Bank of India (RBI) said on Friday.\r\nADVERTISEMENT\r\nThis is the first increase in the kitty after declining for three consecutive weeks. In the previous week, the overall reserves had declined USD 2.417 billion to USD 601.453 billion.",
         "https://indianexpress.com/article/business/market/rupee-falls-against-us-dolllar-close-at-all-time-low-8902447/",
         "business",
         "The rupee depreciated by 2 paise and settled for the day at an all-time low of 83.12 (provisional) against the US dollar on Monday, weighed down by a surge in crude oil prices and selling pressure by foreign investors.\r\nForex traders said rupee is likely to trade with a negative bias on risk aversion in global markets.\r\nAt the interbank foreign exchange market, the local unit opened at 83.10 against the US dollar and moved in a range of 83.05 to 83.13 in the day trade.\r\nADVERTISEMENT\r\nThe rupee finally settled at 83.12 (provisional) against the US dollar, down 2 paise from its previous close.\r\nOn Friday, the rupee edged lower by 1 paisa to settle at an all-time low of 83.10 against the US dollar, weighed down by a negative trend in domestic equities, and foreign fund outflows.\r\nThe Indian rupee depreciated on a surge in crude oil prices and selling pressure by foreign investors.\r\nHowever, the weak tone in US dollar and positive domestic markets cushioned the downside, said Anuj Choudhary – Research Analyst at Sharekhan by BNP Paribas.\r\nADVERTISEMENT\r\nThe US dollar declined after the Chinese central bank reduced a key rate by 10 basis points to 3.45 per cent to stimulate the economy leading to risk on sentiments.\r\n“We expect the rupee to trade with a negative bias on rising global crude oil prices and overall strength in the US dollar amid the hawkish US Federal Reserve. However, positive domestic markets and any intervention by the Reserve Bank of India may support rupee at lower levels. USDINR spot price is expected to trade in a range of Rs 82.80 to Rs 83.50,” Choudhary added.\r\nMost investors will be taking cues from the BRICS summit and the Jackson Hole Symposium, traders said.\r\nADVERTISEMENT\r\nMeanwhile, the dollar index, which gauges the greenback’s strength against a basket of six currencies, fell 0.14 per cent to 103.23.\r\nBrent crude futures, the global oil benchmark, advanced 0.64 per cent to USD 85.34 per barrel.\r\nOn the domestic equity market front, the 30-share BSE Sensex closed 267.43 points or 0.41 per cent higher at 65,216.09. The broader NSE Nifty advanced 83.45 points or 0.43 per cent to 19,393.60.\r\nForeign Institutional Investors (FIIs) were net sellers in the capital markets on Friday as they offloaded shares worth Rs 266.98 crore, according to exchange data.\r\nMeanwhile, India’s foreign exchange reserves jumped USD 708 million to USD 602.161 billion for the week ended August 11, the Reserve Bank of India (RBI) said on Friday.\r\nADVERTISEMENT\r\nThis is the first increase in the kitty after declining for three consecutive weeks. In the previous week, the overall reserves had declined USD 2.417 billion to USD 601.453 billion.",
         "False"
        ],
        [
         "19",
         "ITC bets big on FMCG business for growth with annual consumer spend of Rs 29,000 crore",
         "Speaking at the 112th AGM of the company, ITC chairman Sanjiv Puri said the FMCG brands are being exported to several countries and the business vertical has immense growth potential due to the rising per capita income of the people.",
         "Diversified conglomerate ITC Limited on Friday said the FMCG business has immense potential for growth with its brands commanding an annual consumer spend of Rs 29,000 crore.\r\nSpeaking at the 112th AGM of the company, ITC chairman Sanjiv Puri told shareholders in his address that the FMCG brands are being exported to several countries and the business vertical has immense growth potential due to the rising per capita income of the people.\r\n“The ITC Next strategy for the FMCG business is to build a future-ready portfolio. With more than 25 brands at the moment, the annual consumer spend is around Rs 29,000 crore”, Puri said.\r\nADVERTISEMENT\r\nHe said that the addressable market for the FMCG vertical of ITC is USD five trillion. “The business has immense opportunity to harness this potential”, Puri added.\r\nRegarding the hotel business, the ITC board had given in-principle approval to demerge the vertical and spin it off into a new entity.\r\nPuri said that the business is well poised to capitalise on the growth potential of the tourism sector growing.\r\n“We have pivoted to an asset-right strategy. With 120 hotels at the moment under ITC fold, managed properties comprise 55 per cent of the total rooms”, he said.\r\nADVERTISEMENT\r\nRegarding the cigarette business, he said the company has been introducing new brands with stability in the taxation regime, sales volumes are increasing.\r\nITC continues to strengthen the cigarette business, he added.\r\nPuri said the FMCG business is linked to the agri-value chain. The ITC MAARS project will support 4000 FPOs by 2030, he said.",
         "https://indianexpress.com/article/business/companies/itc-bets-big-on-fmcg-business-for-growth-8887260/",
         "business",
         "Diversified conglomerate ITC Limited on Friday said the FMCG business has immense potential for growth with its brands commanding an annual consumer spend of Rs 29,000 crore.\r\nSpeaking at the 112th AGM of the company, ITC chairman Sanjiv Puri told shareholders in his address that the FMCG brands are being exported to several countries and the business vertical has immense growth potential due to the rising per capita income of the people.\r\n“The ITC Next strategy for the FMCG business is to build a future-ready portfolio. With more than 25 brands at the moment, the annual consumer spend is around Rs 29,000 crore”, Puri said.\r\nADVERTISEMENT\r\nHe said that the addressable market for the FMCG vertical of ITC is USD five trillion. “The business has immense opportunity to harness this potential”, Puri added.\r\nRegarding the hotel business, the ITC board had given in-principle approval to demerge the vertical and spin it off into a new entity.\r\nPuri said that the business is well poised to capitalise on the growth potential of the tourism sector growing.\r\n“We have pivoted to an asset-right strategy. With 120 hotels at the moment under ITC fold, managed properties comprise 55 per cent of the total rooms”, he said.\r\nADVERTISEMENT\r\nRegarding the cigarette business, he said the company has been introducing new brands with stability in the taxation regime, sales volumes are increasing.\r\nITC continues to strengthen the cigarette business, he added.\r\nPuri said the FMCG business is linked to the agri-value chain. The ITC MAARS project will support 4000 FPOs by 2030, he said.",
         "True"
        ],
        [
         "20",
         "IIP growth falls to 3-month low, rises yr-on-yr",
         "The data released by the National Statistical Office (NSO) showed that the manufacturing sector's output grew by 4.5 per cent in September 2023.",
         "India’s industrial output growth slid to a three-month low of 5.8 per cent in September from a 14-month high of 10.3 per cent in August, mainly due to base effect, subdued manufacturing, especially consumer goods output, data released by the National Statistical Office (NSO) on Friday showed. The factory output growth has come in much lower than economists’ expectations which had pegged it broadly over 7 per cent.\r\nManufacturing, which accounts for 77.6 percent of the weight of the IIP (Index of Industrial Production), grew by 4.5 per cent in September as against 2.0 per cent in September 2022 and 9.3 per cent in August 2023. In absolute terms, manufacturing index to 140.6 in September from 134.6 in the year-ago period but was lower than 143.5 in August this year.\r\nRegister to continue reading this story\r\nGoogle\r\nFacebook\r\nEmail\r\nAlready have an account? Sign in",
         "https://indianexpress.com/article/business/industrial-production-grows-5-8-pc-in-sep-9021918/",
         "business",
         "India’s industrial output growth slid to a three-month low of 5.8 per cent in September from a 14-month high of 10.3 per cent in August, mainly due to base effect, subdued manufacturing, especially consumer goods output, data released by the National Statistical Office (NSO) on Friday showed. The factory output growth has come in much lower than economists’ expectations which had pegged it broadly over 7 per cent.\r\nManufacturing, which accounts for 77.6 percent of the weight of the IIP (Index of Industrial Production), grew by 4.5 per cent in September as against 2.0 per cent in September 2022 and 9.3 per cent in August 2023. In absolute terms, manufacturing index to 140.6 in September from 134.6 in the year-ago period but was lower than 143.5 in August this year.\r\nRegister to continue reading this story\r\nGoogle\r\nFacebook\r\nEmail\r\nAlready have an account? Sign in",
         "False"
        ],
        [
         "21",
         "Adani-Hindenburg row: No reason to discredit SEBI, says SC, reserves order",
         "While asking the Securities and Exchange Board of India (SEBI) what it intends to do in future to ensure investors don't loose wealth due to volatility in stock market or short-selling, the apex court observed it would not be proper for it to set up a special investigation team (SIT) on its own without any material before it.",
         "The Supreme Court on Friday said it has no reason to “discredit” SEBI, which probed allegations against the Adani group, as there was no material before it to doubt what the market regulator has done and the court does not have to treat what was set out in the Hindenburg report as a “true state of affairs”.\r\nWhile asking the Securities and Exchange Board of India (SEBI) what it intends to do in future to ensure investors don’t loose wealth due to volatility in stock market or short-selling, the apex court observed it would not be proper for it to set up a special investigation team (SIT) on its own without any material before it.\r\nA bench headed by Chief Justice D Y Chandrachud, which reserved its order on a batch of pleas concerning the Adani-Hindenburg row on allegations of stock price manipulation, said it cannot ask a statutory regulator to take as a “gospel truth” something which was published in the media.\r\nADVERTISEMENT\r\n“We don’t have to treat what is set out in the Hindenburg report as ipso facto (automatically) a true state of affairs. That is why we directed the SEBI to investigate. Because for us to accept something which is in the report of an entity, which in not before us and whose veracity we have no means of testing, would really be unfair,” the bench, also comprising justices J B Pardiwala and Manoj Misra, told advocate Prashant Bhushan, who was appearing for one of the petitioners.\r\nBhushan argued that SEBI’s role in the matter was “suspect” for several reasons because a lot of information was available to the regulator way back in 2014.\r\n“They have completed their investigations. They are saying that is now in their quasi-judicial power. Should they disclose the investigation before they issue a notice to show cause,” the bench asked.\r\nBhushan said it was for the apex court to see whether the probe done by the SEBI was credible or not and whether some other independent organisation or an SIT was needed to be formed to investigate it.\r\nADVERTISEMENT\r\n“Where is the material before us for us to doubt what SEBI has done,” the bench observed.\r\nIt also took serious note of Bhushan’s claim that two of the members of the apex court appointed expert committee have serious “conflict of interest”.\r\nThe bench said there has to be some responsibility about the allegations being made as it was easy to level allegations.\r\nADVERTISEMENT\r\n“You have to also be very careful. It is very easy to make allegations. We are not here giving a character certificate. But equally we have to be conscious about fundamental principles of fairness,” the bench observed.\r\nDealing with the submissions relating to SEBI probe, it said, “We have to be also conscious that SEBI is a statutory body exclusively entrusted with the jurisdiction to investigate into stock market violations. Today, is it proper for a court, the highest court, to just without any material to say that we will not let you investigate and we will constitute a SIT of our own? This has to be done with a great deal of calibration.” Bhushan referred to the Hindenburg report as also some media report to buttress his arguments that SEBI’s probe was not credible.\r\n“I don’t think you can ask a statutory regulator to take as a gospel truth something which is filed in a newspaper, whether in the Guardian or the Financial Times. We have no reason to discredit them…,” the bench said.\r\n“Therefore, should SEBI be following up journalists and ask a journalist, who is not subject to their jurisdiction, to disclose the underlying materials,” it said.\r\nBhushan argued that if a journalist can get hold of documents, how can the SEBI, with all its vast powers of investigation, not being able to get hold of these materials.\r\nADVERTISEMENT\r\nThe bench said there was always a correct way of looking at it for a simple reason that when “you are dealing with a body which is governed by evidentiary requirements… somebody who publishes something in the public realm, is not bound by the evidentiary standards with which a statutory body is bound”.\r\n“They are amenable to jurisdiction of the security appellate tribunal. You can’t pick out and say well, I will rely on newspaper report and issue a notice of show cause. That notice will be quashed by a judicial body,” it said.\r\nBhushan said the show cause notice would not be quashed if it was based on credible information which leads to suspicion.\r\nADVERTISEMENT\r\n“As a court, how do we treat it as credible? We will have to rely on our investigative agencies to investigate it,” the bench said, adding, “We can’t make that assumption that it is either credible or lacking in credibility”.\r\nSolicitor General Tushar Mehta, appearing for the SEBI, told the bench that there was “a growing tendency of planting stories outside India to influence things and policies inside India”.\r\nAt the outset, Mehta apprised the bench that investigation in 22 out of the 24 cases relating to allegations against the Adani group were over.\r\nADVERTISEMENT\r\nA Supreme Court-appointed expert committee had in an interim report in May stated that it saw “no evident pattern of manipulation” in billionaire Gautam Adani’s companies and there was no regulatory failure.\r\nThe Adani Group stocks had been bludgeoned on the bourses after Hindenburg Research made a litany of allegations, including those about fraudulent transactions and share-price manipulation, against the business conglomerate.\r\nThe Adani Group dismissed the charges as lies, saying it complies with all laws and disclosure requirements.",
         "https://indianexpress.com/article/business/adani-hindenburg-row-sebi-says-sc-reserves-order-9041124/",
         "business",
         "The Supreme Court on Friday said it has no reason to “discredit” SEBI, which probed allegations against the Adani group, as there was no material before it to doubt what the market regulator has done and the court does not have to treat what was set out in the Hindenburg report as a “true state of affairs”.\r\nWhile asking the Securities and Exchange Board of India (SEBI) what it intends to do in future to ensure investors don’t loose wealth due to volatility in stock market or short-selling, the apex court observed it would not be proper for it to set up a special investigation team (SIT) on its own without any material before it.\r\nA bench headed by Chief Justice D Y Chandrachud, which reserved its order on a batch of pleas concerning the Adani-Hindenburg row on allegations of stock price manipulation, said it cannot ask a statutory regulator to take as a “gospel truth” something which was published in the media.\r\nADVERTISEMENT\r\n“We don’t have to treat what is set out in the Hindenburg report as ipso facto (automatically) a true state of affairs. That is why we directed the SEBI to investigate. Because for us to accept something which is in the report of an entity, which in not before us and whose veracity we have no means of testing, would really be unfair,” the bench, also comprising justices J B Pardiwala and Manoj Misra, told advocate Prashant Bhushan, who was appearing for one of the petitioners.\r\nBhushan argued that SEBI’s role in the matter was “suspect” for several reasons because a lot of information was available to the regulator way back in 2014.\r\n“They have completed their investigations. They are saying that is now in their quasi-judicial power. Should they disclose the investigation before they issue a notice to show cause,” the bench asked.\r\nBhushan said it was for the apex court to see whether the probe done by the SEBI was credible or not and whether some other independent organisation or an SIT was needed to be formed to investigate it.\r\nADVERTISEMENT\r\n“Where is the material before us for us to doubt what SEBI has done,” the bench observed.\r\nIt also took serious note of Bhushan’s claim that two of the members of the apex court appointed expert committee have serious “conflict of interest”.\r\nThe bench said there has to be some responsibility about the allegations being made as it was easy to level allegations.\r\nADVERTISEMENT\r\n“You have to also be very careful. It is very easy to make allegations. We are not here giving a character certificate. But equally we have to be conscious about fundamental principles of fairness,” the bench observed.\r\nDealing with the submissions relating to SEBI probe, it said, “We have to be also conscious that SEBI is a statutory body exclusively entrusted with the jurisdiction to investigate into stock market violations. Today, is it proper for a court, the highest court, to just without any material to say that we will not let you investigate and we will constitute a SIT of our own? This has to be done with a great deal of calibration.” Bhushan referred to the Hindenburg report as also some media report to buttress his arguments that SEBI’s probe was not credible.\r\n“I don’t think you can ask a statutory regulator to take as a gospel truth something which is filed in a newspaper, whether in the Guardian or the Financial Times. We have no reason to discredit them…,” the bench said.\r\n“Therefore, should SEBI be following up journalists and ask a journalist, who is not subject to their jurisdiction, to disclose the underlying materials,” it said.\r\nBhushan argued that if a journalist can get hold of documents, how can the SEBI, with all its vast powers of investigation, not being able to get hold of these materials.\r\nADVERTISEMENT\r\nThe bench said there was always a correct way of looking at it for a simple reason that when “you are dealing with a body which is governed by evidentiary requirements… somebody who publishes something in the public realm, is not bound by the evidentiary standards with which a statutory body is bound”.\r\n“They are amenable to jurisdiction of the security appellate tribunal. You can’t pick out and say well, I will rely on newspaper report and issue a notice of show cause. That notice will be quashed by a judicial body,” it said.\r\nBhushan said the show cause notice would not be quashed if it was based on credible information which leads to suspicion.\r\nADVERTISEMENT\r\n“As a court, how do we treat it as credible? We will have to rely on our investigative agencies to investigate it,” the bench said, adding, “We can’t make that assumption that it is either credible or lacking in credibility”.\r\nSolicitor General Tushar Mehta, appearing for the SEBI, told the bench that there was “a growing tendency of planting stories outside India to influence things and policies inside India”.\r\nAt the outset, Mehta apprised the bench that investigation in 22 out of the 24 cases relating to allegations against the Adani group were over.\r\nADVERTISEMENT\r\nA Supreme Court-appointed expert committee had in an interim report in May stated that it saw “no evident pattern of manipulation” in billionaire Gautam Adani’s companies and there was no regulatory failure.\r\nThe Adani Group stocks had been bludgeoned on the bourses after Hindenburg Research made a litany of allegations, including those about fraudulent transactions and share-price manipulation, against the business conglomerate.\r\nThe Adani Group dismissed the charges as lies, saying it complies with all laws and disclosure requirements.",
         "True"
        ],
        [
         "22",
         "Air India unveils new brand identity, outlines focus on tech, fleet",
         "The company’s new logo and livery features golden, red and aubergine colours, with the latter being reminiscent of Tata’s other airliner, Vistara.",
         "Amid a major overhaul of its operations and an identity makeover, technology will be a big focus for Air India to gain lost ground in the aviation market going forward — and as is the case with most businesses in the world right now, a big part of the tech upgrade will include artificial intelligence enabled systems.\r\nOn Thursday, the airline’s chairman N Chandrasekaran said that Air India aims to have the “best technology” in the next 9-12 months and that the airliner is putting all of its information technology systems in place as it looks to rise as a serious contender in Indian and foreign skies. “The best of artificial intelligence and machine learning will be on Air India,” he added.\r\nThis story is subscriber only!\r\n\r\nNow subscribe at a special Republic Day offer of Rs 75/month.\r\nSubscribe Now\r\nAlready a subscriber? Sign in",
         "https://indianexpress.com/article/business/aviation/air-india-unveils-new-logo-in-rebranding-push-under-tata-group-8886528/",
         "business",
         "Amid a major overhaul of its operations and an identity makeover, technology will be a big focus for Air India to gain lost ground in the aviation market going forward — and as is the case with most businesses in the world right now, a big part of the tech upgrade will include artificial intelligence enabled systems.\r\nOn Thursday, the airline’s chairman N Chandrasekaran said that Air India aims to have the “best technology” in the next 9-12 months and that the airliner is putting all of its information technology systems in place as it looks to rise as a serious contender in Indian and foreign skies. “The best of artificial intelligence and machine learning will be on Air India,” he added.\r\nThis story is subscriber only!\r\n\r\nNow subscribe at a special Republic Day offer of Rs 75/month.\r\nSubscribe Now\r\nAlready a subscriber? Sign in",
         "True"
        ],
        [
         "23",
         "India, US to explore alternate mechanism to fund renewable energy",
         "The US, India and about 140 other nations are close to reaching an agreement on the overhauling of global tax norms to ensure that multinationals pay taxes wherever they operate.",
         "The US, India and about 140 other nations are close to reaching an agreement on the overhauling of global tax norms to ensure that multinationals pay taxes wherever they operate.\r\nAt a meeting with Finance Minister Nirmala Sitharaman on the sidelines of G20 finance ministers and central bank governors meeting here, US Treasury Secretary Janet Yellen appreciated India’s focus on finalizing the “historic Two-Pillar global tax deal” in the OECD’s Inclusive Framework.\r\n“I believe that we are close to reaching an agreement,” Yellen said in her remarks at the bilateral meeting.\r\nADVERTISEMENT\r\nIn a major reform of the international taxation system, about 140 countries, including India, have agreed to an overhaul of global tax norms to ensure that multinationals pay taxes wherever they operate and at a minimum of 15 per cent rate.\r\nHowever, the deal requires countries to remove all digital services tax and other similar measures and to commit not to introduce such measures in the future.\r\nSome significant issues, including share of profit allocation and scope of subject to tax rules, are yet to be addressed and a ‘consensus agreement’ would happen after working out the technical details of the proposal.\r\nThe proposed two-pillar solution consists of two components — Pillar One is about reallocation of additional share of profit to the market jurisdictions and Pillar Two consists of minimum tax and subject to tax rules.\r\nADVERTISEMENT\r\nThe Organisation for Economic Co-operation and Development (OECD) in an outcome statement issued last week said that a few jurisdictions have expressed concerns “with some specific items” in the multilateral convention (MLC).\r\n“Efforts to resolve these issues are underway with a view to prepare the MLC for signature expeditiously,” the OECD said.\r\nIndia has been calling for G20 countries to ensure that developing nations are guarded against any “unintended consequences” of the proposed global minimum tax deal.\r\nADVERTISEMENT\r\nDeveloping countries make up almost one-third of the membership of the G20 inclusive framework for taxation.",
         "https://indianexpress.com/article/business/economy/about-140-nations-close-reaching-pact-global-tax-deal-mncs-8843343/",
         "business",
         "The US, India and about 140 other nations are close to reaching an agreement on the overhauling of global tax norms to ensure that multinationals pay taxes wherever they operate.\r\nAt a meeting with Finance Minister Nirmala Sitharaman on the sidelines of G20 finance ministers and central bank governors meeting here, US Treasury Secretary Janet Yellen appreciated India’s focus on finalizing the “historic Two-Pillar global tax deal” in the OECD’s Inclusive Framework.\r\n“I believe that we are close to reaching an agreement,” Yellen said in her remarks at the bilateral meeting.\r\nADVERTISEMENT\r\nIn a major reform of the international taxation system, about 140 countries, including India, have agreed to an overhaul of global tax norms to ensure that multinationals pay taxes wherever they operate and at a minimum of 15 per cent rate.\r\nHowever, the deal requires countries to remove all digital services tax and other similar measures and to commit not to introduce such measures in the future.\r\nSome significant issues, including share of profit allocation and scope of subject to tax rules, are yet to be addressed and a ‘consensus agreement’ would happen after working out the technical details of the proposal.\r\nThe proposed two-pillar solution consists of two components — Pillar One is about reallocation of additional share of profit to the market jurisdictions and Pillar Two consists of minimum tax and subject to tax rules.\r\nADVERTISEMENT\r\nThe Organisation for Economic Co-operation and Development (OECD) in an outcome statement issued last week said that a few jurisdictions have expressed concerns “with some specific items” in the multilateral convention (MLC).\r\n“Efforts to resolve these issues are underway with a view to prepare the MLC for signature expeditiously,” the OECD said.\r\nIndia has been calling for G20 countries to ensure that developing nations are guarded against any “unintended consequences” of the proposed global minimum tax deal.\r\nADVERTISEMENT\r\nDeveloping countries make up almost one-third of the membership of the G20 inclusive framework for taxation.",
         "False"
        ],
        [
         "24",
         "ED registers fresh case against Jet Airways founder Naresh Goyal, raids 8 locations",
         "In its annual report for FY23, the largest private sector lender said the CEO was paid a basic salary of Rs 2.82 crore, allowances and perquisites of Rs 3.31 crore, a provident fund of Rs 33.92 lakh and a performance bonus of Rs 3.63 crore",
         "HDFC Bank managing director and chief executive Sashidhar Jagdishan’s remuneration shot up by over 62 per cent in FY23 to Rs 10.55 crore in FY23.\r\nIn its annual report for FY23, the largest private sector lender said deputy managing director Kaizad Bharucha’s overall remuneration, excluding stock options, was Rs 10.03 crore.\r\nJagdishan was paid Rs 6.52 crore in FY22, while Bharucha was paid Rs 10.64 crore in the year-ago period, the report said, adding the percentage increase in median remuneration of employees was 2.51 per cent.\r\nADVERTISEMENT\r\nThe CEO was paid a basic salary of Rs 2.82 crore, allowances and perquisites of Rs 3.31 crore, a provident fund of Rs 33.92 lakh and a performance bonus of Rs 3.63 crore, the report said.\r\nGoing forward, the key personnel of the lender will play an important role as they will be steering a large institution after the merger of mortgage major parent HDFC with HDFC Bank.\r\nIn his message to shareholders, Jagdishan said the merger will help the lender to take a larger exposure in infrastructure projects with the help of a much bigger balancesheet.\r\nWith its digital platforms, digital journeys and physical branch network, HDFC Bank will have the ability to offer the home loan customer a complete bouquet of the Bank’s and subsidiaries’ products and services, he said.\r\nADVERTISEMENT\r\n“Savings accounts, personal loans, insurance cover, SIPs can all be bundled along with a home loan to create a compelling value proposition to the customer, that probably does not exist in the market at the scale at which this is envisaged,” Jagdishan said.\r\nMeanwhile, he expressed concerns over the attrition rate at the bank, which had over 1.70 lakh employees at the end of March 2023.\r\nThe bank’s attrition rate was at 34.15 per cent in FY23, as against an industry average of 24.7 per cent. A total of 53,760 employees quit the bank in FY23, while 85,814 were added.\r\nADVERTISEMENT\r\n“The bank has experienced an increase in attrition over the last financial year and a significant part of which was in the ‘non-supervisory staff’ levels (which includes sales officers),” Jagdishan said, attributing the same to a post-COVID phenomenon, which may have prompted the younger workforce to recalibrate what they ‘want from their lives’.\r\nJagdishan said he wants to focus on building an inclusive organisation, which will go a long way in reining in attrition in the coming years and also seemed to be referring to lapses on the cultural front like the unsavoury conduct of a senior manager during a business review meeting recently.\r\n“I am fully conscious of the fact that there may be instances where some people managers might transgress our defined way of working. We have the resolve to nip this in the bud, both by way of training/counselling and appropriate action, to ensure that the same is not attempted by anyone else. Having said that, we have some distance to traverse on this front,” he said.\r\nJagdishan said the bank is focusing on diversity, and plans to take the overall share of women in its workforce to 25 per cent by end of FY25 from the current 23 per cent.\r\nThe bank, which had invited unprecedented regulatory actions due to laxities on the technology front, has seen a significant improvement in its resilience and uptime metrics, Jagdishan said.\r\nADVERTISEMENT\r\nIt has migrated data centres to new state-of-the-art facilities in Mumbai and Bengaluru, he added.\r\nThe trend in complaints indicates that digital frauds are increasing, particularly targeting a vulnerable section of consumers, he said.\r\nADVERTISEMENT\r\nIt plans to add another 1,500 to 2,000 branches in FY24, which will include 575 units in semi-urban and rural areas, he said.",
         "https://indianexpress.com/article/business/hdfc-ceo-jagdishans-remuneration-jumps-62-pc-fy23-flags-concerns-on-attrition-8848970/",
         "business",
         "HDFC Bank managing director and chief executive Sashidhar Jagdishan’s remuneration shot up by over 62 per cent in FY23 to Rs 10.55 crore in FY23.\r\nIn its annual report for FY23, the largest private sector lender said deputy managing director Kaizad Bharucha’s overall remuneration, excluding stock options, was Rs 10.03 crore.\r\nJagdishan was paid Rs 6.52 crore in FY22, while Bharucha was paid Rs 10.64 crore in the year-ago period, the report said, adding the percentage increase in median remuneration of employees was 2.51 per cent.\r\nADVERTISEMENT\r\nThe CEO was paid a basic salary of Rs 2.82 crore, allowances and perquisites of Rs 3.31 crore, a provident fund of Rs 33.92 lakh and a performance bonus of Rs 3.63 crore, the report said.\r\nGoing forward, the key personnel of the lender will play an important role as they will be steering a large institution after the merger of mortgage major parent HDFC with HDFC Bank.\r\nIn his message to shareholders, Jagdishan said the merger will help the lender to take a larger exposure in infrastructure projects with the help of a much bigger balancesheet.\r\nWith its digital platforms, digital journeys and physical branch network, HDFC Bank will have the ability to offer the home loan customer a complete bouquet of the Bank’s and subsidiaries’ products and services, he said.\r\nADVERTISEMENT\r\n“Savings accounts, personal loans, insurance cover, SIPs can all be bundled along with a home loan to create a compelling value proposition to the customer, that probably does not exist in the market at the scale at which this is envisaged,” Jagdishan said.\r\nMeanwhile, he expressed concerns over the attrition rate at the bank, which had over 1.70 lakh employees at the end of March 2023.\r\nThe bank’s attrition rate was at 34.15 per cent in FY23, as against an industry average of 24.7 per cent. A total of 53,760 employees quit the bank in FY23, while 85,814 were added.\r\nADVERTISEMENT\r\n“The bank has experienced an increase in attrition over the last financial year and a significant part of which was in the ‘non-supervisory staff’ levels (which includes sales officers),” Jagdishan said, attributing the same to a post-COVID phenomenon, which may have prompted the younger workforce to recalibrate what they ‘want from their lives’.\r\nJagdishan said he wants to focus on building an inclusive organisation, which will go a long way in reining in attrition in the coming years and also seemed to be referring to lapses on the cultural front like the unsavoury conduct of a senior manager during a business review meeting recently.\r\n“I am fully conscious of the fact that there may be instances where some people managers might transgress our defined way of working. We have the resolve to nip this in the bud, both by way of training/counselling and appropriate action, to ensure that the same is not attempted by anyone else. Having said that, we have some distance to traverse on this front,” he said.\r\nJagdishan said the bank is focusing on diversity, and plans to take the overall share of women in its workforce to 25 per cent by end of FY25 from the current 23 per cent.\r\nThe bank, which had invited unprecedented regulatory actions due to laxities on the technology front, has seen a significant improvement in its resilience and uptime metrics, Jagdishan said.\r\nADVERTISEMENT\r\nIt has migrated data centres to new state-of-the-art facilities in Mumbai and Bengaluru, he added.\r\nThe trend in complaints indicates that digital frauds are increasing, particularly targeting a vulnerable section of consumers, he said.\r\nADVERTISEMENT\r\nIt plans to add another 1,500 to 2,000 branches in FY24, which will include 575 units in semi-urban and rural areas, he said.",
         "True"
        ],
        [
         "25",
         "‘Export of basmati rice could be affected by Red Sea attacks’",
         "The alternative route may also affect India’s exports of the long-grain rice to Egypt and European countries, said the official, requesting anonymity.",
         "The rerouting by major shipping lines in an effort to avoid the Red Sea route, which has seen multiple attacks on vessels by Yemen’s Houthi rebels, could raise the price of Indian basmati rice exports by 15 to 20 per cent, a senior official with a government agency said.\r\nThe alternative route may also affect India’s exports of the long-grain rice to Egypt and European countries, said the official, requesting anonymity. This comes after the world’s second-largest container shipping company, Maersk, said all vessels previously paused and due to sail through the Red Sea region will now be rerouted around Africa via the Cape of Good Hope for safety reasons.\r\nThe official said India’s exports face a shortfall of about $4 billion to $5 billion this year after it curbed exports of wheat, rice and sugar amid rising prices. However, India expects growth in exports of other farm commodities to offset the export deficit this year, the official said.\r\nMaersk had announced on December 15 that it would pause all vessels bound for the Gulf of Aden over the highly escalated security situation in the area. “This decision was taken to ensure the safety of our crew, vessels and customers’ cargo onboard,” the firm said.",
         "https://indianexpress.com/article/business/export-of-basmati-rice-could-be-affected-by-red-sea-attacks-9078226/",
         "business",
         "The rerouting by major shipping lines in an effort to avoid the Red Sea route, which has seen multiple attacks on vessels by Yemen’s Houthi rebels, could raise the price of Indian basmati rice exports by 15 to 20 per cent, a senior official with a government agency said.\r\nThe alternative route may also affect India’s exports of the long-grain rice to Egypt and European countries, said the official, requesting anonymity. This comes after the world’s second-largest container shipping company, Maersk, said all vessels previously paused and due to sail through the Red Sea region will now be rerouted around Africa via the Cape of Good Hope for safety reasons.\r\nThe official said India’s exports face a shortfall of about $4 billion to $5 billion this year after it curbed exports of wheat, rice and sugar amid rising prices. However, India expects growth in exports of other farm commodities to offset the export deficit this year, the official said.\r\nMaersk had announced on December 15 that it would pause all vessels bound for the Gulf of Aden over the highly escalated security situation in the area. “This decision was taken to ensure the safety of our crew, vessels and customers’ cargo onboard,” the firm said.",
         "False"
        ],
        [
         "26",
         "ICICI Bank’s Q3 net up 23.6% to Rs 10,272 crore",
         "In Q3 FY24, provisions included Rs 627 crore on investments in Alternate Investment Funds as per the RBI’s December notification",
         "Private sector lender ICICI Bank reported a 23.6 per cent jump in its standalone profit after tax at Rs 10,272 crore in the quarter ended December 2023, from Rs 8,312 crore in the year-ago quarter.\r\nThe bank’s net interest income (NII) rose by 13.4 per cent to Rs 18,678 crore from Rs 16,465 crore in Q3 FY23.\r\nYou have exhausted your monthly limit of free stories.\r\nRegister to read more stories\r\nContinue With:-\r\nGoogle\r\nFacebook\r\nEmail\r\nAlready have an account? Sign in",
         "https://indianexpress.com/article/business/banking-and-finance/icici-banks-q3-net-up-23-6-to-rs-10272-crore-9119556/",
         "business",
         "Private sector lender ICICI Bank reported a 23.6 per cent jump in its standalone profit after tax at Rs 10,272 crore in the quarter ended December 2023, from Rs 8,312 crore in the year-ago quarter.\r\nThe bank’s net interest income (NII) rose by 13.4 per cent to Rs 18,678 crore from Rs 16,465 crore in Q3 FY23.\r\nYou have exhausted your monthly limit of free stories.\r\nRegister to read more stories\r\nContinue With:-\r\nGoogle\r\nFacebook\r\nEmail\r\nAlready have an account? Sign in",
         "False"
        ],
        [
         "27",
         "Aircraft can resume flying soon: Go First’s Resolution Professional to HC",
         "The tax officers will be required to send a report on a daily basis to the Election Commission of India.",
         "Ahead of assembly elections in states and general elections next year, the Central Board of Indirect Taxes and Customs (CBIC) has released the standard operating procedure for preventive vigilance mechanisms to prevent flow of suspicious cash, illicit liquor, drugs/narcotics, freebies and smuggled goods during elections.\r\nIn line with directions of the Election Commission, which had expressed concerns that smuggled goods/contrabands and other illicit articles may be used to lure the voters during the election process, the CBIC has directed its field formations to monitor use of both monetary and non-monetary items to lure voters during elections.\r\nThis story is subscriber only!\r\n\r\nNow subscribe at a special Republic Day offer of Rs 75/month.\r\nSubscribe Now\r\nAlready a subscriber? Sign in",
         "https://indianexpress.com/article/business/cbic-issues-sop-to-check-use-of-freebies-liquor-to-lure-voters-8824986/",
         "business",
         "Ahead of assembly elections in states and general elections next year, the Central Board of Indirect Taxes and Customs (CBIC) has released the standard operating procedure for preventive vigilance mechanisms to prevent flow of suspicious cash, illicit liquor, drugs/narcotics, freebies and smuggled goods during elections.\r\nIn line with directions of the Election Commission, which had expressed concerns that smuggled goods/contrabands and other illicit articles may be used to lure the voters during the election process, the CBIC has directed its field formations to monitor use of both monetary and non-monetary items to lure voters during elections.\r\nThis story is subscriber only!\r\n\r\nNow subscribe at a special Republic Day offer of Rs 75/month.\r\nSubscribe Now\r\nAlready a subscriber? Sign in",
         "False"
        ],
        [
         "28",
         "GST collection rises 10.2% to Rs 1.62 lk cr in Sep; crosses Rs 1.60 lk cr mark for 4th time in FY24",
         "As a result, the total revenue for the month post settlement was Rs 63,555 crore for the Centre and Rs 65,235 crore for State GST.",
         "Gross Goods and Services Tax (GST) collections grew 10.2 per cent to over Rs 1.62 lakh crore in September (for sales in August), crossing the Rs 1.6 lakh crore mark for the fourth time in the current financial year, data released by the Finance Ministry on Sunday showed. Pickup in consumption and economic activity along with settlement through payments by businesses before the limitation deadline of September 30 for notices related to financial year 2017-18 seems to have aided the rise in GST collections.\r\nIn August, the GST collection was Rs 1,59,069 crore. The total GST collections stood at Rs 1,62,712 crore in September, out of which Central GST — the tax levied on intra-state supplies of goods and services by the Centre — was Rs 29,818 crore, State GST — the tax levied on intra-state supplies of goods and services by the states — was Rs 37,657 crore, Integrated GST — the tax levied on all inter-state supplies of goods and services — was Rs 83,623 crore (including Rs 41,145 crore collected on import of goods) and cess was Rs 11,613 crore (including Rs 881 crore collected on import of goods).\r\nRegister to continue reading this story\r\nGoogle\r\nFacebook\r\nEmail\r\nAlready have an account? Sign in",
         "https://indianexpress.com/article/business/market/gst-collection-rises-10-2-to-rs-1-62-lk-cr-in-sep-crosses-rs-1-60-lk-cr-mark-for-4th-time-in-fy24-8964514/",
         "business",
         "Gross Goods and Services Tax (GST) collections grew 10.2 per cent to over Rs 1.62 lakh crore in September (for sales in August), crossing the Rs 1.6 lakh crore mark for the fourth time in the current financial year, data released by the Finance Ministry on Sunday showed. Pickup in consumption and economic activity along with settlement through payments by businesses before the limitation deadline of September 30 for notices related to financial year 2017-18 seems to have aided the rise in GST collections.\r\nIn August, the GST collection was Rs 1,59,069 crore. The total GST collections stood at Rs 1,62,712 crore in September, out of which Central GST — the tax levied on intra-state supplies of goods and services by the Centre — was Rs 29,818 crore, State GST — the tax levied on intra-state supplies of goods and services by the states — was Rs 37,657 crore, Integrated GST — the tax levied on all inter-state supplies of goods and services — was Rs 83,623 crore (including Rs 41,145 crore collected on import of goods) and cess was Rs 11,613 crore (including Rs 881 crore collected on import of goods).\r\nRegister to continue reading this story\r\nGoogle\r\nFacebook\r\nEmail\r\nAlready have an account? Sign in",
         "True"
        ],
        [
         "29",
         "Sensex, Nifty end flat; metal stocks shine, Asian Paints, ITC lose",
         "As per the rules of the scheme, incentives were allowed to make electric vehicles by using made in India components, but in the investigation it was found that these seven firms have used imported components.",
         "The Centre has sought Rs 469 crore from seven electric two-wheeler makers, including Hero Electric and Okinawa for claiming incentives while not complying with the Faster Adoption and Manufacturing of Electric Vehicles (FAME) II scheme norms, a government official said.\r\nThe official said that in case of non-refund of the amount to the government, they will be de-registered from the scheme in the next 7-10 days and the government would not allow them to participate in the scheme.\r\nAn investigation by the heavy industries ministry has revealed that these companies have availed fiscal incentives under the scheme by violating the norms.\r\nADVERTISEMENT\r\nAs per the rules of the scheme, incentives were allowed to make electric vehicles by using made in India components, but in the investigation it was found that these seven firms have used imported components.\r\n“In our investigations, six companies have been found clean, but seven companies have violated the norms. So we are seeking Rs 469 crore. They will have to return the amount to the government,” the official said.\r\nThe seven companies are Hero Electric, Okinawa Autotech, Ampere EV, Revolt Motors, Benling India, Amo Mobility, and Lohia Auto.\r\nThe ministry conducted the investigation after receiving anonymous emails alleging that several EV makers were claiming subsidies without complying with the Phased Manufacturing Plan (PMP) rules, which are intended to boost domestic manufacturing of these electric vehicles.\r\nADVERTISEMENT\r\nAfter that, the ministry delayed the distribution of subsidies last financial year.\r\nOut of the seven, the official said, two have communicated to the ministry that they would return the incentives amount with interest.\r\nThe official also clarified that the government has not stopped any of these players from making vehicles, “but now they will not get any incentive under the scheme”.\r\nADVERTISEMENT\r\nWhen contacted a Hero Electric spokesperson said: “The notice pertains to a period in which there is no cause for our non-compliance. It is not relevant for Hero Electric.” A Greaves Electric Mobility (GEM) spokesperson said the company was one of the first companies to enthusiastically support and deliver on the government’s localisation vision.\r\n“We are working with the government to better understand their concern and in relation to the same we have filed a detailed representation,” the spokesperson added.\r\nLohia Auto CEO Ayush Lohia said: “We want to emphatically state that we have not received any information or notice from the government department or concerned authority regarding the reversal of subsidies.” He further said: “We are unaware of the source of information that alleges Lohia Auto Industries’ involvement in this matter.” Okinawa Autotech and Revolt Motors declined to comment.\r\nTo promote electric and hybrid vehicles, a Rs 10,000-crore programme under the FAME-II scheme was announced in 2019. It is the expanded version of the present scheme FAME India I (Faster Adoption and Manufacturing of (Hybrid) and Electric Vehicles, which was launched on April 1, 2015, with a total outlay of Rs 895 crore.\r\nIn three-wheeler and four-wheeler segments, incentives are applicable mainly on vehicles used for public transport or registered commercial purposes. In the two-wheeler segment, the focus is on private vehicles.",
         "https://indianexpress.com/article/business/centre-to-recover-rs-469-cr-for-non-compliance-with-fame-ii-from-7-companies-8857620/",
         "business",
         "The Centre has sought Rs 469 crore from seven electric two-wheeler makers, including Hero Electric and Okinawa for claiming incentives while not complying with the Faster Adoption and Manufacturing of Electric Vehicles (FAME) II scheme norms, a government official said.\r\nThe official said that in case of non-refund of the amount to the government, they will be de-registered from the scheme in the next 7-10 days and the government would not allow them to participate in the scheme.\r\nAn investigation by the heavy industries ministry has revealed that these companies have availed fiscal incentives under the scheme by violating the norms.\r\nADVERTISEMENT\r\nAs per the rules of the scheme, incentives were allowed to make electric vehicles by using made in India components, but in the investigation it was found that these seven firms have used imported components.\r\n“In our investigations, six companies have been found clean, but seven companies have violated the norms. So we are seeking Rs 469 crore. They will have to return the amount to the government,” the official said.\r\nThe seven companies are Hero Electric, Okinawa Autotech, Ampere EV, Revolt Motors, Benling India, Amo Mobility, and Lohia Auto.\r\nThe ministry conducted the investigation after receiving anonymous emails alleging that several EV makers were claiming subsidies without complying with the Phased Manufacturing Plan (PMP) rules, which are intended to boost domestic manufacturing of these electric vehicles.\r\nADVERTISEMENT\r\nAfter that, the ministry delayed the distribution of subsidies last financial year.\r\nOut of the seven, the official said, two have communicated to the ministry that they would return the incentives amount with interest.\r\nThe official also clarified that the government has not stopped any of these players from making vehicles, “but now they will not get any incentive under the scheme”.\r\nADVERTISEMENT\r\nWhen contacted a Hero Electric spokesperson said: “The notice pertains to a period in which there is no cause for our non-compliance. It is not relevant for Hero Electric.” A Greaves Electric Mobility (GEM) spokesperson said the company was one of the first companies to enthusiastically support and deliver on the government’s localisation vision.\r\n“We are working with the government to better understand their concern and in relation to the same we have filed a detailed representation,” the spokesperson added.\r\nLohia Auto CEO Ayush Lohia said: “We want to emphatically state that we have not received any information or notice from the government department or concerned authority regarding the reversal of subsidies.” He further said: “We are unaware of the source of information that alleges Lohia Auto Industries’ involvement in this matter.” Okinawa Autotech and Revolt Motors declined to comment.\r\nTo promote electric and hybrid vehicles, a Rs 10,000-crore programme under the FAME-II scheme was announced in 2019. It is the expanded version of the present scheme FAME India I (Faster Adoption and Manufacturing of (Hybrid) and Electric Vehicles, which was launched on April 1, 2015, with a total outlay of Rs 895 crore.\r\nIn three-wheeler and four-wheeler segments, incentives are applicable mainly on vehicles used for public transport or registered commercial purposes. In the two-wheeler segment, the focus is on private vehicles.",
         "False"
        ],
        [
         "30",
         "Sensex jumps 759 pts to close at record high, Nifty scales 22K mount on sharp gain in IT shares",
         "A strong rally in IT shares Infosys, TCS, Wipro and HCL Tech after better than expected Q3 results helped the indices scale new record high levels. Oil & gas and energy sector shares also boosted the rally.",
         "Benchmark Sensex closed above the 73,000 level for the first time while broader Nifty scaled the 22,000-point peak on Monday as key stock indices stayed on the record-breaking run powered by a rally in IT shares, Reliance and HDFC Bank.\r\nRising for the fifth day in a row, the 30-share BSE Sensex jumped 759.49 points or 1.05 per cent to settle at a lifetime closing high of 73,327.94. During the day, it rallied 833.71 points or 1.14 per cent to hit an all-time intra-day peak of 73,402.16.\r\nThe Nifty climbed 202.90 points or 0.93 per cent to settle at a new closing high of 22,097.45. During the day, it zoomed 221 points or 1 per cent to reach a lifetime intra-day high of 22,115.55. A strong rally in IT shares Infosys, TCS, Wipro and HCL Tech after better than expected Q3 results helped the indices scale new record high levels. Oil & gas and energy sector shares also boosted the rally.\r\nADVERTISEMENT\r\n“The market gained momentum, led by the uptick in the IT index with the growing optimism about increased discretionary spending and strong deal wins. The US bond yield edged lower as market participants bet on the FED easing cycle, which is expected to start in March,” said Vinod Nair, Head of Research, Geojit Financial Services.\r\nAmong the Sensex firms, Wipro jumped over 6 per cent after the IT company’s December quarter earnings beat estimates.\r\nThe other prominent gainers were HCL Technologies, HDFC Bank, Infosys, Tech Mahindra, Bharti Airtel and Reliance Industries. HCL Technologies on Friday reported a 6.2 per cent increase in consolidated net profit at Rs 4,350 crore, highest ever on a quarterly basis, in the three months ended December 2023 on the back of growth in both services and software businesses. Bajaj Finance, Bajaj Finserv, Larsen & Toubro, Tata Motors, Tata Steel and Axis Bank were among the laggards.\r\nIT majors were on the front foot while select heavyweights from banking and energy baskets also aided the uptick, according to Ajit Mishra, SVP – Technical Research, Religare Broking Ltd.\r\nIn the broader market, the BSE midcap gauge climbed 0.67 per cent and smallcap index rallied 0.11 per cent. Among the indices, IT jumped 1.79 per cent, teck climbed 1.79 per cent, oil & gas (1.70 per cent), energy (1.66 per cent), telecommunication (1.41 per cent) and financial services (0.81 per cent). Commodities and metal were the laggards.\r\nADVERTISEMENT\r\nMeanwhile, wholesale inflation inched edged up 0.73 per cent in December from 0.26 per cent in the previous month mainly due to a sharp rise in food prices. Wholesale inflation was in the negative zone from April to October.\r\nIn Asian markets, Seoul, Tokyo and Shanghai settled in the green while Hong Kong ended marginally lower. European markets were trading mostly lower. The US markets ended on a muted note on Friday.\r\nGlobal oil benchmark Brent crude declined 0.29 per cent to USD 78.06 a barrel.\r\nADVERTISEMENT\r\nForeign institutional investors (FIIs) offloaded equities worth Rs 340.05 crore on Friday, according to exchange data.\r\nThe BSE benchmark zoomed 847.27 points or 1.18 per cent to settle at 72,568.45 on Friday. The Nifty climbed 247.35 points or 1.14 per cent to settle at 21,894.55.",
         "https://indianexpress.com/article/business/market/sensex-record-high-nifty-sharp-gain-9110580/",
         "business",
         "Benchmark Sensex closed above the 73,000 level for the first time while broader Nifty scaled the 22,000-point peak on Monday as key stock indices stayed on the record-breaking run powered by a rally in IT shares, Reliance and HDFC Bank.\r\nRising for the fifth day in a row, the 30-share BSE Sensex jumped 759.49 points or 1.05 per cent to settle at a lifetime closing high of 73,327.94. During the day, it rallied 833.71 points or 1.14 per cent to hit an all-time intra-day peak of 73,402.16.\r\nThe Nifty climbed 202.90 points or 0.93 per cent to settle at a new closing high of 22,097.45. During the day, it zoomed 221 points or 1 per cent to reach a lifetime intra-day high of 22,115.55. A strong rally in IT shares Infosys, TCS, Wipro and HCL Tech after better than expected Q3 results helped the indices scale new record high levels. Oil & gas and energy sector shares also boosted the rally.\r\nADVERTISEMENT\r\n“The market gained momentum, led by the uptick in the IT index with the growing optimism about increased discretionary spending and strong deal wins. The US bond yield edged lower as market participants bet on the FED easing cycle, which is expected to start in March,” said Vinod Nair, Head of Research, Geojit Financial Services.\r\nAmong the Sensex firms, Wipro jumped over 6 per cent after the IT company’s December quarter earnings beat estimates.\r\nThe other prominent gainers were HCL Technologies, HDFC Bank, Infosys, Tech Mahindra, Bharti Airtel and Reliance Industries. HCL Technologies on Friday reported a 6.2 per cent increase in consolidated net profit at Rs 4,350 crore, highest ever on a quarterly basis, in the three months ended December 2023 on the back of growth in both services and software businesses. Bajaj Finance, Bajaj Finserv, Larsen & Toubro, Tata Motors, Tata Steel and Axis Bank were among the laggards.\r\nIT majors were on the front foot while select heavyweights from banking and energy baskets also aided the uptick, according to Ajit Mishra, SVP – Technical Research, Religare Broking Ltd.\r\nIn the broader market, the BSE midcap gauge climbed 0.67 per cent and smallcap index rallied 0.11 per cent. Among the indices, IT jumped 1.79 per cent, teck climbed 1.79 per cent, oil & gas (1.70 per cent), energy (1.66 per cent), telecommunication (1.41 per cent) and financial services (0.81 per cent). Commodities and metal were the laggards.\r\nADVERTISEMENT\r\nMeanwhile, wholesale inflation inched edged up 0.73 per cent in December from 0.26 per cent in the previous month mainly due to a sharp rise in food prices. Wholesale inflation was in the negative zone from April to October.\r\nIn Asian markets, Seoul, Tokyo and Shanghai settled in the green while Hong Kong ended marginally lower. European markets were trading mostly lower. The US markets ended on a muted note on Friday.\r\nGlobal oil benchmark Brent crude declined 0.29 per cent to USD 78.06 a barrel.\r\nADVERTISEMENT\r\nForeign institutional investors (FIIs) offloaded equities worth Rs 340.05 crore on Friday, according to exchange data.\r\nThe BSE benchmark zoomed 847.27 points or 1.18 per cent to settle at 72,568.45 on Friday. The Nifty climbed 247.35 points or 1.14 per cent to settle at 21,894.55.",
         "True"
        ],
        [
         "31",
         "Sebi notifies rules allowing PE funds to sponsor mutual fund houses",
         "Capital markets regulator Sebi has notified rules allowing private equity funds to sponsor a mutual fund house as they can bring in strategic guidance and talent to drive the growth of the industry.",
         "Capital markets regulator Sebi has notified rules allowing private equity funds to sponsor a mutual fund house as they can bring in strategic guidance and talent to drive the growth of the industry.\r\nCurrently, any entity that owns 40 per cent or more stake in a mutual fund is considered a sponsor and is required to fulfill the eligibility criteria.\r\n“A private equity fund or a pooled investment vehicle or a pooled investment fund may also be permitted to sponsor mutual funds,” Sebi said in a notification adding that this is subject to certain conditions.\r\nUnder the eligibility criteria for the sponsor of MF, Sebi said that sponsors need to adequately capitalise the asset management company (AMC) such that the positive liquid net worth of AMC should be at least Rs 150 crore.\r\nIn addition, the capital contributed to the AMC would be locked in for 5 years, besides, the minimum sponsor stake of 40 per cent would also be locked in for five years, according to the notification issued on Monday.\r\nFurther, the regulator said that “Self Sponsored AMCs” can continue the mutual fund business. This is subject to AMCs fulfilling certain conditions. The move would give the original sponsor flexibility to voluntarily disassociate itself from the MF without needing to induct a new and eligible sponsor.\r\nIn addition, the regulator has increased the role and accountability of the trustees in a bid to safeguard unitholders’ interests. Also, the regulator enhanced the accountability of the board of AMC.\r\nADVERTISEMENT\r\nFurther, the regulator said that a unitholder protection committee (UHPC) by the board of an AMC would be constituted. This is part of Sebi’s attempt to have an independent review mechanism for the decisions of AMC from the perspective of the unitholders’ interest across all products and services.\r\nTo give this effect, the Securities and Exchange Board of India (Sebi) has amended mutual fund rules.",
         "https://indianexpress.com/article/business/market/sebi-rules-pe-funds-sponsor-mutual-fund-houses-8691783/",
         "business",
         "Capital markets regulator Sebi has notified rules allowing private equity funds to sponsor a mutual fund house as they can bring in strategic guidance and talent to drive the growth of the industry.\r\nCurrently, any entity that owns 40 per cent or more stake in a mutual fund is considered a sponsor and is required to fulfill the eligibility criteria.\r\n“A private equity fund or a pooled investment vehicle or a pooled investment fund may also be permitted to sponsor mutual funds,” Sebi said in a notification adding that this is subject to certain conditions.\r\nUnder the eligibility criteria for the sponsor of MF, Sebi said that sponsors need to adequately capitalise the asset management company (AMC) such that the positive liquid net worth of AMC should be at least Rs 150 crore.\r\nIn addition, the capital contributed to the AMC would be locked in for 5 years, besides, the minimum sponsor stake of 40 per cent would also be locked in for five years, according to the notification issued on Monday.\r\nFurther, the regulator said that “Self Sponsored AMCs” can continue the mutual fund business. This is subject to AMCs fulfilling certain conditions. The move would give the original sponsor flexibility to voluntarily disassociate itself from the MF without needing to induct a new and eligible sponsor.\r\nIn addition, the regulator has increased the role and accountability of the trustees in a bid to safeguard unitholders’ interests. Also, the regulator enhanced the accountability of the board of AMC.\r\nADVERTISEMENT\r\nFurther, the regulator said that a unitholder protection committee (UHPC) by the board of an AMC would be constituted. This is part of Sebi’s attempt to have an independent review mechanism for the decisions of AMC from the perspective of the unitholders’ interest across all products and services.\r\nTo give this effect, the Securities and Exchange Board of India (Sebi) has amended mutual fund rules.",
         "True"
        ],
        [
         "32",
         "Reliance Retail in talks for new investments worth $1.5 billion with Gulf, Singapore funds: Report",
         "Reliance Retail is in talks with existing investors including the sovereign wealth funds of Singapore, Abu Dhabi and Saudi Arabia for combined new investments of around $1.5 billion, Reuters reported.",
         "Reliance Retail is in talks with existing investors including the sovereign wealth funds of Singapore, Abu Dhabi and Saudi Arabia for combined new investments of around $1.5 billion, three sources with direct knowledge of the plan said.\r\nReliance Retail is India’s largest retailer and is led by Asia’s richest person Mukesh Ambani. The talks with investors are part of an internal target to raise $3.5 billion which the company wants to close by the end September, Reuters has reported. Of that, QIA last month announced a $1 billion investment and KKR & Co this week $250 million.\r\nSingapore’s GIC, the Abu Dhabi Investment Authority (ADIA) and Saudi Arabia’s Public Investment Fund (PIF) are looking to invest at least $500 million each in Reliance Retail at a valuation of $100 billion, one of the sources told Reuters.\r\nADVERTISEMENT\r\nGIC, ADIA declined to comment, while PIF did not respond to Reuters requests for comment. Reliance said: “we do not comment on media speculation and rumours”.\r\nA second source said some of the three investors could end up putting in less than $500 million, and talks were also on with at least one or two further investors for the fund raising.\r\n“All the three investors have evaluated the company quite seriously,” said the first of the three sources, all of whom declined to be named as the discussions are private.\r\nThe final investments or funding plans could still change.\r\nGIC, PIF and ADIA are among the world’s biggest investment funds and together they own a 4.4% stake in the Indian retailer.\r\nADVERTISEMENT\r\nReliance Industries, the retail arm’s parent, also has plans to invest in the ongoing fund raising round of $3.5 billion, two of the sources said.\r\nReliance sold a 10.09% stake in its retail unit in 2020, valuing it at 4.68 trillion rupees ($56.4 billion). At that time, GIC and ADIA invested $664 million each, while PIF pumped in $1.15 billion, based on current exchange rates.\r\nA fourth source briefed on the dealmaking said the 2020 fund raising agreements had a clause that allowed existing investors to increase their stakes, and those investment funds were showing keen interest.\r\nADVERTISEMENT\r\nAmbani’s Indian retail empire has more than 18,000 stores, with operations ranging from groceries to electronics. It includes foreign partnerships with brands such as Marks and Spencer and competes with Amazon and Walmart’s Flipkart in one of the world’s biggest markets.\r\nWhen ADIA invested in Reliance Retail in 2020, it said it was part of its strategy of targeting market leading businesses in Asia linked to the region’s consumption-driven growth.\r\nLast month Ambani said in a speech that “several marquee global strategic and financial investors have shown strong interest” in his company, but gave no names. In 2019, the billionaire said his group planned to list the retail business in five years.\r\nReliance Retail reported a consolidated net profit of 91.81 billion rupees ($1.11 billion) for the financial year that ended in March 2023, on revenue of 2.6 trillion rupees. It has also forayed into the consumer goods business, which will compete with likes of Coca-Cola and Unilever.",
         "https://indianexpress.com/article/business/companies/reliance-retail-new-investments-1-5-billion-gulf-singapore-funds-report-8938422/",
         "business",
         "Reliance Retail is in talks with existing investors including the sovereign wealth funds of Singapore, Abu Dhabi and Saudi Arabia for combined new investments of around $1.5 billion, three sources with direct knowledge of the plan said.\r\nReliance Retail is India’s largest retailer and is led by Asia’s richest person Mukesh Ambani. The talks with investors are part of an internal target to raise $3.5 billion which the company wants to close by the end September, Reuters has reported. Of that, QIA last month announced a $1 billion investment and KKR & Co this week $250 million.\r\nSingapore’s GIC, the Abu Dhabi Investment Authority (ADIA) and Saudi Arabia’s Public Investment Fund (PIF) are looking to invest at least $500 million each in Reliance Retail at a valuation of $100 billion, one of the sources told Reuters.\r\nADVERTISEMENT\r\nGIC, ADIA declined to comment, while PIF did not respond to Reuters requests for comment. Reliance said: “we do not comment on media speculation and rumours”.\r\nA second source said some of the three investors could end up putting in less than $500 million, and talks were also on with at least one or two further investors for the fund raising.\r\n“All the three investors have evaluated the company quite seriously,” said the first of the three sources, all of whom declined to be named as the discussions are private.\r\nThe final investments or funding plans could still change.\r\nGIC, PIF and ADIA are among the world’s biggest investment funds and together they own a 4.4% stake in the Indian retailer.\r\nADVERTISEMENT\r\nReliance Industries, the retail arm’s parent, also has plans to invest in the ongoing fund raising round of $3.5 billion, two of the sources said.\r\nReliance sold a 10.09% stake in its retail unit in 2020, valuing it at 4.68 trillion rupees ($56.4 billion). At that time, GIC and ADIA invested $664 million each, while PIF pumped in $1.15 billion, based on current exchange rates.\r\nA fourth source briefed on the dealmaking said the 2020 fund raising agreements had a clause that allowed existing investors to increase their stakes, and those investment funds were showing keen interest.\r\nADVERTISEMENT\r\nAmbani’s Indian retail empire has more than 18,000 stores, with operations ranging from groceries to electronics. It includes foreign partnerships with brands such as Marks and Spencer and competes with Amazon and Walmart’s Flipkart in one of the world’s biggest markets.\r\nWhen ADIA invested in Reliance Retail in 2020, it said it was part of its strategy of targeting market leading businesses in Asia linked to the region’s consumption-driven growth.\r\nLast month Ambani said in a speech that “several marquee global strategic and financial investors have shown strong interest” in his company, but gave no names. In 2019, the billionaire said his group planned to list the retail business in five years.\r\nReliance Retail reported a consolidated net profit of 91.81 billion rupees ($1.11 billion) for the financial year that ended in March 2023, on revenue of 2.6 trillion rupees. It has also forayed into the consumer goods business, which will compete with likes of Coca-Cola and Unilever.",
         "True"
        ],
        [
         "33",
         "India to be part of JP Morgan global bond index, could get $25bn inflows",
         "Inclusion to result in nearly $26 bn of passive inflows, say experts",
         "JP Morgan Chase & Co has announced it will include Indian government bonds to its emerging markets bond index from June 2024, a much-anticipated move which could attract more foreign flows into the domestic government securities market. The move can potentially attract about $25 billion into the country, as per analyst estimates.\r\nIndia, which will be included in the GBI-EM Global index suite starting June 28, 2024, is expected to reach the maximum weight of 10 per cent in the GBI-EM Global Diversified Index (GBI-EM GD), JP Morgan said. Currently, 23 Indian government bonds with a combined notional value of $330 billion are index eligible. Inclusion of the bonds will be staggered over 10 months through March 31, 2025 (i.e., inclusion of 1 per cent weight per month), it said.\r\nThis story is subscriber only!\r\n\r\nNow subscribe at a special Republic Day offer of Rs 75/month.\r\nSubscribe Now\r\nAlready a subscriber? Sign in",
         "https://indianexpress.com/article/business/economy/jp-morgan-india-emerging-markets-bond-index-8951000/",
         "business",
         "JP Morgan Chase & Co has announced it will include Indian government bonds to its emerging markets bond index from June 2024, a much-anticipated move which could attract more foreign flows into the domestic government securities market. The move can potentially attract about $25 billion into the country, as per analyst estimates.\r\nIndia, which will be included in the GBI-EM Global index suite starting June 28, 2024, is expected to reach the maximum weight of 10 per cent in the GBI-EM Global Diversified Index (GBI-EM GD), JP Morgan said. Currently, 23 Indian government bonds with a combined notional value of $330 billion are index eligible. Inclusion of the bonds will be staggered over 10 months through March 31, 2025 (i.e., inclusion of 1 per cent weight per month), it said.\r\nThis story is subscriber only!\r\n\r\nNow subscribe at a special Republic Day offer of Rs 75/month.\r\nSubscribe Now\r\nAlready a subscriber? Sign in",
         "False"
        ],
        [
         "34",
         "China exports decline slower than expected in August as economy remains under pressure",
         "China's exports for August slumped 8.8 per cent from the same time last year, totalling $284.87 billion, and were slower than the 14.5 per cent last month, according to customs data on Thursday.",
         "China’s exports declined at a slower pace in August, even as the world’s second-biggest economy remains under pressure from weaker demand both domestically and abroad.\r\nExports for August slumped 8.8 per cent from the same time last year, totalling USD 284.87 billion, and were slower than the 14.5 per cent last month, according to customs data on Thursday.\r\nImports slid 7.3 per cent from a year ago to USD 216.51 billion, but beat consensus estimates of a 9 per cent decline.\r\nADVERTISEMENT\r\nChina’s trade surplus contracted 13.2 per cent to USD 68.36 billion, lower than the USD 80.6 billion in July.\r\nChinese leaders have in recent months rolled out several policy measures to shore up the economy after a post-COVID rebound fizzled earlier than expected.\r\nChina’s central banks have eased borrowing rules, relaxing borrowing rules and lowering mortgage rates for first-time home buyers as well as implementing some tax relief measures for small businesses.\r\nHowever, authorities have yet to announce large-scale stimulus spending or tax cuts.\r\nADVERTISEMENT\r\nDemand for Chinese exports weakened after the Federal Reserve and central banks in Europe and Asia began raising interest rates last year to cool inflation that was at multi-decade highs.",
         "https://indianexpress.com/article/business/economy/china-exports-decline-slower-august-economy-under-pressure-8928514/",
         "business",
         "China’s exports declined at a slower pace in August, even as the world’s second-biggest economy remains under pressure from weaker demand both domestically and abroad.\r\nExports for August slumped 8.8 per cent from the same time last year, totalling USD 284.87 billion, and were slower than the 14.5 per cent last month, according to customs data on Thursday.\r\nImports slid 7.3 per cent from a year ago to USD 216.51 billion, but beat consensus estimates of a 9 per cent decline.\r\nADVERTISEMENT\r\nChina’s trade surplus contracted 13.2 per cent to USD 68.36 billion, lower than the USD 80.6 billion in July.\r\nChinese leaders have in recent months rolled out several policy measures to shore up the economy after a post-COVID rebound fizzled earlier than expected.\r\nChina’s central banks have eased borrowing rules, relaxing borrowing rules and lowering mortgage rates for first-time home buyers as well as implementing some tax relief measures for small businesses.\r\nHowever, authorities have yet to announce large-scale stimulus spending or tax cuts.\r\nADVERTISEMENT\r\nDemand for Chinese exports weakened after the Federal Reserve and central banks in Europe and Asia began raising interest rates last year to cool inflation that was at multi-decade highs.",
         "True"
        ],
        [
         "35",
         "Spike in tomato prices temporary; rates will cool down soon: Govt official",
         "The maximum price of Rs 122 per kg has been reported from Gorakhpur (Uttar Pradesh) and Bellary (Karnataka), as per the department data.",
         "The spurt in prices of tomato is a temporary seasonal phenomenon, and rates will cool down soon, a top government official said, as retail prices of the kitchen staple shot up to Rs 100 per kg in major cities.\r\n“It is a highly perishable commodity. Transportation gets affected in areas that received sudden rains. It is a temporary issue. Prices will cool down soon. It happens every year during this time,” Consumer Affairs Secretary Rohit Kumar Singh told PTI.\r\nStating that there is a seasonality in tomato, he said the data on tomato prices of the last five years shows that the rates have risen every year at this time. From Himachal Pradesh, the supply to Delhi will start coming in the next 10 days and prices will soften.\r\nAccording to the data maintained by the Department of Consumer Affairs, the average price of tomato on an all-India basis is Rs 46 per kg on June 27. The modal price is Rs 50 per kg while the maximum price is Rs 122 per kg.\r\nAcross four metros, the retail price of tomato in Delhi is Rs 60 per kg, Mumbai is Rs 42 per kg, Kolkata is Rs 75 per kg and Chennai is Rs 67 per kg.\r\nAmong other major cities, the prices stood at Rs 52 per kg in Bengaluru, Rs 80 per kg in Jammu, Rs 60 per kg in Lucknow, Rs 88 per kg in Shimla, Rs 100 per kg in Bhubaneshwar and Rs 99 per kg in Raipur.\r\nThe maximum price of Rs 122 per kg has been reported from Gorakhpur (Uttar Pradesh) and Bellary (Karnataka), as per the department data.\r\nADVERTISEMENT\r\nIn the Delhi-National Capital Region (NCR), tomato prices at Mother Dairy’s Safal stores have doubled to nearly Rs 80 per kg in the last one week as supplies have been affected due to rains in key producing states.\r\nThe best quality tomatoes at Mother Dairy’s Safal retail stores are being sold at Rs 78 per kg on Tuesday. Some varieties are available at lower rates also. There are more than 300 Safal stores in the Delhi-NCR market.\r\n“With the onset of monsoon, the tomato crop is currently going through a seasonal transition. Rainfall in areas such as Himachal Pradesh and Uttarakhand have impacted the crop and also restricted its supply, resulting in a demand-supply gap,” a Mother Dairy spokesperson said.\r\nADVERTISEMENT\r\nAgritech startup Otipy, which markets fresh fruits and vegetables through a mobile app, is selling tomatoes at Rs 86 per kg. Tomatoes are available at Rs 80-85 per kg on the e-commerce platform Big Basket.\r\nVegetable vendors in the national capital are selling tomatoes between Rs 80-120 per kg, depending on the location and quality.\r\nExplained | Tomato prices are on fire — and will not come down soon. Here is why\r\n“We were selling tomatoes at Rs 25-30 per kg around June 15. It started to increase gradually after that to Rs 40, then Rs 60 and now we are selling at Rs 80 per kg,” Babloo, a vegetable vendor in Paschim Vihar, West Delhi, said.\r\nThe prices at Azadpur, the biggest wholesale market of fruits and vegetables in the country, have increased sharply, he added.\r\nHowever, according to the price prediction made based on artificial intelligence by the consumer affairs ministry, the prices of tomato are likely to remain lower in July, the Secretary said.\r\nADVERTISEMENT\r\nIn the producing centre of Madanapalle (Andhra Pradesh), the average whole prices at present are ruling at Rs 5,600 per quintal and the rates are expected to come down to Rs 4,400 per quintal in July. Similarly, the average price of tomato is ruling at Rs 3,670 per quintal in Kolar (Karnataka) at present, and is likely to decline to Rs 2,700 per quintal in July, he added.\r\nAlso Read | Tomatoes at Rs 100 per kg: Heavy rain, supply shortage lead to skyrocketing vegetable prices in Tamil Nadu\r\nAs per the government data, tomato production is estimated to fall slightly to 20.62 million tonnes in 2022-23 from 20.69 million tonnes in the previous year.",
         "https://indianexpress.com/article/business/economy/tomato-prices-spike-temporary-rates-cool-down-soon-govt-official-8689843/",
         "business",
         "The spurt in prices of tomato is a temporary seasonal phenomenon, and rates will cool down soon, a top government official said, as retail prices of the kitchen staple shot up to Rs 100 per kg in major cities.\r\n“It is a highly perishable commodity. Transportation gets affected in areas that received sudden rains. It is a temporary issue. Prices will cool down soon. It happens every year during this time,” Consumer Affairs Secretary Rohit Kumar Singh told PTI.\r\nStating that there is a seasonality in tomato, he said the data on tomato prices of the last five years shows that the rates have risen every year at this time. From Himachal Pradesh, the supply to Delhi will start coming in the next 10 days and prices will soften.\r\nAccording to the data maintained by the Department of Consumer Affairs, the average price of tomato on an all-India basis is Rs 46 per kg on June 27. The modal price is Rs 50 per kg while the maximum price is Rs 122 per kg.\r\nAcross four metros, the retail price of tomato in Delhi is Rs 60 per kg, Mumbai is Rs 42 per kg, Kolkata is Rs 75 per kg and Chennai is Rs 67 per kg.\r\nAmong other major cities, the prices stood at Rs 52 per kg in Bengaluru, Rs 80 per kg in Jammu, Rs 60 per kg in Lucknow, Rs 88 per kg in Shimla, Rs 100 per kg in Bhubaneshwar and Rs 99 per kg in Raipur.\r\nThe maximum price of Rs 122 per kg has been reported from Gorakhpur (Uttar Pradesh) and Bellary (Karnataka), as per the department data.\r\nADVERTISEMENT\r\nIn the Delhi-National Capital Region (NCR), tomato prices at Mother Dairy’s Safal stores have doubled to nearly Rs 80 per kg in the last one week as supplies have been affected due to rains in key producing states.\r\nThe best quality tomatoes at Mother Dairy’s Safal retail stores are being sold at Rs 78 per kg on Tuesday. Some varieties are available at lower rates also. There are more than 300 Safal stores in the Delhi-NCR market.\r\n“With the onset of monsoon, the tomato crop is currently going through a seasonal transition. Rainfall in areas such as Himachal Pradesh and Uttarakhand have impacted the crop and also restricted its supply, resulting in a demand-supply gap,” a Mother Dairy spokesperson said.\r\nADVERTISEMENT\r\nAgritech startup Otipy, which markets fresh fruits and vegetables through a mobile app, is selling tomatoes at Rs 86 per kg. Tomatoes are available at Rs 80-85 per kg on the e-commerce platform Big Basket.\r\nVegetable vendors in the national capital are selling tomatoes between Rs 80-120 per kg, depending on the location and quality.\r\nExplained | Tomato prices are on fire — and will not come down soon. Here is why\r\n“We were selling tomatoes at Rs 25-30 per kg around June 15. It started to increase gradually after that to Rs 40, then Rs 60 and now we are selling at Rs 80 per kg,” Babloo, a vegetable vendor in Paschim Vihar, West Delhi, said.\r\nThe prices at Azadpur, the biggest wholesale market of fruits and vegetables in the country, have increased sharply, he added.\r\nHowever, according to the price prediction made based on artificial intelligence by the consumer affairs ministry, the prices of tomato are likely to remain lower in July, the Secretary said.\r\nADVERTISEMENT\r\nIn the producing centre of Madanapalle (Andhra Pradesh), the average whole prices at present are ruling at Rs 5,600 per quintal and the rates are expected to come down to Rs 4,400 per quintal in July. Similarly, the average price of tomato is ruling at Rs 3,670 per quintal in Kolar (Karnataka) at present, and is likely to decline to Rs 2,700 per quintal in July, he added.\r\nAlso Read | Tomatoes at Rs 100 per kg: Heavy rain, supply shortage lead to skyrocketing vegetable prices in Tamil Nadu\r\nAs per the government data, tomato production is estimated to fall slightly to 20.62 million tonnes in 2022-23 from 20.69 million tonnes in the previous year.",
         "False"
        ],
        [
         "36",
         "Adani Group’s Mundra port handled 5,300 TEUs in July",
         "FMCG major Nestle India Ltd on Thursday reported an increase of 36.86 per cent in its net profit at Rs 698.34 crore for the second quarter ended June 30, 2023.",
         "FMCG major Nestle India Ltd on Thursday reported an increase of 36.86 per cent in its net profit at Rs 698.34 crore for the second quarter ended June 30, 2023.\r\nThe company, which follows the January-December financial year, had posted a net profit of Rs 510.24 crore in the same period a year ago, Nestle India said in a regulatory filing.\r\nNestle India’s net sales rose 15.02 per cent to Rs 4,619.50 crore during the period under review, as against Rs 4,015.98 crore in the corresponding period last fiscal, the company said.\r\nADVERTISEMENT\r\nTotal expenses in the April-June quarter were at Rs 3,743.15 crore, up 11.07 per cent, as against Rs 3,369.81 crore in the corresponding period a year ago.\r\nNestle India’s domestic sales were up 14.6 per cent to Rs 4,420.77 crore, as against Rs 3,857.56 crore in the June quarter of 2022.\r\n“Domestic sales growth is broad-based and grew by 14.6 per cent, on the back of prudent pricing and supported by mix and volume with targeted brand support,” said Nestlé India Chairman and Managing Director Suresh Narayanan.\r\nIts key brands continued to perform well, led by KITKAT, NESCAFÉ and MAGGI among others, it added.\r\nADVERTISEMENT\r\nIts exports were up 25.44 per cent to Rs 198.73 crore, as against Rs 158.42 crore in the corresponding quarter a year ago.\r\nThe total income of Nestle India in the June quarter was at Rs 4,682.48 crore, up 15.18 per cent.\r\nOver the outlook, Narayanan said commodities such as edible oils, wheat and packaging materials have been in the lower price range.\r\nADVERTISEMENT\r\n“A reversal of price trend is noted in fuels with prices softening in the second quarter after reaching a higher level towards the end of quarter one. In fresh milk, there has been price stability. Robusta (coffee) prices are elevated and are expected to remain volatile,” he said.\r\nShares of Nestle India Ltd were trading at Rs 22,322.60 apiece on BSE in late morning trade on Thursday, down 2.11 per cent from the previous close.",
         "https://indianexpress.com/article/business/companies/nestle-india-q2-net-profit-jumps-net-sales-rise-8862886/",
         "business",
         "FMCG major Nestle India Ltd on Thursday reported an increase of 36.86 per cent in its net profit at Rs 698.34 crore for the second quarter ended June 30, 2023.\r\nThe company, which follows the January-December financial year, had posted a net profit of Rs 510.24 crore in the same period a year ago, Nestle India said in a regulatory filing.\r\nNestle India’s net sales rose 15.02 per cent to Rs 4,619.50 crore during the period under review, as against Rs 4,015.98 crore in the corresponding period last fiscal, the company said.\r\nADVERTISEMENT\r\nTotal expenses in the April-June quarter were at Rs 3,743.15 crore, up 11.07 per cent, as against Rs 3,369.81 crore in the corresponding period a year ago.\r\nNestle India’s domestic sales were up 14.6 per cent to Rs 4,420.77 crore, as against Rs 3,857.56 crore in the June quarter of 2022.\r\n“Domestic sales growth is broad-based and grew by 14.6 per cent, on the back of prudent pricing and supported by mix and volume with targeted brand support,” said Nestlé India Chairman and Managing Director Suresh Narayanan.\r\nIts key brands continued to perform well, led by KITKAT, NESCAFÉ and MAGGI among others, it added.\r\nADVERTISEMENT\r\nIts exports were up 25.44 per cent to Rs 198.73 crore, as against Rs 158.42 crore in the corresponding quarter a year ago.\r\nThe total income of Nestle India in the June quarter was at Rs 4,682.48 crore, up 15.18 per cent.\r\nOver the outlook, Narayanan said commodities such as edible oils, wheat and packaging materials have been in the lower price range.\r\nADVERTISEMENT\r\n“A reversal of price trend is noted in fuels with prices softening in the second quarter after reaching a higher level towards the end of quarter one. In fresh milk, there has been price stability. Robusta (coffee) prices are elevated and are expected to remain volatile,” he said.\r\nShares of Nestle India Ltd were trading at Rs 22,322.60 apiece on BSE in late morning trade on Thursday, down 2.11 per cent from the previous close.",
         "False"
        ],
        [
         "37",
         "Apple, Google should share apps’ origin, developers’ identity with Centre: House panel",
         "The Standing Committee on Finance pointed out that MoSPI’s response on the seventh economic census “falls short in providing a proactive approach” to address the delays.",
         "A parliamentary panel has questioned the Ministry of Statistics and Programme Implementation (MoSPI) over the delay in the release of the economic census results, pointing out in a report tabled Thursday in Parliament that only 13 states and Union Territories have communicated their approval for provisional results so far.\r\nThe seventh economic census was launched in 2019 and completed in March 2021.\r\nThis story is subscriber only!\r\n\r\nNow subscribe at a special Republic Day offer of Rs 75/month.\r\nSubscribe Now\r\nAlready a subscriber? Sign in",
         "https://indianexpress.com/article/business/economy/economic-census-parliamentary-panel-questions-ministry-over-delay-in-results-8864102/",
         "business",
         "A parliamentary panel has questioned the Ministry of Statistics and Programme Implementation (MoSPI) over the delay in the release of the economic census results, pointing out in a report tabled Thursday in Parliament that only 13 states and Union Territories have communicated their approval for provisional results so far.\r\nThe seventh economic census was launched in 2019 and completed in March 2021.\r\nThis story is subscriber only!\r\n\r\nNow subscribe at a special Republic Day offer of Rs 75/month.\r\nSubscribe Now\r\nAlready a subscriber? Sign in",
         "False"
        ],
        [
         "38",
         "Shree Cement Q1 profit rises 84% on strong domestic demand",
         "Tata Motors on Tuesday reported a consolidated net profit of Rs 3,300.65 crore for the first quarter ended June 30, riding on a sharp improvement in performance of its British arm Jaguar Land Rover and commercial vehicles business.",
         "Tata Motors stock on Wednesday climbed 4 per cent to hit its 52-week high after the company reported a consolidated net profit of Rs 3,300.65 crore for the first quarter ended June 30.\r\nThe company’s stock jumped 4 per cent to its 52-week high of Rs 665.30 on the BSE. At the NSE, it rallied 4 per cent to reach its 52-week high of Rs 665.40.\r\nTata Motors on Tuesday reported a consolidated net profit of Rs 3,300.65 crore for the first quarter ended June 30, riding on a sharp improvement in performance of its British arm Jaguar Land Rover and commercial vehicles business.\r\nADVERTISEMENT\r\nThe company had posted a consolidated net loss of Rs 4,950.97 crore in the same quarter last fiscal, Tata Motors said in a regulatory filing.\r\nConsolidated revenue from operations stood at Rs 1,01,528.49 crore, as compared to Rs 71,227.76 crore in the year-ago period, it added.\r\nTotal expenses were at Rs 98,266.93 crore, as against Rs 77,783.69 crore.\r\nOn a standalone basis, loss after tax narrowed to Rs 64.04 crore, from Rs 181.03 crore in the year-ago period, the filing said.\r\nStandalone revenue from operations was at Rs 15,733.05 crore, as compared to Rs 14,793.12 crore, it added.\r\nADVERTISEMENT\r\nOverall, Tata Motors said it continued its strong performance in Q1 FY24, showing a sharp improvement driven by JLR and commercial vehicles businesses, whilst the passenger vehicles business was steady, the company said.",
         "https://indianexpress.com/article/business/market/tata-motors-shares-hit-52-week-high-first-quarter-8860735/",
         "business",
         "Tata Motors stock on Wednesday climbed 4 per cent to hit its 52-week high after the company reported a consolidated net profit of Rs 3,300.65 crore for the first quarter ended June 30.\r\nThe company’s stock jumped 4 per cent to its 52-week high of Rs 665.30 on the BSE. At the NSE, it rallied 4 per cent to reach its 52-week high of Rs 665.40.\r\nTata Motors on Tuesday reported a consolidated net profit of Rs 3,300.65 crore for the first quarter ended June 30, riding on a sharp improvement in performance of its British arm Jaguar Land Rover and commercial vehicles business.\r\nADVERTISEMENT\r\nThe company had posted a consolidated net loss of Rs 4,950.97 crore in the same quarter last fiscal, Tata Motors said in a regulatory filing.\r\nConsolidated revenue from operations stood at Rs 1,01,528.49 crore, as compared to Rs 71,227.76 crore in the year-ago period, it added.\r\nTotal expenses were at Rs 98,266.93 crore, as against Rs 77,783.69 crore.\r\nOn a standalone basis, loss after tax narrowed to Rs 64.04 crore, from Rs 181.03 crore in the year-ago period, the filing said.\r\nStandalone revenue from operations was at Rs 15,733.05 crore, as compared to Rs 14,793.12 crore, it added.\r\nADVERTISEMENT\r\nOverall, Tata Motors said it continued its strong performance in Q1 FY24, showing a sharp improvement driven by JLR and commercial vehicles businesses, whilst the passenger vehicles business was steady, the company said.",
         "True"
        ],
        [
         "39",
         "France’s TotalEnergies to invest $300 million in JV with Adani Group",
         "France's TotalEnergies SE will invest $300 million in a new joint venture with Adani Green for renewable energy project, the conglomerate said.",
         "France’s TotalEnergies SE will invest $300 million in a new joint venture with Adani Green for renewable energy project, the conglomerate said in a filing with stock exchanges on Wednesday.\r\n“Adani Green Energy Limited (AGEL) and TotalEnergies have entered into a binding agreement to create a new JV, equally owned by TotalEnergies and AGEL, with a 1,050 MW portfolio,” the company stated.\r\nAdani Green added, “Total will make a further investment (either directly or through its affiliates) of USD 300 million to form a new 50:50 joint venture company” with AGEL.\r\nADVERTISEMENT\r\n“This portfolio will comprise a mix of already operational (300 MW), under construction (500 MW) & under development assets (250 MW) with a blend of both solar & wind power. AGEL will contribute to the JV the assets and TotalEnergies an equity investment of 300 MUS$ which will further support their development,” the Adani Group’s renewable energy arm stated.\r\nAdani Group chairman Gautam Adani in the statement said, “We are delighted to extend our long-term partnership with TotalEnergies in AGEL. The investment will further strengthen the pivotal role played by AGEL in India’s glide path to decarbonization. This will help deliver our vision to have 45 GW renewable energy capacity by 2030.”",
         "https://indianexpress.com/article/business/companies/frances-totalenergies-to-invest-300-million-in-jv-with-adani-group-8948370/",
         "business",
         "France’s TotalEnergies SE will invest $300 million in a new joint venture with Adani Green for renewable energy project, the conglomerate said in a filing with stock exchanges on Wednesday.\r\n“Adani Green Energy Limited (AGEL) and TotalEnergies have entered into a binding agreement to create a new JV, equally owned by TotalEnergies and AGEL, with a 1,050 MW portfolio,” the company stated.\r\nAdani Green added, “Total will make a further investment (either directly or through its affiliates) of USD 300 million to form a new 50:50 joint venture company” with AGEL.\r\nADVERTISEMENT\r\n“This portfolio will comprise a mix of already operational (300 MW), under construction (500 MW) & under development assets (250 MW) with a blend of both solar & wind power. AGEL will contribute to the JV the assets and TotalEnergies an equity investment of 300 MUS$ which will further support their development,” the Adani Group’s renewable energy arm stated.\r\nAdani Group chairman Gautam Adani in the statement said, “We are delighted to extend our long-term partnership with TotalEnergies in AGEL. The investment will further strengthen the pivotal role played by AGEL in India’s glide path to decarbonization. This will help deliver our vision to have 45 GW renewable energy capacity by 2030.”",
         "False"
        ],
        [
         "40",
         "Air India to start operating A350 aircraft from January 22",
         "The plane will operate flights from Bengaluru, Chennai, Delhi, Hyderabad and Mumbai, Air India said.",
         "Air India will start operating its first A350 aircraft on the domestic routes from January 22, with the first flight from Bengaluru to Mumbai.\r\nThe A350-900 aircraft will have a three-class cabin configuration with 316 seats. There will be 28 business class, 24 premium economy and 264 economy seats.\r\n“India’s first Airbus A350 will enter commercial service on 22 January 2024,” the airline said in a release on Monday.\r\nADVERTISEMENT\r\nInitially, the aircraft will be deployed on domestic routes for crew familiarisation and regulatory compliance purposes.\r\nThe plane will operate flights from Bengaluru, Chennai, Delhi, Hyderabad and Mumbai, the release said.\r\n“The A350 aircraft will be later deployed for longer-haul flights to destinations across continents,” it added.\r\nAir India on Monday started bookings for the flights to be operated by the A350.\r\nADVERTISEMENT\r\nThe airline’s first of the 20 A350-900 aircraft landed in the national capital on December 23.",
         "https://indianexpress.com/article/business/aviation/air-india-a350-aircraft-operation-9090577/",
         "business",
         "Air India will start operating its first A350 aircraft on the domestic routes from January 22, with the first flight from Bengaluru to Mumbai.\r\nThe A350-900 aircraft will have a three-class cabin configuration with 316 seats. There will be 28 business class, 24 premium economy and 264 economy seats.\r\n“India’s first Airbus A350 will enter commercial service on 22 January 2024,” the airline said in a release on Monday.\r\nADVERTISEMENT\r\nInitially, the aircraft will be deployed on domestic routes for crew familiarisation and regulatory compliance purposes.\r\nThe plane will operate flights from Bengaluru, Chennai, Delhi, Hyderabad and Mumbai, the release said.\r\n“The A350 aircraft will be later deployed for longer-haul flights to destinations across continents,” it added.\r\nAir India on Monday started bookings for the flights to be operated by the A350.\r\nADVERTISEMENT\r\nThe airline’s first of the 20 A350-900 aircraft landed in the national capital on December 23.",
         "True"
        ],
        [
         "41",
         "Tax sops for low income slabs, higher capex likely in Budget",
         "The Budget session of Parliament, the last of the 17th Lok Sabha, will be held between January 31 and February 9. The Interim Budget will be presented by Sitharaman on February 1.",
         "UNION Finance Minister Nirmala Sitharaman said the upcoming Interim Budget is unlikely to have any “spectacular announcement”, but small tax relief measures and a fillip to welfare spending is likely, according to officials.\r\nTweaks in certain income tax rates, especially for those at the bottom of the taxpayer pyramid, are expected in the Interim Budget for 2024-25 to be announced on February 1. A hike in standard deduction along with a higher exemption limit to incentivise taxpayers to shift to the  new income tax regime are likely.\r\nYou have exhausted your monthly limit of free stories.\r\nRegister to read more stories\r\nContinue With:-\r\nGoogle\r\nFacebook\r\nEmail\r\nAlready have an account? Sign in",
         "https://indianexpress.com/article/business/economy/tax-sops-for-low-income-slabs-higher-capex-likely-in-budget-9120961/",
         "business",
         "UNION Finance Minister Nirmala Sitharaman said the upcoming Interim Budget is unlikely to have any “spectacular announcement”, but small tax relief measures and a fillip to welfare spending is likely, according to officials.\r\nTweaks in certain income tax rates, especially for those at the bottom of the taxpayer pyramid, are expected in the Interim Budget for 2024-25 to be announced on February 1. A hike in standard deduction along with a higher exemption limit to incentivise taxpayers to shift to the  new income tax regime are likely.\r\nYou have exhausted your monthly limit of free stories.\r\nRegister to read more stories\r\nContinue With:-\r\nGoogle\r\nFacebook\r\nEmail\r\nAlready have an account? Sign in",
         "False"
        ],
        [
         "42",
         "Sensex climbs 489 pts, Nifty advances to 19,133; all sectors in green",
         "In the 30-share Sensex pack, only Bajaj Finance and Tech Mahindra closed on a negative note.",
         "Domestic equities soared on Thursday in line with global markets after the US Fed Reserve’s signalled likely to pause on future rate hikes. BSE benchmark Sensex jumped 489.57 points, or 0.77 per cent to 64,080.90, while broader NSE Nifty50 climbed 144.10 points, or 0.76 per cent to 19,133.25.\r\nIn the 30-share Sensex pack, only Bajaj Finance and Tech Mahindra closed on a negative note. Meanwhile, in the Nifty50 pack, Hero MotoCorp, Bajaj Auto, HDFC Life, ONGC, Adani Enterprises, Divis Lab, Bajaj Finance, and Dr Reddy were the net losers.\r\nRegister to continue reading this story\r\nGoogle\r\nFacebook\r\nEmail\r\nAlready have an account? Sign in",
         "https://indianexpress.com/article/business/market/share-market-news-sensex-nifty-today-us-federal-reserve-monetary-policyshare-market-news-sensex-nifty-today-us-federal-reserve-monetary-policy-9010102/",
         "business",
         "Domestic equities soared on Thursday in line with global markets after the US Fed Reserve’s signalled likely to pause on future rate hikes. BSE benchmark Sensex jumped 489.57 points, or 0.77 per cent to 64,080.90, while broader NSE Nifty50 climbed 144.10 points, or 0.76 per cent to 19,133.25.\r\nIn the 30-share Sensex pack, only Bajaj Finance and Tech Mahindra closed on a negative note. Meanwhile, in the Nifty50 pack, Hero MotoCorp, Bajaj Auto, HDFC Life, ONGC, Adani Enterprises, Divis Lab, Bajaj Finance, and Dr Reddy were the net losers.\r\nRegister to continue reading this story\r\nGoogle\r\nFacebook\r\nEmail\r\nAlready have an account? Sign in",
         "False"
        ],
        [
         "43",
         "Air India passengers stranded for over 15 hours as Mumbai-Dubai, Dubai-Mumbai flights delayed",
         "As many as 5.83 crore tax returns have been filed for income earned in 2022-23 fiscal, thus crossing the number of ITRs filed till July 31 last year.",
         "Monday, July 31 is the last date for salaried individuals and non-audit cases to file income tax returns (ITR) for financial year 2022-23.\r\nThe Income Tax Department has urged taxpayers to file returns early and avoid last-minute rush.\r\nOver 5.83 crore returns have been filed for FY 2022-23 until 1 pm on July 30, crossing last year’s filings till July 31, the I-T department tweeted.\r\nADVERTISEMENT\r\nThe I-T portal logged over 46 lakh successful logins until 1 pm on July 30 and 1.78 crore on July 29, indicating a surge in filing activity.\r\nIf someone misses the deadline, they can still file a belated return with late fees of 50-200% of tax dues, but won’t be able to carry forward losses or avoid prosecution notices.\r\nThe department has been urging taxpayers to complete ITR filing formalities well before July 31 to avoid glitches and ensure all tax details are declared accurately within the deadline.",
         "https://indianexpress.com/article/business/economy/itr-last-filing-date-monday-july-31st-5-83-crore-tax-returns-filed-8868087/",
         "business",
         "Monday, July 31 is the last date for salaried individuals and non-audit cases to file income tax returns (ITR) for financial year 2022-23.\r\nThe Income Tax Department has urged taxpayers to file returns early and avoid last-minute rush.\r\nOver 5.83 crore returns have been filed for FY 2022-23 until 1 pm on July 30, crossing last year’s filings till July 31, the I-T department tweeted.\r\nADVERTISEMENT\r\nThe I-T portal logged over 46 lakh successful logins until 1 pm on July 30 and 1.78 crore on July 29, indicating a surge in filing activity.\r\nIf someone misses the deadline, they can still file a belated return with late fees of 50-200% of tax dues, but won’t be able to carry forward losses or avoid prosecution notices.\r\nThe department has been urging taxpayers to complete ITR filing formalities well before July 31 to avoid glitches and ensure all tax details are declared accurately within the deadline.",
         "False"
        ],
        [
         "44",
         "Sensex climbs 320 pts, Nifty advances to 19,637; pharma, healthcare and metal stocks rally",
         "In the intraday session, Sensex climbed 643.33 points, or 0.98 per cent to 66,151.65, and Nifty 50 touched an intraday high of 19,726.25, up 202 points, or 1 per cent.",
         "Domestic equities climbed higher on Friday amid decline in oil prices globally, and led by a rally in pharma, healthcare, metal, and media stocks. BSE benchmark Sensex climbed 320.09 points, or 0.49 per cent to close the week at 65,828.41, while broader NSE Nifty50 jumped 113.50 points, or 0.58 per cent to 19,637.05.\r\nIn the intraday session, Sensex climbed 643.33 points, or 0.98 per cent to 66,151.65, and Nifty 50 touched an intraday high of 19,726.25, up 202 points, or 1 per cent.\r\nExcept for India Vix, which slumped over 11 per cent, all broader market indices ended on a positive note. Nifty Midcap 50 climbed 1.41 per cent, Nifty Smallcap 50 jumped 1.19 per cent, Nifty Midcap 100 rose 1.08 per cent, Nifty Next 50 gained 1.11 per cent, Nifty Midcap Select jumped 1.07 per cent, and Nifty Midcap 150 gained 1.02 per cent.\r\nADVERTISEMENT\r\nSectorally, all indices, except Nifty IT that plunged 0.40 per cent, closed in green. Nifty Pharma gained 2.70 per cent, Nifty Healthcare jumped 2.62 per cent, Nifty media and metal indices gained 1.97 per cent each, Nifty Oil & Gas gained 1.19 per cent, Nifty Financial Services 25/50 rose 1 per cent, and and realty rose 0.81 per cent.\r\nHindalco soared 5.7 per cent, NTPC gained nearly 4 per cent, while Dr Reddy’s Labs, Divis Labs, Tata Motors, Hero MotoCorp, Apollo Hospitals, ONGC, Sun Pharma, Cipla, Tata Steel, JSW Steel, SBI, Bajaj Auto, IndusInd Bank, ICICI Bank, and ITC were also the top gainers in today’s session.\r\nOn the flip side, LTIMindtree, HCL Tech, Power Grid, Tech M, Infosys, Asian Paints, TCS, PowerGrid and Titan.",
         "https://indianexpress.com/article/business/market/stock-market-today-sensex-nifty-live-metal-power-stocks-it-shares-8961114/",
         "business",
         "Domestic equities climbed higher on Friday amid decline in oil prices globally, and led by a rally in pharma, healthcare, metal, and media stocks. BSE benchmark Sensex climbed 320.09 points, or 0.49 per cent to close the week at 65,828.41, while broader NSE Nifty50 jumped 113.50 points, or 0.58 per cent to 19,637.05.\r\nIn the intraday session, Sensex climbed 643.33 points, or 0.98 per cent to 66,151.65, and Nifty 50 touched an intraday high of 19,726.25, up 202 points, or 1 per cent.\r\nExcept for India Vix, which slumped over 11 per cent, all broader market indices ended on a positive note. Nifty Midcap 50 climbed 1.41 per cent, Nifty Smallcap 50 jumped 1.19 per cent, Nifty Midcap 100 rose 1.08 per cent, Nifty Next 50 gained 1.11 per cent, Nifty Midcap Select jumped 1.07 per cent, and Nifty Midcap 150 gained 1.02 per cent.\r\nADVERTISEMENT\r\nSectorally, all indices, except Nifty IT that plunged 0.40 per cent, closed in green. Nifty Pharma gained 2.70 per cent, Nifty Healthcare jumped 2.62 per cent, Nifty media and metal indices gained 1.97 per cent each, Nifty Oil & Gas gained 1.19 per cent, Nifty Financial Services 25/50 rose 1 per cent, and and realty rose 0.81 per cent.\r\nHindalco soared 5.7 per cent, NTPC gained nearly 4 per cent, while Dr Reddy’s Labs, Divis Labs, Tata Motors, Hero MotoCorp, Apollo Hospitals, ONGC, Sun Pharma, Cipla, Tata Steel, JSW Steel, SBI, Bajaj Auto, IndusInd Bank, ICICI Bank, and ITC were also the top gainers in today’s session.\r\nOn the flip side, LTIMindtree, HCL Tech, Power Grid, Tech M, Infosys, Asian Paints, TCS, PowerGrid and Titan.",
         "False"
        ],
        [
         "45",
         "Beyond McCain and Tim Hortons, Canadian investments in India span infra to fintech",
         "Indian companies in Canada are active in sectors like information technology, software, steel, natural resources, and banking.",
         "While Tim Hortons and McCain Foods might have the biggest brand recall when it comes to Canadian businesses in India, Canadian investments in the country go far beyond coffee chains and frozen snacks. Canadian pension funds, asset management companies, and financial services and insurance players are invested in key sectors of India’s economy, including financial services, financial technology, infrastructure, real estate, information technology and energy, among others.\r\nAccording to the National Investment Promotion & Facilitation Agency, or Invest India, Canada is the 18th-largest foreign investor in India with a cumulative investment of $3.31 billion from 2020-21 to 2022-23. Canadian investments accounted for 0.5 per cent of the total foreign direct investment (FDI) inflows into India. Services and infrastructure together accounted for close to 41 per cent of Canadian FDI into India.\r\nThis story is subscriber only!\r\n\r\nNow subscribe at a special Republic Day offer of Rs 75/month.\r\nSubscribe Now\r\nAlready a subscriber? Sign in",
         "https://indianexpress.com/article/business/infrastructure-it-canadian-investments-india-8950584/",
         "business",
         "While Tim Hortons and McCain Foods might have the biggest brand recall when it comes to Canadian businesses in India, Canadian investments in the country go far beyond coffee chains and frozen snacks. Canadian pension funds, asset management companies, and financial services and insurance players are invested in key sectors of India’s economy, including financial services, financial technology, infrastructure, real estate, information technology and energy, among others.\r\nAccording to the National Investment Promotion & Facilitation Agency, or Invest India, Canada is the 18th-largest foreign investor in India with a cumulative investment of $3.31 billion from 2020-21 to 2022-23. Canadian investments accounted for 0.5 per cent of the total foreign direct investment (FDI) inflows into India. Services and infrastructure together accounted for close to 41 per cent of Canadian FDI into India.\r\nThis story is subscriber only!\r\n\r\nNow subscribe at a special Republic Day offer of Rs 75/month.\r\nSubscribe Now\r\nAlready a subscriber? Sign in",
         "True"
        ],
        [
         "46",
         "5 money moves to have a stress-free sabbatical",
         "While China is forecasted to have the highest GDP of $57 trillion by 2075, the US is expected to be the third-largest economy with a GDP of $51.5 trillion.",
         "India is poised to become the world’s second largest economy by 2075 with an estimated GDP of $52.2 trillion, surpassing the United States, Germany, and Japan, global investment firm Goldman Sachs has predicted in a report.\r\nWhile China is forecasted to have the highest GDP of $57 trillion by 2075, the US is expected to be the third-largest economy with a GDP of $51.5 trillion.\r\nYou have exhausted your monthly limit of free stories.\r\nRegister to read more stories\r\nContinue With:-\r\nGoogle\r\nFacebook\r\nEmail\r\nAlready have an account? Sign in",
         "https://indianexpress.com/article/business/india-world-second-largest-economy-2075-goldmann-sachs-report-china-us-8825453/",
         "business",
         "India is poised to become the world’s second largest economy by 2075 with an estimated GDP of $52.2 trillion, surpassing the United States, Germany, and Japan, global investment firm Goldman Sachs has predicted in a report.\r\nWhile China is forecasted to have the highest GDP of $57 trillion by 2075, the US is expected to be the third-largest economy with a GDP of $51.5 trillion.\r\nYou have exhausted your monthly limit of free stories.\r\nRegister to read more stories\r\nContinue With:-\r\nGoogle\r\nFacebook\r\nEmail\r\nAlready have an account? Sign in",
         "False"
        ],
        [
         "47",
         "Gold Silver Rates Today (November 8): Gold prices rise marginally, silver cheaper by Rs 477 per kg",
         "Spot gold remained unchanged at $1,968.11 per ounce by 0247 GMT after sinking to its lowest since October 24 on Tuesday. The US gold futures were changed a bit at $1,974.70.",
         "The prices of gold opened marginally higher and that of silver slipped in the key spot markets on Wednesday.\r\nThe opening price for 999 purity (24 Karat) gold was Rs 60,603 per 10 grams on Wednesday, up by Rs 24 from Tuesday’s closing price of Rs 60,579 per 10 grams, while that of 999 purity silver was Rs 70,228 per kg up by Rs 477 from 70,705, per kg, according to the data available with India Bullion and Jewellers Association’s (IBJA).\r\nBullion Purity Opening price (Rs) Previous close (Rs)\r\nGold (10 gm) 999 60603 60579\r\n995 60360 60336\r\n916 55512 55490\r\n750 45452 45434\r\n585 35453 35439\r\nSilver (1 kg) 999 70228 70705\r\n(Source: India Bullion and Jewellers Association’s (IBJA))\r\nADVERTISEMENT\r\nSpot gold remained unchanged at $1,968.11 per ounce by 0247 GMT after sinking to its lowest since October 24 on Tuesday. The US gold futures were changed a bit at $1,974.70.\r\nAccording to Ilya Spivak, head of global macro at Tastylive, the geopolitical risk premium is getting digested out. “As central banks turned away from rate hikes, it is ultimately pushing yields lower. So, there’s not much of driving catalysts for gold this week,” Spivak said.\r\nMost of the Fed officials on Tuesday refrained from giving out a hint about the central bank’s next decision, but noted they would focus on more economic data and the impact of higher long-term bond yields.\r\nAs per the according to the CME, FedWatch tool, futures point to a roughly 15% chance of another rate hike by January. There’s a 20% chance that cuts could come as early as March, it predicted.\r\nADVERTISEMENT\r\nElsewhere, spot silver dropped 0.3% to $22.55 per ounce, while platinum rose by 0.1% to $890.42. Palladium slipped 0.8% to $1,047.03, its lowest since October 2018.\r\n–With inputs from Reuters",
         "https://indianexpress.com/article/business/commodities/gold-silver-rates-today-november-8-9018459/",
         "business",
         "The prices of gold opened marginally higher and that of silver slipped in the key spot markets on Wednesday.\r\nThe opening price for 999 purity (24 Karat) gold was Rs 60,603 per 10 grams on Wednesday, up by Rs 24 from Tuesday’s closing price of Rs 60,579 per 10 grams, while that of 999 purity silver was Rs 70,228 per kg up by Rs 477 from 70,705, per kg, according to the data available with India Bullion and Jewellers Association’s (IBJA).\r\nBullion Purity Opening price (Rs) Previous close (Rs)\r\nGold (10 gm) 999 60603 60579\r\n995 60360 60336\r\n916 55512 55490\r\n750 45452 45434\r\n585 35453 35439\r\nSilver (1 kg) 999 70228 70705\r\n(Source: India Bullion and Jewellers Association’s (IBJA))\r\nADVERTISEMENT\r\nSpot gold remained unchanged at $1,968.11 per ounce by 0247 GMT after sinking to its lowest since October 24 on Tuesday. The US gold futures were changed a bit at $1,974.70.\r\nAccording to Ilya Spivak, head of global macro at Tastylive, the geopolitical risk premium is getting digested out. “As central banks turned away from rate hikes, it is ultimately pushing yields lower. So, there’s not much of driving catalysts for gold this week,” Spivak said.\r\nMost of the Fed officials on Tuesday refrained from giving out a hint about the central bank’s next decision, but noted they would focus on more economic data and the impact of higher long-term bond yields.\r\nAs per the according to the CME, FedWatch tool, futures point to a roughly 15% chance of another rate hike by January. There’s a 20% chance that cuts could come as early as March, it predicted.\r\nADVERTISEMENT\r\nElsewhere, spot silver dropped 0.3% to $22.55 per ounce, while platinum rose by 0.1% to $890.42. Palladium slipped 0.8% to $1,047.03, its lowest since October 2018.\r\n–With inputs from Reuters",
         "False"
        ],
        [
         "48",
         "‘Indian airports truly becoming global hubs now’: Vinay Malhotra, Head of Global Sales at IndiGo",
         "In an interaction with The Indian Express, Malhotra talks about the thought and strategy driving IndiGo’s international expansion, the Indian civil aviation landscape, and the growth potential it offers to carriers.",
         "As India dreams of turning its airports into global aviation hubs facilitating international-to-international connections, the country’s largest airline IndiGo is in the midst of a rapid expansion of its international network with a flurry of new launches. Vinay Malhotra, Head of Global Sales at IndiGo, believes that the transformation of India into an international hub is already underway and is set to pave the way for significant growth in the coming years. In an interaction with Sukalp Sharma, Malhotra talks about the thought and strategy driving IndiGo’s international expansion, the Indian civil aviation landscape, and the growth potential it offers to carriers.\r\nEdited excerpts:\r\nThis story is subscriber only!\r\n\r\nNow subscribe at a special Republic Day offer of Rs 75/month.\r\nSubscribe Now\r\nAlready a subscriber? Sign in",
         "https://indianexpress.com/article/business/aviation/indian-airports-truly-becoming-global-hubs-now-vinay-malhotra-head-of-global-sales-at-indigo-8891202/",
         "business",
         "As India dreams of turning its airports into global aviation hubs facilitating international-to-international connections, the country’s largest airline IndiGo is in the midst of a rapid expansion of its international network with a flurry of new launches. Vinay Malhotra, Head of Global Sales at IndiGo, believes that the transformation of India into an international hub is already underway and is set to pave the way for significant growth in the coming years. In an interaction with Sukalp Sharma, Malhotra talks about the thought and strategy driving IndiGo’s international expansion, the Indian civil aviation landscape, and the growth potential it offers to carriers.\r\nEdited excerpts:\r\nThis story is subscriber only!\r\n\r\nNow subscribe at a special Republic Day offer of Rs 75/month.\r\nSubscribe Now\r\nAlready a subscriber? Sign in",
         "False"
        ],
        [
         "49",
         "Challenge of high inflation still remains: RBI Governor Das",
         "Retail inflation or CPI rose to a 15-month high of 7.44 per cent in July from 4.81 per cent in June. The government has mandated the central bank with keeping CPI at 4 per cent, with a comfort band of +/- 2 per cent.",
         "Admitting that the July inflation number was higher than the Reserve Bank of India’s estimates, Governor Shaktikanta Das Wednesday said the high inflation continues to remain a challenge that must be addressed effectively.\r\nHe said vegetable inflation, which led to a spike in consumer price index (CPI) inflation in July, will begin easing from September.\r\nThis story is subscriber only!\r\n\r\nNow subscribe at a special Republic Day offer of Rs 75/month.\r\nSubscribe Now\r\nAlready a subscriber? Sign in",
         "https://indianexpress.com/article/business/economy/challenge-of-high-inflation-still-remains-rbi-governor-das-8906347/",
         "business",
         "Admitting that the July inflation number was higher than the Reserve Bank of India’s estimates, Governor Shaktikanta Das Wednesday said the high inflation continues to remain a challenge that must be addressed effectively.\r\nHe said vegetable inflation, which led to a spike in consumer price index (CPI) inflation in July, will begin easing from September.\r\nThis story is subscriber only!\r\n\r\nNow subscribe at a special Republic Day offer of Rs 75/month.\r\nSubscribe Now\r\nAlready a subscriber? Sign in",
         "False"
        ]
       ],
       "shape": {
        "columns": 7,
        "rows": 5520
       }
      },
      "text/html": [
       "<div>\n",
       "<style scoped>\n",
       "    .dataframe tbody tr th:only-of-type {\n",
       "        vertical-align: middle;\n",
       "    }\n",
       "\n",
       "    .dataframe tbody tr th {\n",
       "        vertical-align: top;\n",
       "    }\n",
       "\n",
       "    .dataframe thead th {\n",
       "        text-align: right;\n",
       "    }\n",
       "</style>\n",
       "<table border=\"1\" class=\"dataframe\">\n",
       "  <thead>\n",
       "    <tr style=\"text-align: right;\">\n",
       "      <th></th>\n",
       "      <th>headlines</th>\n",
       "      <th>description</th>\n",
       "      <th>content</th>\n",
       "      <th>url</th>\n",
       "      <th>category</th>\n",
       "      <th>test</th>\n",
       "      <th>contains</th>\n",
       "    </tr>\n",
       "  </thead>\n",
       "  <tbody>\n",
       "    <tr>\n",
       "      <th>0</th>\n",
       "      <td>RBI revises definition of politically-exposed ...</td>\n",
       "      <td>The central bank has also asked chairpersons a...</td>\n",
       "      <td>The Reserve Bank of India (RBI) has changed th...</td>\n",
       "      <td>https://indianexpress.com/article/business/ban...</td>\n",
       "      <td>business</td>\n",
       "      <td>The Reserve Bank of India (RBI) has changed th...</td>\n",
       "      <td>True</td>\n",
       "    </tr>\n",
       "    <tr>\n",
       "      <th>1</th>\n",
       "      <td>NDTV Q2 net profit falls 57.4% to Rs 5.55 cror...</td>\n",
       "      <td>NDTV's consolidated revenue from operations wa...</td>\n",
       "      <td>Broadcaster New Delhi Television Ltd on Monday...</td>\n",
       "      <td>https://indianexpress.com/article/business/com...</td>\n",
       "      <td>business</td>\n",
       "      <td>Broadcaster New Delhi Television Ltd on Monday...</td>\n",
       "      <td>False</td>\n",
       "    </tr>\n",
       "    <tr>\n",
       "      <th>2</th>\n",
       "      <td>Akasa Air ‘well capitalised’, can grow much fa...</td>\n",
       "      <td>The initial share sale will be open for public...</td>\n",
       "      <td>Homegrown server maker Netweb Technologies Ind...</td>\n",
       "      <td>https://indianexpress.com/article/business/mar...</td>\n",
       "      <td>business</td>\n",
       "      <td>Homegrown server maker Netweb Technologies Ind...</td>\n",
       "      <td>False</td>\n",
       "    </tr>\n",
       "    <tr>\n",
       "      <th>3</th>\n",
       "      <td>India’s current account deficit declines sharp...</td>\n",
       "      <td>The current account deficit (CAD) was 3.8 per ...</td>\n",
       "      <td>India’s current account deficit declined sharp...</td>\n",
       "      <td>https://indianexpress.com/article/business/eco...</td>\n",
       "      <td>business</td>\n",
       "      <td>India’s current account deficit declined sharp...</td>\n",
       "      <td>True</td>\n",
       "    </tr>\n",
       "    <tr>\n",
       "      <th>4</th>\n",
       "      <td>States borrowing cost soars to 7.68%, highest ...</td>\n",
       "      <td>The prices shot up reflecting the overall high...</td>\n",
       "      <td>States have been forced to pay through their n...</td>\n",
       "      <td>https://indianexpress.com/article/business/eco...</td>\n",
       "      <td>business</td>\n",
       "      <td>States have been forced to pay through their n...</td>\n",
       "      <td>False</td>\n",
       "    </tr>\n",
       "    <tr>\n",
       "      <th>...</th>\n",
       "      <td>...</td>\n",
       "      <td>...</td>\n",
       "      <td>...</td>\n",
       "      <td>...</td>\n",
       "      <td>...</td>\n",
       "      <td>...</td>\n",
       "      <td>...</td>\n",
       "    </tr>\n",
       "    <tr>\n",
       "      <th>5515</th>\n",
       "      <td>Samsung sends out invites for ‘Unpacked 2024’,...</td>\n",
       "      <td>Samsung is most likely to announce next-genera...</td>\n",
       "      <td>Samsung plans to reveal the next-generation fl...</td>\n",
       "      <td>https://indianexpress.com/article/technology/t...</td>\n",
       "      <td>technology</td>\n",
       "      <td>Samsung plans to reveal the next-generation fl...</td>\n",
       "      <td>False</td>\n",
       "    </tr>\n",
       "    <tr>\n",
       "      <th>5516</th>\n",
       "      <td>Google Pixel 8 Pro accidentally appears on off...</td>\n",
       "      <td>The Pixel 8 Pro will most likely carry over it...</td>\n",
       "      <td>Google once again accidentally gave us a glimp...</td>\n",
       "      <td>https://indianexpress.com/article/technology/m...</td>\n",
       "      <td>technology</td>\n",
       "      <td>Google once again accidentally gave us a glimp...</td>\n",
       "      <td>False</td>\n",
       "    </tr>\n",
       "    <tr>\n",
       "      <th>5517</th>\n",
       "      <td>Amazon ad on Google Search redirects users to ...</td>\n",
       "      <td>Clicking on the real looking Amazon ad will op...</td>\n",
       "      <td>A new scam seems to be making rounds on the in...</td>\n",
       "      <td>https://indianexpress.com/article/technology/t...</td>\n",
       "      <td>technology</td>\n",
       "      <td>A new scam seems to be making rounds on the in...</td>\n",
       "      <td>False</td>\n",
       "    </tr>\n",
       "    <tr>\n",
       "      <th>5518</th>\n",
       "      <td>Elon Musk’s X, previously Twitter, now worth l...</td>\n",
       "      <td>Elon Musk's X, formerly Twitter, has lost more...</td>\n",
       "      <td>More than a year after Elon Musk acquired Twit...</td>\n",
       "      <td>https://indianexpress.com/article/technology/s...</td>\n",
       "      <td>technology</td>\n",
       "      <td>More than a year after Elon Musk acquired Twit...</td>\n",
       "      <td>False</td>\n",
       "    </tr>\n",
       "    <tr>\n",
       "      <th>5519</th>\n",
       "      <td>Apple’s iOS 17.2 update released, and here’s h...</td>\n",
       "      <td>Here is everything you need to know about the ...</td>\n",
       "      <td>Apple has begun rolling out its iOS 17.2 updat...</td>\n",
       "      <td>https://indianexpress.com/article/technology/t...</td>\n",
       "      <td>technology</td>\n",
       "      <td>Apple has begun rolling out its iOS 17.2 updat...</td>\n",
       "      <td>False</td>\n",
       "    </tr>\n",
       "  </tbody>\n",
       "</table>\n",
       "<p>5520 rows × 7 columns</p>\n",
       "</div>"
      ],
      "text/plain": [
       "                                              headlines  \\\n",
       "0     RBI revises definition of politically-exposed ...   \n",
       "1     NDTV Q2 net profit falls 57.4% to Rs 5.55 cror...   \n",
       "2     Akasa Air ‘well capitalised’, can grow much fa...   \n",
       "3     India’s current account deficit declines sharp...   \n",
       "4     States borrowing cost soars to 7.68%, highest ...   \n",
       "...                                                 ...   \n",
       "5515  Samsung sends out invites for ‘Unpacked 2024’,...   \n",
       "5516  Google Pixel 8 Pro accidentally appears on off...   \n",
       "5517  Amazon ad on Google Search redirects users to ...   \n",
       "5518  Elon Musk’s X, previously Twitter, now worth l...   \n",
       "5519  Apple’s iOS 17.2 update released, and here’s h...   \n",
       "\n",
       "                                            description  \\\n",
       "0     The central bank has also asked chairpersons a...   \n",
       "1     NDTV's consolidated revenue from operations wa...   \n",
       "2     The initial share sale will be open for public...   \n",
       "3     The current account deficit (CAD) was 3.8 per ...   \n",
       "4     The prices shot up reflecting the overall high...   \n",
       "...                                                 ...   \n",
       "5515  Samsung is most likely to announce next-genera...   \n",
       "5516  The Pixel 8 Pro will most likely carry over it...   \n",
       "5517  Clicking on the real looking Amazon ad will op...   \n",
       "5518  Elon Musk's X, formerly Twitter, has lost more...   \n",
       "5519  Here is everything you need to know about the ...   \n",
       "\n",
       "                                                content  \\\n",
       "0     The Reserve Bank of India (RBI) has changed th...   \n",
       "1     Broadcaster New Delhi Television Ltd on Monday...   \n",
       "2     Homegrown server maker Netweb Technologies Ind...   \n",
       "3     India’s current account deficit declined sharp...   \n",
       "4     States have been forced to pay through their n...   \n",
       "...                                                 ...   \n",
       "5515  Samsung plans to reveal the next-generation fl...   \n",
       "5516  Google once again accidentally gave us a glimp...   \n",
       "5517  A new scam seems to be making rounds on the in...   \n",
       "5518  More than a year after Elon Musk acquired Twit...   \n",
       "5519  Apple has begun rolling out its iOS 17.2 updat...   \n",
       "\n",
       "                                                    url    category  \\\n",
       "0     https://indianexpress.com/article/business/ban...    business   \n",
       "1     https://indianexpress.com/article/business/com...    business   \n",
       "2     https://indianexpress.com/article/business/mar...    business   \n",
       "3     https://indianexpress.com/article/business/eco...    business   \n",
       "4     https://indianexpress.com/article/business/eco...    business   \n",
       "...                                                 ...         ...   \n",
       "5515  https://indianexpress.com/article/technology/t...  technology   \n",
       "5516  https://indianexpress.com/article/technology/m...  technology   \n",
       "5517  https://indianexpress.com/article/technology/t...  technology   \n",
       "5518  https://indianexpress.com/article/technology/s...  technology   \n",
       "5519  https://indianexpress.com/article/technology/t...  technology   \n",
       "\n",
       "                                                   test  contains  \n",
       "0     The Reserve Bank of India (RBI) has changed th...      True  \n",
       "1     Broadcaster New Delhi Television Ltd on Monday...     False  \n",
       "2     Homegrown server maker Netweb Technologies Ind...     False  \n",
       "3     India’s current account deficit declined sharp...      True  \n",
       "4     States have been forced to pay through their n...     False  \n",
       "...                                                 ...       ...  \n",
       "5515  Samsung plans to reveal the next-generation fl...     False  \n",
       "5516  Google once again accidentally gave us a glimp...     False  \n",
       "5517  A new scam seems to be making rounds on the in...     False  \n",
       "5518  More than a year after Elon Musk acquired Twit...     False  \n",
       "5519  Apple has begun rolling out its iOS 17.2 updat...     False  \n",
       "\n",
       "[5520 rows x 7 columns]"
      ]
     },
     "execution_count": 158,
     "metadata": {},
     "output_type": "execute_result"
    }
   ],
   "source": [
    "train['test'] = train['content'] #train['headlines'] + train['content'] + train['description'] + train['url']\n",
    "train['contains'] = train.apply(\n",
    "    lambda row: str(row['category']).lower() in str(row['test']).lower(),\n",
    "    axis=1\n",
    ")\n",
    "\n",
    "train"
   ]
  },
  {
   "cell_type": "markdown",
   "id": "768c994b",
   "metadata": {},
   "source": [
    "Add MLFlow autolog for loggin model runs"
   ]
  },
  {
   "cell_type": "code",
   "execution_count": 159,
   "id": "ef8f3a35",
   "metadata": {},
   "outputs": [
    {
     "name": "stderr",
     "output_type": "stream",
     "text": [
      "2025/10/19 22:23:09 INFO mlflow.tracking.fluent: Autologging successfully enabled for sklearn.\n",
      "2025/10/19 22:23:09 INFO mlflow.tracking.fluent: Autologging successfully enabled for xgboost.\n"
     ]
    }
   ],
   "source": [
    "mlflow.autolog()"
   ]
  },
  {
   "cell_type": "code",
   "execution_count": 160,
   "id": "dc69085f",
   "metadata": {},
   "outputs": [
    {
     "data": {
      "application/vnd.microsoft.datawrangler.viewer.v0+json": {
       "columns": [
        {
         "name": "index",
         "rawType": "int64",
         "type": "integer"
        },
        {
         "name": "data",
         "rawType": "object",
         "type": "string"
        },
        {
         "name": "category",
         "rawType": "object",
         "type": "string"
        }
       ],
       "ref": "9be5157d-7005-4f79-b553-1c45bd0e51d3",
       "rows": [
        [
         "0",
         "The Reserve Bank of India (RBI) has changed the definition of Politically-Exposed Persons (PEPs) under its norms, a move that will make it easier for those individuals to carry out various banking transactions, including availing loans.\r\nCertain changes have been made in the RBI’s Know Your Customer (KYC) norms.\r\nThe earlier norms pertaining to PEPs were open-ended and there was a lack of clarity on the definition, apparently leading to issues for bankers, parliamentarians and others. There were also concerns in certain quarters that PEPs were finding it difficult to get loans or open bank accounts.\r\nADVERTISEMENT\r\nIn the amended KYC master direction, the central bank defines PEPs as “individuals who are or have been entrusted with prominent public functions by a foreign country, including the heads of states/governments, senior politicians, senior government or judicial or military officers, senior executives of state-owned corporations and important political party officials”. The new rules also include a person who is entrusted by a foreign country with a public function.\r\nBank accounts of PEPs have additional KYC norms under the current provisions and special due diligence has to be undertaken by a senior bank official. A sub-clause in the master direction in KYC norms issued by way of a circular on February 25, 2016 has been removed by the central bank.\r\nThe central bank has also asked chairpersons and chief executives of banks and other financial services, which are into lending business, to make the changes effective immediately.\r\nLast year, the Centre amended the Prevention of Money Laundering Act (PMLA) to introduce more disclosures for non-government organisations by reporting entities.",
         "business"
        ],
        [
         "1",
         "Broadcaster New Delhi Television Ltd on Monday reported a 57.4 per cent decline in consolidated profit after tax at Rs 5.55 crore in the September quarter, impacted by lower revenue and higher expenses.\r\nThe company had posted a consolidated net profit of Rs 13.03 crore in the same quarter last fiscal, New Delhi Television Ltd (NDTV) said in a regulatory filing.\r\nConsolidated revenue from operations was Rs 95.55 crore as against Rs 105.8 crore in the year-ago period, it added.\r\nADVERTISEMENT\r\nTotal expenses were higher at Rs 93.48 crore as compared to Rs 91.93 crore a year ago, the company said.\r\nIn the second quarter, there was a slight bullishness in advertisement spend despite the muted economic environment, it added.\r\nNDTV said it launched two regional channels ‘NDTV Madhya Pradesh/Chhattisgarh’ and ‘NDTV Rajasthan’ in the second quarter (Q2).\r\n“With its focus on expansion and growth, NDTV expects to launch more regional channels in the near future,” the company said.",
         "business"
        ],
        [
         "2",
         "Homegrown server maker Netweb Technologies India on Thursday said it has fixed a price band of Rs 475-500 per share for its Rs 631-crore initial public offering (IPO).\r\nThe initial share sale will be open for public subscription during July 17-19. The bidding for anchor investors will open on July 14, according to the company.\r\nThe IPO comprises a fresh issue of equity shares worth Rs 206 crore and an offer-for-sale (OFS) of 85 lakh equity shares by promoters.\r\nADVERTISEMENT\r\nThose selling shares in the OFS are Sanjay Lodha, Vivek Lodha, Navin Lodha, Niraj Lodha, and Ashoka Bajaj Automobiles LLP.\r\nAlso read | Sensex crosses 66,000 mark for first time ever, Nifty over 19,550; HDFC Bank, IT stocks lead the rally\r\nProceeds to the tune of Rs 32.77 crore will be used to fund capital expenditure, Rs 128.02 crore to support long-term working capital, Rs 22.5 crore for debt payment, besides for general corporate purposes.\r\nThe company through its IPO will fetch Rs 610 crore and Rs 631 crore at the lower and upper end of the price band, respectively.\r\nDelhi NCR-based Netweb Technologies is one of the country’s leading high-end computing solutions (HCS) providers. It is one of the few original equipment manufacturers (OEMs) in the country and is a recipient of production-linked incentives schemes of Government of India.\r\nADVERTISEMENT\r\nHalf of the issue size has been reserved for qualified institutional investors, 35 per cent for retail investors, and the remaining 15 per cent for non-institutional investors.\r\nInvestors can bid for a minimum of 30 shares and in multiples thereof. Last month, the company raised Rs 51 crore from institutional investors in a pre-IPO placement round.\r\nIn fiscal year 2023, the company’s revenue from operations jumped 80 per cent to Rs 445 crore against Rs 247 crore a year ago and net profit more than doubled to Rs 47 crore from Rs 22.45 crore.\r\nADVERTISEMENT\r\nEquirus Capital and IIFL Securities are the book-running lead managers to the issue. Post-IPO, equity shares of the company will be listed on the BSE and NSE.",
         "business"
        ],
        [
         "3",
         "India’s current account deficit declined sharply to 1 per cent of the GDP or USD 8.3 billion in the second quarter of this financial year, mainly due to lower merchandise trade deficit and growth in services exports, according to a RBI data released on Tuesday.\r\nThe current account deficit (CAD) was 3.8 per cent of GDP or USD 30.9 billion in July-September quarter in 2022-23.\r\nCAD was USD 9.2 billion or 1.1 per cent of GDP in the first quarter (April-June) of the current financial year 2023-24.\r\nADVERTISEMENT\r\n“Underlying the lower current account deficit on a year-on-year (y-o-y) basis in Q2:2023-24 was the narrowing of merchandise trade deficit to USD 61.0 billion from USD 78.3 billion in Q2:2022-23,” said the data on Developments in India’s Balance of Payments during the second quarter (July-September) of 2023-24.\r\nServices exports grew by 4.2 per cent on a y-o-y basis on the back of rising exports of software, business and travel services, the Reserve Bank said.\r\nNet services receipts increased both sequentially and on a y-o-y basis, it added.",
         "business"
        ],
        [
         "4",
         "States have been forced to pay through their nose at the weekly auction of their debt on Tuesday with the weighted average interest rate payable soaring to the highest so far this fiscal at 7.68 per cent, 12 basis points (bps) more than the previous peak at the last auction.\r\nThe prices shot up reflecting the overall higher risk averseness of investors with the rising interest rates along with higher demand, which rose by 14 per cent at the auction in spite of a jump in the average tenor to 15 years from 13 years last week.\r\nEight states raised Rs 9,600 crore through state government securities (SGS) on Tuesday, which is 13.6 per cent higher than the amount indicated for this week in the auction calendar, according to Aditi Nayar, the chief economist at Icra Ratings.\r\nADVERTISEMENT\r\nThe sharp increase in the cutoffs of the 10-year and above issuances in the auction pushed the weighted average cut-off to 7.68 per cent, the highest in FY24 so far, up from 7.56 per cent last week, she said.\r\nThe weighted average tenor also increased to 15 years from 13 years last week.\r\nAs a result, the spread between the cut-off of the 10-year SGS and the 10-year G-sec (7.18 GS 2033) yield also rose to a 20-week high of 37 bps on Tuesday, from 33 bps last week, she said.\r\nCumulatively, the states have drawn down 28 per cent more funds than they had availed of in the same period last year at Rs 3,90,100 crore as of the latest auction today, up from Rs 3,04,700 crore in the year-ago period.",
         "business"
        ]
       ],
       "shape": {
        "columns": 2,
        "rows": 5
       }
      },
      "text/html": [
       "<div>\n",
       "<style scoped>\n",
       "    .dataframe tbody tr th:only-of-type {\n",
       "        vertical-align: middle;\n",
       "    }\n",
       "\n",
       "    .dataframe tbody tr th {\n",
       "        vertical-align: top;\n",
       "    }\n",
       "\n",
       "    .dataframe thead th {\n",
       "        text-align: right;\n",
       "    }\n",
       "</style>\n",
       "<table border=\"1\" class=\"dataframe\">\n",
       "  <thead>\n",
       "    <tr style=\"text-align: right;\">\n",
       "      <th></th>\n",
       "      <th>data</th>\n",
       "      <th>category</th>\n",
       "    </tr>\n",
       "  </thead>\n",
       "  <tbody>\n",
       "    <tr>\n",
       "      <th>0</th>\n",
       "      <td>The Reserve Bank of India (RBI) has changed th...</td>\n",
       "      <td>business</td>\n",
       "    </tr>\n",
       "    <tr>\n",
       "      <th>1</th>\n",
       "      <td>Broadcaster New Delhi Television Ltd on Monday...</td>\n",
       "      <td>business</td>\n",
       "    </tr>\n",
       "    <tr>\n",
       "      <th>2</th>\n",
       "      <td>Homegrown server maker Netweb Technologies Ind...</td>\n",
       "      <td>business</td>\n",
       "    </tr>\n",
       "    <tr>\n",
       "      <th>3</th>\n",
       "      <td>India’s current account deficit declined sharp...</td>\n",
       "      <td>business</td>\n",
       "    </tr>\n",
       "    <tr>\n",
       "      <th>4</th>\n",
       "      <td>States have been forced to pay through their n...</td>\n",
       "      <td>business</td>\n",
       "    </tr>\n",
       "  </tbody>\n",
       "</table>\n",
       "</div>"
      ],
      "text/plain": [
       "                                                data  category\n",
       "0  The Reserve Bank of India (RBI) has changed th...  business\n",
       "1  Broadcaster New Delhi Television Ltd on Monday...  business\n",
       "2  Homegrown server maker Netweb Technologies Ind...  business\n",
       "3  India’s current account deficit declined sharp...  business\n",
       "4  States have been forced to pay through their n...  business"
      ]
     },
     "metadata": {},
     "output_type": "display_data"
    },
    {
     "data": {
      "application/vnd.microsoft.datawrangler.viewer.v0+json": {
       "columns": [
        {
         "name": "index",
         "rawType": "int64",
         "type": "integer"
        },
        {
         "name": "data",
         "rawType": "object",
         "type": "string"
        },
        {
         "name": "category",
         "rawType": "object",
         "type": "string"
        }
       ],
       "ref": "d284b277-398e-47bf-af6b-9cc48b137227",
       "rows": [
        [
         "0",
         "State-owned firm NLC India Ltd (NLCIL) on Monday said it has emerged as the successful bidder for supply of power to Rajasthan at a tariff of Rs 2.64 per unit.\r\nNLCIL is a navratna company under the coal ministry.\r\n“NLCIL has been successful bidder for the total capacity of 810 MW for tariff of Rs 2.64 per unit,” NLCIL said in a filing to BSE.\r\nA letter of intent for the same was issued by RRVUNL.\r\nADVERTISEMENT\r\nThe company had participated in a tender floated by Rajasthan Rajya Vidyut Utpadan Nigam Limited (RRVUNL) for procurement of power from 810 MW Grid Connected Solar photovoltaic power projects to be set up in 2,000 MW Pugal Solar Park in Bikaner, Rajasthan.\r\nNLC India currently has an installed renewable energy (RE) capacity of 1,431.06 MW, while 2,110 MW of RE project is in the pipeline.\r\nThe company proposes to develop RE capacity of 6,031 MW as per its corporate plan 2030.\r\nThis project will offset carbon emissions to the tune of 46,628.56 tonnes considering lifetime electricity generation of approximately 48,170.00 million units.\r\nNLC’s core business is mining and power generation.",
         "business"
        ],
        [
         "1",
         "SBI Clerk Prelims Exam: The State Bank of Indian (SBI) has announced the exam dates for the junior associate preliminary exams. The schedule was released at the official SBI website — sbi.co.in.\r\nAccording to the official schedule, the SBI Clerk prelims exam 2024 will be tentatively held on January 5, 6, 11 and 12. For these exams, the admit card will be released on December 27.\r\nYou have exhausted your monthly limit of free stories.\r\nRegister to read more stories\r\nContinue With:-\r\nGoogle\r\nFacebook\r\nEmail\r\nAlready have an account? Sign in",
         "education"
        ],
        [
         "2",
         "Michelle Yeoh, Will Ferrell, Angela Bassett and Amanda Seyfried will be among the presenters at Sunday’s Golden Globe Awards. The show announced its first batch of presenters on Wednesday.\r\nOthers taking the stage will be Julia Garner, George Lopez and Justin Hartley. Yeoh is returning to the Globes a year after she won best actress in a drama film for Everything Everywhere All at Once, delivering a poignant acceptance speech (and a semi-serious threat to beat up the piano player who started to cut her off).\r\nCheck out | Golden Globes 2024 nominations: The complete list\r\nWednesday’s announcement is the latest indicator that stars are likely to return to the show as it continues to attempt a return to form after several scandal-tarnished years. The show is known for its boozy celebration of film and television and as an early stop for awards season contenders. Scandals have led to a membership revamp and a new broadcaster for the Jan 7 show, but a key question remains: Will viewers tune in? Here’s more to know about the 81st Golden Globe Awards.\r\nADVERTISEMENT\r\nHow can I watch the Golden Globes?\r\nViewers in the United States can catch the ceremony, broadcast live from the Beverly Hilton Hotel, beginning at 8 p.m. Eastern. It will air beginning at 5 p.m. on the West Coast. The three-hour show will have a strong lead-in since CBS is airing an NFL game directly before the Globes. CBS says the show will air on its app and stream on Paramount+, but there’s an important caveat. Only Paramount+ subscribers with the Showtime add-on will be able to watch the show live. Otherwise, it’ll be available on the streaming platform on Monday.\r\nJust 3️⃣ MORE DAYS until we are LIVE from the 📍 @beverlyhilton for the 81st Annual #GoldenGlobes!\r\nTune in SUNDAY on @CBS and @paramountplus at 8pm ET/5pm PT pic.twitter.com/SOGznSb9Mt\r\n— Golden Globe Awards (@goldenglobes) January 4, 2024\r\nWhat’s new with the Golden Globes?\r\nThe 81st Golden Globe Awards will be the first major broadcast of the awards season, with a new home on CBS. And while to audiences it might look similar on the surface, it’s been a tumultuous few years behind the scenes following a bombshell report in the Los Angeles Times. The 2021 report found that there were no Black members in the Hollywood Foreign Press Association, which voted on the awards. Stars and studios boycotted the Globes and NBC refused to air it in 2022 as a result. After the group added journalists of colour to its ranks and instituted other reforms to address ethical concerns, the show came back in January 2023 in a one-year probationary agreement with NBC. The network did not opt to renew. In June, billionaire Todd Boehly was granted approval to dissolve the HFPA and reinvent the Golden Globes as a for-profit organization. Its assets were acquired by Boehly’s Eldridge Industries, along with Dick Clark Productions, a group that is owned by Penske Media whose assets also include Variety, Deadline, The Hollywood Reporter, Rolling Stone and Billboard. The show has also added a new award for stand-up comedy, with Chris Rock, Amy Schumer and former Globes host Ricky Gervais among the nominees.\r\nWho’s hosting the Globes?\r\nComedian Jo Koy, who has headlined several Netflix specials and starred in last year’s comedy film “Easter Sunday,” will host the Globes. Organizers cited his “infectious energy and relatable humour” in announcing Koy would headline the event. Hosting the Globes typically requires serving a mix of biting humour to the audience of film and television stars and keeping the ceremony from getting too sloppy. Previous hosts include Ricky Gervais, whose jokes were particularly caustic, the duo of Tina Fey and Amy Poehler and last year’s emcee, Jerrod Carmichael.\r\nThe #GoldenGlobes festivities have popped off with @moetchandon! 🍾\r\nTune in THIS Sunday at 8pm ET | 5pm PT on @CBS and stream on @paramountplus! pic.twitter.com/T6mYHrW4Ps\r\n— Golden Globe Awards (@goldenglobes) January 4, 2024\r\nWhat about 60 Minutes?\r\nThe Globes, and New Year’s Eve celebrations, are keeping 60 Minutes from airing for two weeks. CBS aired New Year’s Eve Live: Nashville’s Big Bash on Sunday. CBS says 60 Minutes will resume on Jan. 14.\r\nGolden Globe nominees\r\nBarbie is the top nominee this year, followed closely by Oppenheimer. The films reflect one unique aspect of the Globes — they split the top film winners into two categories. With Greta Gerwig’s Barbie and Christopher Nolan’s Oppenheimer leading the way, it gives the show a chance to capitalize on the Barbenheimer craze that boosted theatres in 2023. Films nominated for best motion picture drama include Oppenheimer, Martin Scorsese’s Killers of the Flower Moon, Bradley Cooper’s Maestro, Celine Song’s Past Lives, Justine Triet’s Anatomy of a Fall and Jonathan Glazer’s The Zone of Interest. In the best motion picture musical or comedy category, Barbie was joined by Ben Affleck’s Air, Cord Jefferson’s American Fiction, Alexander Payne’s The Holdovers, Todd Haynes’ May December and Yorgos Lanthimos’ Poor Things. Succession was the top-nominated television program, with nine nods including for series stars Brian Cox, Jeremy Strong, Sarah Snook and Kieran Culkin, followed by Hulu’s The Bear.\r\nDon't Miss | Barbie and Succession lead 2024 Golden Globe nominations, Oppenheimer scores 8 nods\r\nWhat are the Globes known for?\r\nThe Golden Globe Awards had long been one of the highest-profile awards season broadcasts, second only to the Oscars. The show was touted as an A-list party whose hosts often took a more irreverent tone than their Academy counterparts. It also only honoured the flashiest filmmaking categories — picture, director, and actors among them — meaning no long speeches from visual effects supervisors or directors of little-known shorts. But the voting body was a small group of around 87 members who wielded incredible influence in the industry and often accepted lavish gifts and travel from studios and awards publicists eager to court favour and win votes.\r\n#GoldenGlobes host, @Jokoy, has been getting ALL the advice! Tune in to the show THIS SUNDAY, Jan 7 @ 8 ET | 5 PT on @CBS and @paramountplus! pic.twitter.com/3Y9TshVBMC\r\n— Golden Globe Awards (@goldenglobes) January 4, 2024\r\nSome years, the HFPA was pilloried for nominating poorly reviewed films with big-name talent in hopes of getting them to the show — the most infamous being The Tourist, with Angelina Jolie and Johnny Depp. In the past decade, they’ve more often overlapped with the Oscars. The show also recognizes television. Before the expose and public relations crisis though, no one in the industry took much umbrage with who was voting on the awards. The show had become an important part of the Hollywood awards ecosystem, a platform for Oscar hopefuls and was, until recently, a reliable ratings draw. As of 2019, the broadcast was still pulling in nearly 19 million viewers. In 2023, NBC’s Tuesday night broadcast got its smallest audience ever for a traditional broadcast, with 6.3 million viewers.\r\nADVERTISEMENT\r\nWho votes on the Globes?\r\nThe group nominating and voting for the awards is now made up of a more diverse group of over 300 people from around the world.\r\nClick for more updates and latest Hollywood News along with Bollywood and Entertainment updates. Also get latest news and top headlines from India and around the World at The Indian Express.",
         "entertainment"
        ],
        [
         "3",
         "In our review of the OnePlus Nord 3 5G, we praised its balanced combination of features and price, noting it was a “great choice for those who want a perfectly-balanced phone.” However, we also concluded that the pricing was a wee bit high for this product tier, likely a result of the OnePlus brand cachet.\r\nWell, a fresh discount has now made this already-appealing phone even more compelling, bringing it below the Rs 30,000 threshold that many buyers psychologically key on.\r\nYou have exhausted your monthly limit of free stories.\r\nRegister to read more stories\r\nContinue With:-\r\nGoogle\r\nFacebook\r\nEmail\r\nAlready have an account? Sign in",
         "technology"
        ],
        [
         "4",
         "Millions of dollars were invested in some publicly traded stocks of India’s Adani Group via “opaque” Mauritius funds that “obscured” involvement of alleged business partners of the Adani family, the Organised Crime and Corruption Reporting Project (OCCRP) said in an article on Thursday.\r\nCiting review of files from multiple tax havens and internal Adani Group emails, nonprofit media organization OCCRP said its investigation found at least two cases where the investors bought and sold Adani stock through such offshore structures.\r\nThe OCCRP article comes after U.S.-based short-seller Hindenburg Research in January accused Adani Group of improper business dealings, including the use of offshore entities in tax havens such as Mauritius from where it said certain offshore funds “surreptitiously” owned stock in Adani’s listed firms.\r\nADVERTISEMENT\r\nAdani Group has called Hindenburg’s claims misleading and without evidence and said it always complied with laws. Days following the January report though, Adani group stocks lost $150 billion in market value and remain down around $100 billion following a recovery in recent months after it repaid some debt and regained some investor confidence.\r\nIn a statement to OCCRP, Adani Group said the Mauritius funds investigated by reporters had already been named in the Hindenburg report and the “allegations are not only baseless and unsubstantiated but are rehashed from Hindenburg’s allegations.”\r\nMust Read | Hindenburg report probe: Short selling in Adani shares led to ‘gains’ for 12 firms, ED to SEBI\r\n“It is categorically stated that all the Adani Group’s publicly listed entities are in compliance with all applicable laws including the regulation relating to public share holdings,” it told the OCCRP, according to the news article.\r\nReuters has not independently verified OCCRP’s assertions. Adani Group did not immediately respond to a Reuters request for comment on the OCCRP report.\r\nHindenburg saga, regulatory probe \r\nADVERTISEMENT\r\nThe Hindenburg report hit hard Gautam Adani, the billionaire who leads the ports-to-energy conglomerate and was until January the world’s third-richest person. The crisis forced him to shelve a $2.5 billion share sale and convince banks about his business credentials.\r\nIndia’s Supreme Court later appointed a panel to oversee a market regulator probe based on the Hindenburg report. The panel in May said the regulator had so far “drawn a blank” in investigations into suspected violations in overseas investments in the Adani Group.\r\nLast week, the regulator said its report was nearing completion and its investigation on some offshore deals was taking time as some entities were located in tax haven jurisdictions. The regulator “shall take appropriate action based on outcome of the investigations,” it said. The regulator, Securities and Exchange Board of India (SEBI), did not immediately respond to a Reuters request for comment on the OCCRP report.\r\nADVERTISEMENT\r\nThe OCCRP report on Thursday named two individual investors who made the investments it investigated for its article – Nasser Ali Shaban Ahli and Chang Chung-Ling – described by OCCRP as “longtime business partners” of the Adani family.\r\nExplained | SEBI seeks more time on Adani-Hindenburg report: The case so far\r\nThe media organization said there was no evidence Chang and Ahli’s money for their investments came from the Adani family, but said its reporting and documents – including an agreement, corporate records and an email – showed there “is evidence” that their trading in Adani stock “was coordinated with the family.”\r\n“The question of whether this arrangement is a violation of the law rests on whether Ahli and Chang should be considered to be acting on behalf of Adani ‘promoters,’ a term used in India to refer to the majority owners of a business,” OCCRP said.\r\nExpress Investigation | Exposed & shut, Panama Papers law firm outsourced its offshore deals to Kerala accountant; ED probe on\r\nIf so, OCCRP said, their stake in Adani holdings would exceed the 75% limit allowed for insider ownership. Ahli and Chang did not respond to OCCRP’s requests for comment, the news article said. Reuters could not immediately reach Ahli and Chang for comment.\r\nIn an interview with a reporter from the Guardian, OCCRP said Chang said he knew nothing about any secret purchases of Adani stock. He asked why journalists were not interested in his other investments and said, “We are a simple business.”",
         "business"
        ]
       ],
       "shape": {
        "columns": 2,
        "rows": 5
       }
      },
      "text/html": [
       "<div>\n",
       "<style scoped>\n",
       "    .dataframe tbody tr th:only-of-type {\n",
       "        vertical-align: middle;\n",
       "    }\n",
       "\n",
       "    .dataframe tbody tr th {\n",
       "        vertical-align: top;\n",
       "    }\n",
       "\n",
       "    .dataframe thead th {\n",
       "        text-align: right;\n",
       "    }\n",
       "</style>\n",
       "<table border=\"1\" class=\"dataframe\">\n",
       "  <thead>\n",
       "    <tr style=\"text-align: right;\">\n",
       "      <th></th>\n",
       "      <th>data</th>\n",
       "      <th>category</th>\n",
       "    </tr>\n",
       "  </thead>\n",
       "  <tbody>\n",
       "    <tr>\n",
       "      <th>0</th>\n",
       "      <td>State-owned firm NLC India Ltd (NLCIL) on Mond...</td>\n",
       "      <td>business</td>\n",
       "    </tr>\n",
       "    <tr>\n",
       "      <th>1</th>\n",
       "      <td>SBI Clerk Prelims Exam: The State Bank of Indi...</td>\n",
       "      <td>education</td>\n",
       "    </tr>\n",
       "    <tr>\n",
       "      <th>2</th>\n",
       "      <td>Michelle Yeoh, Will Ferrell, Angela Bassett an...</td>\n",
       "      <td>entertainment</td>\n",
       "    </tr>\n",
       "    <tr>\n",
       "      <th>3</th>\n",
       "      <td>In our review of the OnePlus Nord 3 5G, we pra...</td>\n",
       "      <td>technology</td>\n",
       "    </tr>\n",
       "    <tr>\n",
       "      <th>4</th>\n",
       "      <td>Millions of dollars were invested in some publ...</td>\n",
       "      <td>business</td>\n",
       "    </tr>\n",
       "  </tbody>\n",
       "</table>\n",
       "</div>"
      ],
      "text/plain": [
       "                                                data       category\n",
       "0  State-owned firm NLC India Ltd (NLCIL) on Mond...       business\n",
       "1  SBI Clerk Prelims Exam: The State Bank of Indi...      education\n",
       "2  Michelle Yeoh, Will Ferrell, Angela Bassett an...  entertainment\n",
       "3  In our review of the OnePlus Nord 3 5G, we pra...     technology\n",
       "4  Millions of dollars were invested in some publ...       business"
      ]
     },
     "metadata": {},
     "output_type": "display_data"
    }
   ],
   "source": [
    "train['data'] = train['content'] #train['headlines'] + train['category'] + train['content']\n",
    "test['data'] = test['content'] #test['headlines'] + test['category'] + test['content'] \n",
    "\n",
    "train = train[['data', 'category']]\n",
    "test = test[['data', 'category']]\n",
    "\n",
    "display(train.head(), test.head())"
   ]
  },
  {
   "cell_type": "markdown",
   "id": "74de3b96",
   "metadata": {},
   "source": [
    "## 4. Preprocessing & Pipeline"
   ]
  },
  {
   "cell_type": "code",
   "execution_count": 161,
   "id": "a6daa482",
   "metadata": {},
   "outputs": [
    {
     "name": "stderr",
     "output_type": "stream",
     "text": [
      "C:\\Users\\gpietersen\\AppData\\Local\\Temp\\1\\ipykernel_49208\\1289880047.py:23: SettingWithCopyWarning: \n",
      "A value is trying to be set on a copy of a slice from a DataFrame.\n",
      "Try using .loc[row_indexer,col_indexer] = value instead\n",
      "\n",
      "See the caveats in the documentation: https://pandas.pydata.org/pandas-docs/stable/user_guide/indexing.html#returning-a-view-versus-a-copy\n",
      "  train['data'] = train['data'].apply(process_text_pro)\n"
     ]
    }
   ],
   "source": [
    "# 1. Improved Preprocessing Function\n",
    "\n",
    "lemmatizer = WordNetLemmatizer()\n",
    "stop_words = set(stopwords.words('english'))\n",
    "\n",
    "def process_text_pro(text: str) -> str:\n",
    "    # 1. Lowercase\n",
    "    text = text.lower()\n",
    "    # 2. Remove URLs, mentions, hashtags\n",
    "    text = re.sub(r\"http\\S+|www\\S+|@\\w+|#\\w+\", \" \", text)\n",
    "    # 3. Remove non-alphabetic characters (keep spaces)\n",
    "    text = re.sub(r'[^a-z\\s]', ' ', text)\n",
    "    # 4. Collapse multiple spaces\n",
    "    text = re.sub(r'\\s+', ' ', text).strip()\n",
    "    # 5. Tokenize\n",
    "    tokens = word_tokenize(text)\n",
    "    # 6. Remove stopwords\n",
    "    tokens = [word for word in tokens if word not in stop_words]\n",
    "    # 7. Lemmatize\n",
    "    tokens = [lemmatizer.lemmatize(word) for word in tokens]\n",
    "    return ' '.join(tokens)\n",
    "\n",
    "train['data'] = train['data'].apply(process_text_pro)\n",
    "test['data'] = test['data'].apply(process_text_pro)"
   ]
  },
  {
   "cell_type": "code",
   "execution_count": 162,
   "id": "1000754c",
   "metadata": {},
   "outputs": [
    {
     "data": {
      "application/vnd.microsoft.datawrangler.viewer.v0+json": {
       "columns": [
        {
         "name": "index",
         "rawType": "int64",
         "type": "integer"
        },
        {
         "name": "data",
         "rawType": "object",
         "type": "string"
        }
       ],
       "ref": "0b7a3811-ab3d-47cc-92b3-67d25635ee4d",
       "rows": [
        [
         "0",
         "reserve bank india rbi changed definition politically exposed person pep norm move make easier individual carry various banking transaction including availing loan certain change made rbi know customer kyc norm earlier norm pertaining pep open ended lack clarity definition apparently leading issue banker parliamentarian others also concern certain quarter pep finding difficult get loan open bank account advertisement amended kyc master direction central bank defines pep individual entrusted prominent public function foreign country including head state government senior politician senior government judicial military officer senior executive state owned corporation important political party official new rule also include person entrusted foreign country public function bank account pep additional kyc norm current provision special due diligence undertaken senior bank official sub clause master direction kyc norm issued way circular february removed central bank central bank also asked chairperson chief executive bank financial service lending business make change effective immediately last year centre amended prevention money laundering act pmla introduce disclosure non government organisation reporting entity"
        ],
        [
         "1",
         "broadcaster new delhi television ltd monday reported per cent decline consolidated profit tax r crore september quarter impacted lower revenue higher expense company posted consolidated net profit r crore quarter last fiscal new delhi television ltd ndtv said regulatory filing consolidated revenue operation r crore r crore year ago period added advertisement total expense higher r crore compared r crore year ago company said second quarter slight bullishness advertisement spend despite muted economic environment added ndtv said launched two regional channel ndtv madhya pradesh chhattisgarh ndtv rajasthan second quarter q focus expansion growth ndtv expects launch regional channel near future company said"
        ],
        [
         "2",
         "homegrown server maker netweb technology india thursday said fixed price band r per share r crore initial public offering ipo initial share sale open public subscription july bidding anchor investor open july according company ipo comprises fresh issue equity share worth r crore offer sale ofs lakh equity share promoter advertisement selling share ofs sanjay lodha vivek lodha navin lodha niraj lodha ashoka bajaj automobile llp also read sensex cross mark first time ever nifty hdfc bank stock lead rally proceeds tune r crore used fund capital expenditure r crore support long term working capital r crore debt payment besides general corporate purpose company ipo fetch r crore r crore lower upper end price band respectively delhi ncr based netweb technology one country leading high end computing solution hcs provider one original equipment manufacturer oems country recipient production linked incentive scheme government india advertisement half issue size reserved qualified institutional investor per cent retail investor remaining per cent non institutional investor investor bid minimum share multiple thereof last month company raised r crore institutional investor pre ipo placement round fiscal year company revenue operation jumped per cent r crore r crore year ago net profit doubled r crore r crore advertisement equirus capital iifl security book running lead manager issue post ipo equity share company listed bse nse"
        ],
        [
         "3",
         "india current account deficit declined sharply per cent gdp usd billion second quarter financial year mainly due lower merchandise trade deficit growth service export according rbi data released tuesday current account deficit cad per cent gdp usd billion july september quarter cad usd billion per cent gdp first quarter april june current financial year advertisement underlying lower current account deficit year year basis q narrowing merchandise trade deficit usd billion usd billion q said data development india balance payment second quarter july september service export grew per cent basis back rising export software business travel service reserve bank said net service receipt increased sequentially basis added"
        ],
        [
         "4",
         "state forced pay nose weekly auction debt tuesday weighted average interest rate payable soaring highest far fiscal per cent basis point bps previous peak last auction price shot reflecting overall higher risk averseness investor rising interest rate along higher demand rose per cent auction spite jump average tenor year year last week eight state raised r crore state government security sg tuesday per cent higher amount indicated week auction calendar according aditi nayar chief economist icra rating advertisement sharp increase cutoff year issuance auction pushed weighted average cut per cent highest fy far per cent last week said weighted average tenor also increased year year last week result spread cut year sg year g sec g yield also rose week high bps tuesday bps last week said cumulatively state drawn per cent fund availed period last year r crore latest auction today r crore year ago period"
        ],
        [
         "5",
         "india oil import russia averaged million barrel per day million bpd october million bpd september per kpler data india overall oil import month however rose per cent sequentially million bpd mainly back higher import riyadh russian crude accounted nearly per cent india oil import october followed iraq per cent saudi arabia per cent share story subscriber subscribe special republic day offer r month subscribe already subscriber sign"
        ],
        [
         "6",
         "neelkanth mishra chief economist axis bank appointed part time chairperson unique identification authority india uidai nilesh shah managing director kotak mahindra asset management company ltd appointed part time member aadhaar agency mishra appointment uidai part time chairperson mean part high profile government office also part time member economic advisory committee prime minister pm eac member advisory committee india semiconductor mission vet chip application india"
        ],
        [
         "7",
         "ministry electronics meity sent advisory social medium platform including facebook instagram youtube take misleading content generated artificial intelligence deepfakes within hour advisory come day deepfake actor rashmika mandanna went viral social medium platform ministry issued similar advisory platform february year register continue reading story google facebook email already account sign"
        ],
        [
         "8",
         "share advanced wednesday asia tracking wall street gain following easing pressure bond market u future little changed oil price rose slightly china investor sentiment got boost report bloomberg citing unnamed source government considering boosting spending construction support economy advertisement china lackluster recovery blow economy covid pandemic weighed heavily regional global growth hang seng hong kong added per cent shanghai composite index per cent tokyo nikkei index climbed per cent south korea kospi jumped per cent samsung electronics reported improved quarterly earnings samsung share surged per cent sk hynix per cent analyst say worst post pandemic contraction demand computer chip electronic device may australia p asx advanced per cent india sensex added per cent bangkok set per cent advertisement investor taken heart amid sign upward pressure inflation many economy may easing would enable federal reserve central bank halt reverse aggressive interest rate hike meant curb rising price tuesday p gained per cent dow jones industrial average rose per cent nasdaq composite climbed per cent pepsico rose per cent reported stronger profit revenue latest quarter analyst expected advertisement strongest action bond market treasury yield eased trading resumed following holiday monday first opportunity yield move since weekend surprise attack hamas israel injected caution global market perhaps impactfully also first trading treasury since speech federal reserve official trader took suggestion fed may raise main interest rate comment helped u stock swing early loss gain monday yield year treasury fallen per cent per cent late friday considerable move bond market two year treasury yield move closely expectation fed action sank per cent per cent treasury yield jumped last week highest level decade following lead fed main interest rate height unseen since main reason stock market stumble since summer worry rise fed keep federal fund rate high level longer wall street hope high rate longer term yield knock price stock investment slowing economy hope undercutting high inflation advertisement swift rise year treasury yield helped pull average long term mortgage rate highest level since fed official intimated move may help contain high inflation actually think need increase rate anymore raphael bostic president federal reserve bank atlanta said remark american banker association tuesday think good place regard fed next announcement interest rate due nov trader betting nearly per cent chance year end without fed rate hike according data cme group per cent chance seen week ago advertisement trading barrel u crude picked cent usd per barrel electronic trading new york mercantile exchange fell cent settle usd tuesday giving back bit usd leap day due fighting middle east brent crude international standard cent usd per barrel fell cent usd per barrel tuesday advertisement u dollar rose japanese yen yen euro slipped usd usd"
        ],
        [
         "9",
         "nrindia demand electricity running household air conditioner estimated expand nine fold exceed total power consumption whole africa today international energy agency iea said tuesday latest world energy outlook iea said india see largest energy demand growth country region world next three decade projected india energy supply rise exajoules ej ej ej stated policy scenario ej ej per announced pledge advertisement oil demand seen rising million barrel per day bpd million bpd million bpd stated policy scenario announced pledge demand seeking million bpd million bpd iea said past five decade india witnessed heatwave event claimed life fuelled geographic meteorological condition air conditioner ownership india steadily rising growing income tripling since reach unit per household impact cooling need electricity consumption already clear paris based agency said electricity demand sensitive temperature india case sharp increase demand temperature cross degree celsius threshold advertisement electricity consumption due space cooling increased per cent today nearly per cent electricity demand come space cooling requirement household air conditioner ownership estimated expand ninefold across iea scenario outpacing growth ownership every major household appliance including television refrigerator washing machine said residential electricity demand cooling increase ninefold stated policy scenario step advertisement iea said india total electricity demand residential air conditioner step exceeds total electricity consumption whole africa today announced pledge scenario aps however electricity demand air conditioner nearly per cent lower step result increased use energy efficient air conditioner thermal insulation building reduction larger total electricity generation several country today netherlands growth ownership use air conditioner cooling equipment one key driver increase peak electricity demand india step peak electricity demand rise around per cent level cooling account nearly half increase aps however implementation building code use efficient appliance adoption demand response measure enable cooling need met less energy reduces peak electricity demand growth nearly one quarter compared step given electricity system sized meet peak demand lower peak demand help lower electricity investment need system cost advertisement although solar pv match well daytime cooling need cooling demand also significant india late evening night lowering cooling demand energy efficiency policy therefore reduces need investment battery expensive standby generation capacity thus help integrate renewables cost effectively iea said advertisement iea said india moving dynamic new phase energy development marked long term net zero emission ambition increased regulatory sophistication focus clean energy deployment creation domestic clean energy technology supply chain recognising potential transform energy sector reduce import burden fossil fuel reducing co emission india announced net zero emission target put place policy scale clean energy supply clean technology manufacturing advertisement clean energy investment india double step around usd billion investment need nearly triple end decade trajectory meet net zero emission target reflected aps said although india population growth slowed reach replacement level urban population increase per cent per caput income triple industrial output expands rapidly example tripling output iron steel doubling cement plus ninefold increase residential air conditioner ownership result demand oil natural gas increase step nearly per cent coal demand increase per cent even solar pv make inroad electricity generation result india annual co emission still rise nearly per cent one largest increase world outlook said aps increase clean energy investment change outlook step solar provides nearly per cent total generated power aps cross per cent step aps india achieves target per cent non fossil power generation capacity clean energy investment aps step also drive faster growth electromobility low emission hydrogen grid expansion clean energy infrastructure result india annual co emission fall sharply aps per cent current level even though gdp quadruple period added"
        ],
        [
         "10",
         "opening higher domestic equity slumped thursday sensex slipped point day high close point per cent meanwhile broader nse nifty fell point per cent broader market largely mixed nifty midcap gained per cent nifty midcap select rose per cent nifty midcap rose per cent hand nifty smallcap slipped per cent nifty smallcap fell per cent nifty tanked per cent sectorally nifty soared per cent nifty fmcg slipped per cent realty rose per cent hand sector saw loss nifty healthcare index per cent nifty psu bank per cent pharma sector slipped per cent oil gas index fell per cent advertisement jio financial service continued downward rally fourth day straight hit per cent lower circuit stock locked r lower circuit today jio financial service reliance industry divis lab power grid ongc hindalco jsw steel grasim l bajaj auto eicher motor cipla hcltech top loser today session hand bpcl asian paint indusind bank infosys britannia adani enterprise ultratech cement axis bank bharti airtel icici bank itc nestle india top gainer"
        ],
        [
         "11",
         "share life insurance corporation india lic friday jumped almost per cent company net profit april june quarter jumped multi fold r r crore lic share opened higher r soon climbed per cent hit intraday high r nse time writing lic share trading per cent higher r exhausted monthly limit free story register read story continue google facebook email already account sign"
        ],
        [
         "12",
         "reserve bank india rbi recent move tighten risk weight unsecured personal loan credit card bank non bank finance company nbfcs credit positive lender need allocate higher capital improve loss absorbing buffer moody investor service said report monday last week rbi increased risk weight exposure bank towards consumer credit credit card receivables nbfcs per cent per cent register continue reading story google facebook email already account sign"
        ],
        [
         "13",
         "development enhanced co operation critical challenge along review new delhi leader declaration september expected key focus area agenda virtual g leader summit held wednesday end india presidency g sherpa amitabh kant speaking curtain raiser briefing virtual g leader summit tuesday said development core agenda leader may discus many issue register continue reading story google facebook email already account sign"
        ],
        [
         "14",
         "edtech company byju appointed upgrad former top bos arjun mohan ceo international business according source byju raveendran remain group ceo mrinal mohit continue head india business source confirmed pti byju declined comment development mohan byju year chief business officer moving join ronnie screwvala promoted upgrad chief executive officer india resigned upgrad december last year"
        ],
        [
         "15",
         "former reserve bank governor raghuram rajan said india still remain lower middle country growth rate remains per cent annually without rise population amrit kaal reaching end demographic dividend speaking programme organised manthan hyderabad economist said country grow faster grow older demographically get richer mean burden aging population deal also point math per cent year double every year therefore year four time per caput income today per caput income india know little per person multiply four get per person math current rate growth know strong highest g get rich stay lower middle income till said advertisement former rbi chief said southern state growing regard population reproduction rate word fertility rate fallen reproduction rate thus slowing growth word start process aging point around time lead alarming question grow faster grow old grow rich mean burden aging population deal also point opined according current pace growth enough employ entering labour force insufficient make country u get rich get old"
        ],
        [
         "16",
         "reserve bank india rbi aiming scale number central bank digital currency cbdc transaction one million per day end deputy governor rabi sankar said tuesday currently around transaction done per day using retail cbdc e r pilot launched rbi december last year story subscriber subscribe special republic day offer r month subscribe already subscriber sign"
        ],
        [
         "17",
         "sudden rise price garlic added woe consumer already paying around r per kg onion spicy bulb stronger taste odour humble pyaaz currently retailing around r per kg compared r year ago r three month back trader attributing spike lahsun garlic price delayed harvesting arrival kharif crop garlic like onion cultivated kharif rabi season kharif garlic planted june july harvested october november september november march april rabi crop exhausted monthly limit free story register read story continue google facebook email already account sign"
        ],
        [
         "18",
         "rupee depreciated paisa settled day time low provisional u dollar monday weighed surge crude oil price selling pressure foreign investor forex trader said rupee likely trade negative bias risk aversion global market interbank foreign exchange market local unit opened u dollar moved range day trade advertisement rupee finally settled provisional u dollar paisa previous close friday rupee edged lower paisa settle time low u dollar weighed negative trend domestic equity foreign fund outflow indian rupee depreciated surge crude oil price selling pressure foreign investor however weak tone u dollar positive domestic market cushioned downside said anuj choudhary research analyst sharekhan bnp paribas advertisement u dollar declined chinese central bank reduced key rate basis point per cent stimulate economy leading risk sentiment expect rupee trade negative bias rising global crude oil price overall strength u dollar amid hawkish u federal reserve however positive domestic market intervention reserve bank india may support rupee lower level usdinr spot price expected trade range r r choudhary added investor taking cue brics summit jackson hole symposium trader said advertisement meanwhile dollar index gauge greenback strength basket six currency fell per cent brent crude future global oil benchmark advanced per cent usd per barrel domestic equity market front share bse sensex closed point per cent higher broader nse nifty advanced point per cent foreign institutional investor fiis net seller capital market friday offloaded share worth r crore according exchange data meanwhile india foreign exchange reserve jumped usd million usd billion week ended august reserve bank india rbi said friday advertisement first increase kitty declining three consecutive week previous week overall reserve declined usd billion usd billion"
        ],
        [
         "19",
         "diversified conglomerate itc limited friday said fmcg business immense potential growth brand commanding annual consumer spend r crore speaking th agm company itc chairman sanjiv puri told shareholder address fmcg brand exported several country business vertical immense growth potential due rising per caput income people itc next strategy fmcg business build future ready portfolio brand moment annual consumer spend around r crore puri said advertisement said addressable market fmcg vertical itc usd five trillion business immense opportunity harness potential puri added regarding hotel business itc board given principle approval demerge vertical spin new entity puri said business well poised capitalise growth potential tourism sector growing pivoted asset right strategy hotel moment itc fold managed property comprise per cent total room said advertisement regarding cigarette business said company introducing new brand stability taxation regime sale volume increasing itc continues strengthen cigarette business added puri said fmcg business linked agri value chain itc maar project support fpos said"
        ],
        [
         "20",
         "india industrial output growth slid three month low per cent september month high per cent august mainly due base effect subdued manufacturing especially consumer good output data released national statistical office nso friday showed factory output growth come much lower economist expectation pegged broadly per cent manufacturing account percent weight iip index industrial production grew per cent september per cent september per cent august absolute term manufacturing index september year ago period lower august year register continue reading story google facebook email already account sign"
        ],
        [
         "21",
         "supreme court friday said reason discredit sebi probed allegation adani group material doubt market regulator done court treat set hindenburg report true state affair asking security exchange board india sebi intends future ensure investor loose wealth due volatility stock market short selling apex court observed would proper set special investigation team sit without material bench headed chief justice chandrachud reserved order batch plea concerning adani hindenburg row allegation stock price manipulation said ask statutory regulator take gospel truth something published medium advertisement treat set hindenburg report ipso facto automatically true state affair directed sebi investigate u accept something report entity u whose veracity mean testing would really unfair bench also comprising justice j b pardiwala manoj misra told advocate prashant bhushan appearing one petitioner bhushan argued sebi role matter suspect several reason lot information available regulator way back completed investigation saying quasi judicial power disclose investigation issue notice show cause bench asked bhushan said apex court see whether probe done sebi credible whether independent organisation sit needed formed investigate advertisement material u u doubt sebi done bench observed also took serious note bhushan claim two member apex court appointed expert committee serious conflict interest bench said responsibility allegation made easy level allegation advertisement also careful easy make allegation giving character certificate equally conscious fundamental principle fairness bench observed dealing submission relating sebi probe said also conscious sebi statutory body exclusively entrusted jurisdiction investigate stock market violation today proper court highest court without material say let investigate constitute sit done great deal calibration bhushan referred hindenburg report also medium report buttress argument sebi probe credible think ask statutory regulator take gospel truth something filed newspaper whether guardian financial time reason discredit bench said therefore sebi following journalist ask journalist subject jurisdiction disclose underlying material said bhushan argued journalist get hold document sebi vast power investigation able get hold material advertisement bench said always correct way looking simple reason dealing body governed evidentiary requirement somebody publishes something public realm bound evidentiary standard statutory body bound amenable jurisdiction security appellate tribunal pick say well rely newspaper report issue notice show cause notice quashed judicial body said bhushan said show cause notice would quashed based credible information lead suspicion advertisement court treat credible rely investigative agency investigate bench said adding make assumption either credible lacking credibility solicitor general tushar mehta appearing sebi told bench growing tendency planting story outside india influence thing policy inside india outset mehta apprised bench investigation case relating allegation adani group advertisement supreme court appointed expert committee interim report may stated saw evident pattern manipulation billionaire gautam adani company regulatory failure adani group stock bludgeoned bourse hindenburg research made litany allegation including fraudulent transaction share price manipulation business conglomerate adani group dismissed charge lie saying complies law disclosure requirement"
        ],
        [
         "22",
         "amid major overhaul operation identity makeover technology big focus air india gain lost ground aviation market going forward case business world right big part tech upgrade include artificial intelligence enabled system thursday airline chairman n chandrasekaran said air india aim best technology next month airliner putting information technology system place look rise serious contender indian foreign sky best artificial intelligence machine learning air india added story subscriber subscribe special republic day offer r month subscribe already subscriber sign"
        ],
        [
         "23",
         "u india nation close reaching agreement overhauling global tax norm ensure multinationals pay tax wherever operate meeting finance minister nirmala sitharaman sideline g finance minister central bank governor meeting u treasury secretary janet yellen appreciated india focus finalizing historic two pillar global tax deal oecd inclusive framework believe close reaching agreement yellen said remark bilateral meeting advertisement major reform international taxation system country including india agreed overhaul global tax norm ensure multinationals pay tax wherever operate minimum per cent rate however deal requires country remove digital service tax similar measure commit introduce measure future significant issue including share profit allocation scope subject tax rule yet addressed consensus agreement would happen working technical detail proposal proposed two pillar solution consists two component pillar one reallocation additional share profit market jurisdiction pillar two consists minimum tax subject tax rule advertisement organisation economic co operation development oecd outcome statement issued last week said jurisdiction expressed concern specific item multilateral convention mlc effort resolve issue underway view prepare mlc signature expeditiously oecd said india calling g country ensure developing nation guarded unintended consequence proposed global minimum tax deal advertisement developing country make almost one third membership g inclusive framework taxation"
        ],
        [
         "24",
         "hdfc bank managing director chief executive sashidhar jagdishan remuneration shot per cent fy r crore fy annual report fy largest private sector lender said deputy managing director kaizad bharucha overall remuneration excluding stock option r crore jagdishan paid r crore fy bharucha paid r crore year ago period report said adding percentage increase median remuneration employee per cent advertisement ceo paid basic salary r crore allowance perquisite r crore provident fund r lakh performance bonus r crore report said going forward key personnel lender play important role steering large institution merger mortgage major parent hdfc hdfc bank message shareholder jagdishan said merger help lender take larger exposure infrastructure project help much bigger balancesheet digital platform digital journey physical branch network hdfc bank ability offer home loan customer complete bouquet bank subsidiary product service said advertisement saving account personal loan insurance cover sip bundled along home loan create compelling value proposition customer probably exist market scale envisaged jagdishan said meanwhile expressed concern attrition rate bank lakh employee end march bank attrition rate per cent fy industry average per cent total employee quit bank fy added advertisement bank experienced increase attrition last financial year significant part non supervisory staff level includes sale officer jagdishan said attributing post covid phenomenon may prompted younger workforce recalibrate want life jagdishan said want focus building inclusive organisation go long way reining attrition coming year also seemed referring lapse cultural front like unsavoury conduct senior manager business review meeting recently fully conscious fact may instance people manager might transgress defined way working resolve nip bud way training counselling appropriate action ensure attempted anyone else said distance traverse front said jagdishan said bank focusing diversity plan take overall share woman workforce per cent end fy current per cent bank invited unprecedented regulatory action due laxity technology front seen significant improvement resilience uptime metric jagdishan said advertisement migrated data centre new state art facility mumbai bengaluru added trend complaint indicates digital fraud increasing particularly targeting vulnerable section consumer said advertisement plan add another branch fy include unit semi urban rural area said"
        ],
        [
         "25",
         "rerouting major shipping line effort avoid red sea route seen multiple attack vessel yemen houthi rebel could raise price indian basmati rice export per cent senior official government agency said alternative route may also affect india export long grain rice egypt european country said official requesting anonymity come world second largest container shipping company maersk said vessel previously paused due sail red sea region rerouted around africa via cape good hope safety reason official said india export face shortfall billion billion year curbed export wheat rice sugar amid rising price however india expects growth export farm commodity offset export deficit year official said maersk announced december would pause vessel bound gulf aden highly escalated security situation area decision taken ensure safety crew vessel customer cargo onboard firm said"
        ],
        [
         "26",
         "private sector lender icici bank reported per cent jump standalone profit tax r crore quarter ended december r crore year ago quarter bank net interest income nii rose per cent r crore r crore q fy exhausted monthly limit free story register read story continue google facebook email already account sign"
        ],
        [
         "27",
         "ahead assembly election state general election next year central board indirect tax custom cbic released standard operating procedure preventive vigilance mechanism prevent flow suspicious cash illicit liquor drug narcotic freebie smuggled good election line direction election commission expressed concern smuggled good contraband illicit article may used lure voter election process cbic directed field formation monitor use monetary non monetary item lure voter election story subscriber subscribe special republic day offer r month subscribe already subscriber sign"
        ],
        [
         "28",
         "gross good service tax gst collection grew per cent r lakh crore september sale august crossing r lakh crore mark fourth time current financial year data released finance ministry sunday showed pickup consumption economic activity along settlement payment business limitation deadline september notice related financial year seems aided rise gst collection august gst collection r crore total gst collection stood r crore september central gst tax levied intra state supply good service centre r crore state gst tax levied intra state supply good service state r crore integrated gst tax levied inter state supply good service r crore including r crore collected import good cess r crore including r crore collected import good register continue reading story google facebook email already account sign"
        ],
        [
         "29",
         "centre sought r crore seven electric two wheeler maker including hero electric okinawa claiming incentive complying faster adoption manufacturing electric vehicle fame ii scheme norm government official said official said case non refund amount government de registered scheme next day government would allow participate scheme investigation heavy industry ministry revealed company availed fiscal incentive scheme violating norm advertisement per rule scheme incentive allowed make electric vehicle using made india component investigation found seven firm used imported component investigation six company found clean seven company violated norm seeking r crore return amount government official said seven company hero electric okinawa autotech ampere ev revolt motor benling india amo mobility lohia auto ministry conducted investigation receiving anonymous email alleging several ev maker claiming subsidy without complying phased manufacturing plan pmp rule intended boost domestic manufacturing electric vehicle advertisement ministry delayed distribution subsidy last financial year seven official said two communicated ministry would return incentive amount interest official also clarified government stopped player making vehicle get incentive scheme advertisement contacted hero electric spokesperson said notice pertains period cause non compliance relevant hero electric greave electric mobility gem spokesperson said company one first company enthusiastically support deliver government localisation vision working government better understand concern relation filed detailed representation spokesperson added lohia auto ceo ayush lohia said want emphatically state received information notice government department concerned authority regarding reversal subsidy said unaware source information alleges lohia auto industry involvement matter okinawa autotech revolt motor declined comment promote electric hybrid vehicle r crore programme fame ii scheme announced expanded version present scheme fame india faster adoption manufacturing hybrid electric vehicle launched april total outlay r crore three wheeler four wheeler segment incentive applicable mainly vehicle used public transport registered commercial purpose two wheeler segment focus private vehicle"
        ],
        [
         "30",
         "benchmark sensex closed level first time broader nifty scaled point peak monday key stock index stayed record breaking run powered rally share reliance hdfc bank rising fifth day row share bse sensex jumped point per cent settle lifetime closing high day rallied point per cent hit time intra day peak nifty climbed point per cent settle new closing high day zoomed point per cent reach lifetime intra day high strong rally share infosys tc wipro hcl tech better expected q result helped index scale new record high level oil gas energy sector share also boosted rally advertisement market gained momentum led uptick index growing optimism increased discretionary spending strong deal win u bond yield edged lower market participant bet fed easing cycle expected start march said vinod nair head research geojit financial service among sensex firm wipro jumped per cent company december quarter earnings beat estimate prominent gainer hcl technology hdfc bank infosys tech mahindra bharti airtel reliance industry hcl technology friday reported per cent increase consolidated net profit r crore highest ever quarterly basis three month ended december back growth service software business bajaj finance bajaj finserv larsen toubro tata motor tata steel axis bank among laggard major front foot select heavyweight banking energy basket also aided uptick according ajit mishra svp technical research religare broking ltd broader market bse midcap gauge climbed per cent smallcap index rallied per cent among index jumped per cent teck climbed per cent oil gas per cent energy per cent telecommunication per cent financial service per cent commodity metal laggard advertisement meanwhile wholesale inflation inched edged per cent december per cent previous month mainly due sharp rise food price wholesale inflation negative zone april october asian market seoul tokyo shanghai settled green hong kong ended marginally lower european market trading mostly lower u market ended muted note friday global oil benchmark brent crude declined per cent usd barrel advertisement foreign institutional investor fiis offloaded equity worth r crore friday according exchange data bse benchmark zoomed point per cent settle friday nifty climbed point per cent settle"
        ],
        [
         "31",
         "capital market regulator sebi notified rule allowing private equity fund sponsor mutual fund house bring strategic guidance talent drive growth industry currently entity owns per cent stake mutual fund considered sponsor required fulfill eligibility criterion private equity fund pooled investment vehicle pooled investment fund may also permitted sponsor mutual fund sebi said notification adding subject certain condition eligibility criterion sponsor mf sebi said sponsor need adequately capitalise asset management company amc positive liquid net worth amc least r crore addition capital contributed amc would locked year besides minimum sponsor stake per cent would also locked five year according notification issued monday regulator said self sponsored amcs continue mutual fund business subject amcs fulfilling certain condition move would give original sponsor flexibility voluntarily disassociate mf without needing induct new eligible sponsor addition regulator increased role accountability trustee bid safeguard unitholders interest also regulator enhanced accountability board amc advertisement regulator said unitholder protection committee uhpc board amc would constituted part sebi attempt independent review mechanism decision amc perspective unitholders interest across product service give effect security exchange board india sebi amended mutual fund rule"
        ],
        [
         "32",
         "reliance retail talk existing investor including sovereign wealth fund singapore abu dhabi saudi arabia combined new investment around billion three source direct knowledge plan said reliance retail india largest retailer led asia richest person mukesh ambani talk investor part internal target raise billion company want close end september reuters reported qia last month announced billion investment kkr co week million singapore gic abu dhabi investment authority adia saudi arabia public investment fund pif looking invest least million reliance retail valuation billion one source told reuters advertisement gic adia declined comment pif respond reuters request comment reliance said comment medium speculation rumour second source said three investor could end putting less million talk also least one two investor fund raising three investor evaluated company quite seriously said first three source declined named discussion private final investment funding plan could still change gic pif adia among world biggest investment fund together stake indian retailer advertisement reliance industry retail arm parent also plan invest ongoing fund raising round billion two source said reliance sold stake retail unit valuing trillion rupee billion time gic adia invested million pif pumped billion based current exchange rate fourth source briefed dealmaking said fund raising agreement clause allowed existing investor increase stake investment fund showing keen interest advertisement ambani indian retail empire store operation ranging grocery electronics includes foreign partnership brand mark spencer competes amazon walmart flipkart one world biggest market adia invested reliance retail said part strategy targeting market leading business asia linked region consumption driven growth last month ambani said speech several marquee global strategic financial investor shown strong interest company gave name billionaire said group planned list retail business five year reliance retail reported consolidated net profit billion rupee billion financial year ended march revenue trillion rupee also forayed consumer good business compete like coca cola unilever"
        ],
        [
         "33",
         "jp morgan chase co announced include indian government bond emerging market bond index june much anticipated move could attract foreign flow domestic government security market move potentially attract billion country per analyst estimate india included gbi em global index suite starting june expected reach maximum weight per cent gbi em global diversified index gbi em gd jp morgan said currently indian government bond combined notional value billion index eligible inclusion bond staggered month march e inclusion per cent weight per month said story subscriber subscribe special republic day offer r month subscribe already subscriber sign"
        ],
        [
         "34",
         "china export declined slower pace august even world second biggest economy remains pressure weaker demand domestically abroad export august slumped per cent time last year totalling usd billion slower per cent last month according custom data thursday import slid per cent year ago usd billion beat consensus estimate per cent decline advertisement china trade surplus contracted per cent usd billion lower usd billion july chinese leader recent month rolled several policy measure shore economy post covid rebound fizzled earlier expected china central bank eased borrowing rule relaxing borrowing rule lowering mortgage rate first time home buyer well implementing tax relief measure small business however authority yet announce large scale stimulus spending tax cut advertisement demand chinese export weakened federal reserve central bank europe asia began raising interest rate last year cool inflation multi decade high"
        ],
        [
         "35",
         "spurt price tomato temporary seasonal phenomenon rate cool soon top government official said retail price kitchen staple shot r per kg major city highly perishable commodity transportation get affected area received sudden rain temporary issue price cool soon happens every year time consumer affair secretary rohit kumar singh told pti stating seasonality tomato said data tomato price last five year show rate risen every year time himachal pradesh supply delhi start coming next day price soften according data maintained department consumer affair average price tomato india basis r per kg june modal price r per kg maximum price r per kg across four metro retail price tomato delhi r per kg mumbai r per kg kolkata r per kg chennai r per kg among major city price stood r per kg bengaluru r per kg jammu r per kg lucknow r per kg shimla r per kg bhubaneshwar r per kg raipur maximum price r per kg reported gorakhpur uttar pradesh bellary karnataka per department data advertisement delhi national capital region ncr tomato price mother dairy safal store doubled nearly r per kg last one week supply affected due rain key producing state best quality tomato mother dairy safal retail store sold r per kg tuesday variety available lower rate also safal store delhi ncr market onset monsoon tomato crop currently going seasonal transition rainfall area himachal pradesh uttarakhand impacted crop also restricted supply resulting demand supply gap mother dairy spokesperson said advertisement agritech startup otipy market fresh fruit vegetable mobile app selling tomato r per kg tomato available r per kg e commerce platform big basket vegetable vendor national capital selling tomato r per kg depending location quality explained tomato price fire come soon selling tomato r per kg around june started increase gradually r r selling r per kg babloo vegetable vendor paschim vihar west delhi said price azadpur biggest wholesale market fruit vegetable country increased sharply added however according price prediction made based artificial intelligence consumer affair ministry price tomato likely remain lower july secretary said advertisement producing centre madanapalle andhra pradesh average whole price present ruling r per quintal rate expected come r per quintal july similarly average price tomato ruling r per quintal kolar karnataka present likely decline r per quintal july added also read tomato r per kg heavy rain supply shortage lead skyrocketing vegetable price tamil nadu per government data tomato production estimated fall slightly million tonne million tonne previous year"
        ],
        [
         "36",
         "fmcg major nestle india ltd thursday reported increase per cent net profit r crore second quarter ended june company follows january december financial year posted net profit r crore period year ago nestle india said regulatory filing nestle india net sale rose per cent r crore period review r crore corresponding period last fiscal company said advertisement total expense april june quarter r crore per cent r crore corresponding period year ago nestle india domestic sale per cent r crore r crore june quarter domestic sale growth broad based grew per cent back prudent pricing supported mix volume targeted brand support said nestl india chairman managing director suresh narayanan key brand continued perform well led kitkat nescaf maggi among others added advertisement export per cent r crore r crore corresponding quarter year ago total income nestle india june quarter r crore per cent outlook narayanan said commodity edible oil wheat packaging material lower price range advertisement reversal price trend noted fuel price softening second quarter reaching higher level towards end quarter one fresh milk price stability robusta coffee price elevated expected remain volatile said share nestle india ltd trading r apiece bse late morning trade thursday per cent previous close"
        ],
        [
         "37",
         "parliamentary panel questioned ministry statistic programme implementation mospi delay release economic census result pointing report tabled thursday parliament state union territory communicated approval provisional result far seventh economic census launched completed march story subscriber subscribe special republic day offer r month subscribe already subscriber sign"
        ],
        [
         "38",
         "tata motor stock wednesday climbed per cent hit week high company reported consolidated net profit r crore first quarter ended june company stock jumped per cent week high r bse nse rallied per cent reach week high r tata motor tuesday reported consolidated net profit r crore first quarter ended june riding sharp improvement performance british arm jaguar land rover commercial vehicle business advertisement company posted consolidated net loss r crore quarter last fiscal tata motor said regulatory filing consolidated revenue operation stood r crore compared r crore year ago period added total expense r crore r crore standalone basis loss tax narrowed r crore r crore year ago period filing said standalone revenue operation r crore compared r crore added advertisement overall tata motor said continued strong performance q fy showing sharp improvement driven jlr commercial vehicle business whilst passenger vehicle business steady company said"
        ],
        [
         "39",
         "france totalenergies se invest million new joint venture adani green renewable energy project conglomerate said filing stock exchange wednesday adani green energy limited agel totalenergies entered binding agreement create new jv equally owned totalenergies agel mw portfolio company stated adani green added total make investment either directly affiliate usd million form new joint venture company agel advertisement portfolio comprise mix already operational mw construction mw development asset mw blend solar wind power agel contribute jv asset totalenergies equity investment mu support development adani group renewable energy arm stated adani group chairman gautam adani statement said delighted extend long term partnership totalenergies agel investment strengthen pivotal role played agel india glide path decarbonization help deliver vision gw renewable energy capacity"
        ],
        [
         "40",
         "air india start operating first aircraft domestic route january first flight bengaluru mumbai aircraft three class cabin configuration seat business class premium economy economy seat india first airbus enter commercial service january airline said release monday advertisement initially aircraft deployed domestic route crew familiarisation regulatory compliance purpose plane operate flight bengaluru chennai delhi hyderabad mumbai release said aircraft later deployed longer haul flight destination across continent added air india monday started booking flight operated advertisement airline first aircraft landed national capital december"
        ],
        [
         "41",
         "union finance minister nirmala sitharaman said upcoming interim budget unlikely spectacular announcement small tax relief measure fillip welfare spending likely according official tweak certain income tax rate especially bottom taxpayer pyramid expected interim budget announced february hike standard deduction along higher exemption limit incentivise taxpayer shift new income tax regime likely exhausted monthly limit free story register read story continue google facebook email already account sign"
        ],
        [
         "42",
         "domestic equity soared thursday line global market u fed reserve signalled likely pause future rate hike bse benchmark sensex jumped point per cent broader nse nifty climbed point per cent share sensex pack bajaj finance tech mahindra closed negative note meanwhile nifty pack hero motocorp bajaj auto hdfc life ongc adani enterprise divis lab bajaj finance dr reddy net loser register continue reading story google facebook email already account sign"
        ],
        [
         "43",
         "monday july last date salaried individual non audit case file income tax return itr financial year income tax department urged taxpayer file return early avoid last minute rush crore return filed fy pm july crossing last year filing till july department tweeted advertisement portal logged lakh successful logins pm july crore july indicating surge filing activity someone miss deadline still file belated return late fee tax due able carry forward loss avoid prosecution notice department urging taxpayer complete itr filing formality well july avoid glitch ensure tax detail declared accurately within deadline"
        ],
        [
         "44",
         "domestic equity climbed higher friday amid decline oil price globally led rally pharma healthcare metal medium stock bse benchmark sensex climbed point per cent close week broader nse nifty jumped point per cent intraday session sensex climbed point per cent nifty touched intraday high point per cent except india vix slumped per cent broader market index ended positive note nifty midcap climbed per cent nifty smallcap jumped per cent nifty midcap rose per cent nifty next gained per cent nifty midcap select jumped per cent nifty midcap gained per cent advertisement sectorally index except nifty plunged per cent closed green nifty pharma gained per cent nifty healthcare jumped per cent nifty medium metal index gained per cent nifty oil gas gained per cent nifty financial service rose per cent realty rose per cent hindalco soared per cent ntpc gained nearly per cent dr reddy lab divis lab tata motor hero motocorp apollo hospital ongc sun pharma cipla tata steel jsw steel sbi bajaj auto indusind bank icici bank itc also top gainer today session flip side ltimindtree hcl tech power grid tech infosys asian paint tc powergrid titan"
        ],
        [
         "45",
         "tim hortons mccain food might biggest brand recall come canadian business india canadian investment country go far beyond coffee chain frozen snack canadian pension fund asset management company financial service insurance player invested key sector india economy including financial service financial technology infrastructure real estate information technology energy among others according national investment promotion facilitation agency invest india canada th largest foreign investor india cumulative investment billion canadian investment accounted per cent total foreign direct investment fdi inflow india service infrastructure together accounted close per cent canadian fdi india story subscriber subscribe special republic day offer r month subscribe already subscriber sign"
        ],
        [
         "46",
         "india poised become world second largest economy estimated gdp trillion surpassing united state germany japan global investment firm goldman sachs predicted report china forecasted highest gdp trillion u expected third largest economy gdp trillion exhausted monthly limit free story register read story continue google facebook email already account sign"
        ],
        [
         "47",
         "price gold opened marginally higher silver slipped key spot market wednesday opening price purity karat gold r per gram wednesday r tuesday closing price r per gram purity silver r per kg r per kg according data available india bullion jeweller association ibja bullion purity opening price r previous close r gold gm silver kg source india bullion jeweller association ibja advertisement spot gold remained unchanged per ounce gmt sinking lowest since october tuesday u gold future changed bit according ilya spivak head global macro tastylive geopolitical risk premium getting digested central bank turned away rate hike ultimately pushing yield lower much driving catalyst gold week spivak said fed official tuesday refrained giving hint central bank next decision noted would focus economic data impact higher long term bond yield per according cme fedwatch tool future point roughly chance another rate hike january chance cut could come early march predicted advertisement elsewhere spot silver dropped per ounce platinum rose palladium slipped lowest since october input reuters"
        ],
        [
         "48",
         "india dream turning airport global aviation hub facilitating international international connection country largest airline indigo midst rapid expansion international network flurry new launch vinay malhotra head global sale indigo belief transformation india international hub already underway set pave way significant growth coming year interaction sukalp sharma malhotra talk thought strategy driving indigo international expansion indian civil aviation landscape growth potential offer carrier edited excerpt story subscriber subscribe special republic day offer r month subscribe already subscriber sign"
        ],
        [
         "49",
         "admitting july inflation number higher reserve bank india estimate governor shaktikanta da wednesday said high inflation continues remain challenge must addressed effectively said vegetable inflation led spike consumer price index cpi inflation july begin easing september story subscriber subscribe special republic day offer r month subscribe already subscriber sign"
        ]
       ],
       "shape": {
        "columns": 1,
        "rows": 5520
       }
      },
      "text/plain": [
       "0       reserve bank india rbi changed definition poli...\n",
       "1       broadcaster new delhi television ltd monday re...\n",
       "2       homegrown server maker netweb technology india...\n",
       "3       india current account deficit declined sharply...\n",
       "4       state forced pay nose weekly auction debt tues...\n",
       "                              ...                        \n",
       "5515    samsung plan reveal next generation flagship g...\n",
       "5516    google accidentally gave u glimpse upcoming fl...\n",
       "5517    new scam seems making round internet legitimat...\n",
       "5518    year elon musk acquired twitter billion platfo...\n",
       "5519    apple begun rolling io update eligible iphones...\n",
       "Name: data, Length: 5520, dtype: object"
      ]
     },
     "execution_count": 162,
     "metadata": {},
     "output_type": "execute_result"
    }
   ],
   "source": [
    "train['data']"
   ]
  },
  {
   "cell_type": "markdown",
   "id": "1bd8313f",
   "metadata": {},
   "source": [
    "## 5. Training & Evaluation"
   ]
  },
  {
   "cell_type": "code",
   "execution_count": 163,
   "id": "8f8b2f18",
   "metadata": {},
   "outputs": [
    {
     "name": "stderr",
     "output_type": "stream",
     "text": [
      "2025/10/19 22:23:27 INFO mlflow.utils.autologging_utils: Created MLflow autologging run with ID 'd94c825df78a4665b6dde9d3066c0a93', which will track hyperparameters, performance metrics, model artifacts, and lineage information for the current sklearn workflow\n"
     ]
    },
    {
     "name": "stdout",
     "output_type": "stream",
     "text": [
      "TF-IDF Matrix Shape: (5520, 5000)\n",
      "Vocabulary: ['aadhaar' 'aamir' 'aamir khan' ... 'zoom' 'zoya' 'zoya akhtar']\n"
     ]
    },
    {
     "name": "stderr",
     "output_type": "stream",
     "text": [
      "2025/10/19 22:23:27 WARNING mlflow.sklearn: Failed to log training dataset information to MLflow Tracking. Reason: 'Series' object has no attribute 'flatten'\n",
      "2025/10/19 22:23:36 WARNING mlflow.utils.autologging_utils: Encountered unexpected error during sklearn autologging: When an mlflow-artifacts URI was supplied, the tracking URI must be a valid http or https URI, but it was currently set to file:///c:/Users/gpietersen/source/repos/ExploreAI_Classification_Project/2501PTDS_Classification_Project/mlruns. Perhaps you forgot to set the tracking URI to the running MLflow server. To set the tracking URI, use either of the following methods:\n",
      "1. Set the MLFLOW_TRACKING_URI environment variable to the desired tracking URI. `export MLFLOW_TRACKING_URI=http://localhost:5000`\n",
      "2. Set the tracking URI programmatically by calling `mlflow.set_tracking_uri`. `mlflow.set_tracking_uri('http://localhost:5000')`\n"
     ]
    },
    {
     "name": "stdout",
     "output_type": "stream",
     "text": [
      "Training Accuracy: 0.99\n",
      "Validation Accuracy: 0.97\n",
      "Classification Report:\n",
      "                precision    recall  f1-score   support\n",
      "\n",
      "     business       0.98      0.96      0.97       400\n",
      "    education       0.99      0.99      0.99       400\n",
      "entertainment       1.00      0.98      0.99       400\n",
      "   technology       0.99      0.97      0.98       400\n",
      "       sports       0.92      0.98      0.95       400\n",
      "\n",
      "     accuracy                           0.97      2000\n",
      "    macro avg       0.98      0.97      0.98      2000\n",
      " weighted avg       0.98      0.97      0.98      2000\n",
      "\n"
     ]
    }
   ],
   "source": [
    "X_train = train['data']\n",
    "y_train = train['category']\n",
    "\n",
    "X_test = test['data']\n",
    "y_test = test['category']\n",
    "\n",
    "\n",
    "# Initialise TfidfVectorizer\n",
    "tfidf_vectorizer = TfidfVectorizer(max_features=5000, ngram_range=(1, 2))  # Unigrams and bigrams; adjust max_features as needed\n",
    "\n",
    "# Fit and transform the text data\n",
    "X_tfidf = tfidf_vectorizer.fit_transform(X_train)\n",
    "Xt_tfidf = tfidf_vectorizer.transform(X_test)\n",
    "\n",
    "# Display the shape of the resulting sparse matrix\n",
    "print(f\"TF-IDF Matrix Shape: {X_tfidf.shape}\")\n",
    "\n",
    "# Display the vocabulary (optional)\n",
    "print(\"Vocabulary:\", tfidf_vectorizer.get_feature_names_out())\n",
    "\n",
    "# Initialise the Logistic Regression model\n",
    "model = LogisticRegression(max_iter=1000, random_state=42)\n",
    "\n",
    "# Train the model on the training set\n",
    "model.fit(X_tfidf, y_train)\n",
    "\n",
    "# Print training accuracy\n",
    "train_accuracy = model.score(X_tfidf, y_train)\n",
    "print(f\"Training Accuracy: {train_accuracy:.2f}\")\n",
    "\n",
    "# Make predictions on the validation set\n",
    "y_pred = model.predict(Xt_tfidf)\n",
    "\n",
    "# Compute validation accuracy\n",
    "test_accuracy = accuracy_score(y_test, y_pred)\n",
    "print(f\"Validation Accuracy: {test_accuracy:.2f}\")\n",
    "\n",
    "# Generate a classification report\n",
    "print(\"Classification Report:\\n\", classification_report(y_test, y_pred, target_names=y_test.unique()))"
   ]
  },
  {
   "cell_type": "code",
   "execution_count": null,
   "id": "e6517e93",
   "metadata": {},
   "outputs": [],
   "source": []
  },
  {
   "cell_type": "code",
   "execution_count": null,
   "id": "9a1c849a",
   "metadata": {},
   "outputs": [
    {
     "name": "stderr",
     "output_type": "stream",
     "text": [
      "2025/10/19 22:24:49 INFO mlflow.utils.autologging_utils: Created MLflow autologging run with ID '1b28c16d2f4349fbb5a1a4758a8590a4', which will track hyperparameters, performance metrics, model artifacts, and lineage information for the current sklearn workflow\n",
      "2025/10/19 22:24:49 WARNING mlflow.sklearn: Unrecognized dataset type <class 'pandas.core.series.Series'>. Dataset logging skipped.\n"
     ]
    }
   ],
   "source": [
    "\n",
    "logreg_param_grid = {\n",
    "    'tfidf__ngram_range': [(1,1), (1,2)],\n",
    "    'tfidf__min_df': [1, 2, 3],\n",
    "    'tfidf__max_features': [20000, 40000, None],\n",
    "    'clf__C': [0.5, 1, 2, 5],\n",
    "    'clf__penalty': ['l2'],                # (liblinear/saga support l1 too if desired)\n",
    "    'clf__solver': ['liblinear', 'saga']   # both handle many classes\n",
    "}\n",
    "\n",
    "linearsvc_param_grid = {\n",
    "    'tfidf__ngram_range': [(1,1), (1,2)],\n",
    "    'tfidf__max_features': [20000, 40000],\n",
    "    'clf__C': [0.1, 1, 5, 10]\n",
    "}\n",
    "\n",
    "nb_param_grid = {\n",
    "    'tfidf__ngram_range': [(1,1), (1,2)],\n",
    "    'tfidf__max_features': [20000, 40000],\n",
    "    'clf__alpha': [0.1, 0.5, 1.0]\n",
    "}\n",
    "\n",
    "sgd_param_grid = {\n",
    "    'tfidf__ngram_range': [(1,1), (1,2)],\n",
    "    'clf__alpha': [1e-4, 1e-3, 1e-2],\n",
    "    'clf__penalty': ['l2', 'l1'],\n",
    "    'clf__loss': ['hinge', 'log_loss']  # hinge ~ SVM, log_loss ~ logistic regression\n",
    "}\n",
    "\n",
    "xgb_param_grid = {\n",
    "    'tfidf__max_features': [10000, 20000],\n",
    "    'clf__n_estimators': [100, 200],\n",
    "    'clf__max_depth': [4, 6, 8],\n",
    "    'clf__learning_rate': [0.05, 0.1]\n",
    "}\n",
    "\n",
    "\n",
    "rf_param_grid = {\n",
    "    'tfidf__max_features': [10000, 20000],\n",
    "    'clf__n_estimators': [200, 400],\n",
    "    'clf__max_depth': [None, 20, 40]\n",
    "}\n",
    "\n",
    "ridge_param_grid = {\n",
    "    'tfidf__ngram_range': [(1,1), (1,2)],\n",
    "    'tfidf__max_features': [20000, 40000],\n",
    "    'clf__alpha': [0.5, 1.0, 2.0, 5.0],\n",
    "    'clf__class_weight': [None, 'balanced']\n",
    "}\n",
    "\n",
    "pac_param_grid = {\n",
    "    'tfidf__ngram_range': [(1,1), (1,2)],\n",
    "    'clf__C': [0.1, 0.5, 1, 2, 5],\n",
    "    'clf__loss': ['hinge', 'squared_hinge'],\n",
    "    'clf__class_weight': [None, 'balanced'],\n",
    "    'clf__max_iter': [2000]\n",
    "}\n",
    "\n",
    "cnb_param_grid = {\n",
    "    'tfidf__ngram_range': [(1,1), (1,2)],\n",
    "    'tfidf__max_features': [20000, 40000],\n",
    "    'clf__alpha': [0.1, 0.5, 1.0]\n",
    "}\n",
    "\n",
    "models = {\n",
    "    'logreg': (LogisticRegression(max_iter=2000), logreg_param_grid),\n",
    "    'linearsvc': (LinearSVC(), linearsvc_param_grid),\n",
    "    'nb': (MultinomialNB(), nb_param_grid),\n",
    "    'sgd': (SGDClassifier(), sgd_param_grid),\n",
    "    'rf': (RandomForestClassifier(), rf_param_grid),\n",
    "    'ridge': (RidgeClassifier(), ridge_param_grid),\n",
    "    'pac': (PassiveAggressiveClassifier(), pac_param_grid),\n",
    "    'cnb': (ComplementNB(), cnb_param_grid),\n",
    "}\n",
    "\n",
    "results = []\n",
    "best_models = {}\n",
    "\n",
    "for name, (estimator, params) in models.items():\n",
    "    pipe = Pipeline([\n",
    "        ('tfidf', TfidfVectorizer(stop_words='english')),\n",
    "        ('clf', estimator)\n",
    "    ])\n",
    "    grid = GridSearchCV(pipe, params, cv=5, n_jobs=-1, scoring='f1_macro')\n",
    "    grid.fit(X_train, y_train)\n",
    "    best_models[name] = grid.best_estimator_\n",
    "    results.append({\n",
    "        'model': name,\n",
    "        'best_cv_f1': grid.best_score_,\n",
    "        'best_params': grid.best_params_\n",
    "    })\n",
    "    print(f\"{name:10s} | best CV f1: {grid.best_score_:.4f} | {grid.best_params_}\")\n",
    "\n",
    "results_df = pd.DataFrame(results).sort_values('best_cv_f1', ascending=False)\n",
    "display(results_df)\n"
   ]
  },
  {
   "cell_type": "markdown",
   "id": "fac22103",
   "metadata": {},
   "source": [
    "## 6. Model Export"
   ]
  },
  {
   "cell_type": "code",
   "execution_count": 106,
   "id": "a1afd421",
   "metadata": {},
   "outputs": [],
   "source": [
    "import pickle"
   ]
  },
  {
   "cell_type": "code",
   "execution_count": 107,
   "id": "d144fb4f",
   "metadata": {},
   "outputs": [],
   "source": [
    "import pickle\n",
    "\n",
    "with open('pickled_files/model_and_vectorizer.pkl', 'wb') as f:\n",
    "    pickle.dump({'model': model, 'vectorizer': tfidf_vectorizer}, f)"
   ]
  },
  {
   "cell_type": "code",
   "execution_count": null,
   "id": "e7a457aa",
   "metadata": {},
   "outputs": [
    {
     "name": "stderr",
     "output_type": "stream",
     "text": [
      "2025-10-17 08:07:27.869 Thread 'MainThread': missing ScriptRunContext! This warning can be ignored when running in bare mode.\n",
      "2025-10-17 08:07:27.874 Thread 'MainThread': missing ScriptRunContext! This warning can be ignored when running in bare mode.\n",
      "2025-10-17 08:07:27.878 Thread 'MainThread': missing ScriptRunContext! This warning can be ignored when running in bare mode.\n"
     ]
    }
   ],
   "source": [
    "# import streamlit as st\n",
    " \n",
    "# st.write(\"\"\"\n",
    "# # My first app\n",
    "# # Hello *world!*\n",
    "# \"\"\")\n"
   ]
  },
  {
   "cell_type": "markdown",
   "id": "0c91b77c",
   "metadata": {},
   "source": [
    "## 7. Manually Test Model"
   ]
  },
  {
   "cell_type": "code",
   "execution_count": 90,
   "id": "ff33aea1",
   "metadata": {},
   "outputs": [],
   "source": [
    "input_text = input(\"Enter your text here: \")"
   ]
  },
  {
   "cell_type": "code",
   "execution_count": 91,
   "id": "cf95ab36",
   "metadata": {},
   "outputs": [
    {
     "data": {
      "text/plain": [
       "'educational aspect'"
      ]
     },
     "execution_count": 91,
     "metadata": {},
     "output_type": "execute_result"
    }
   ],
   "source": [
    "pt= process_text_pro(input_text)\n",
    "pt"
   ]
  },
  {
   "cell_type": "code",
   "execution_count": 92,
   "id": "af9ddf8a",
   "metadata": {},
   "outputs": [],
   "source": [
    "vect_t = tfidf_vectorizer.transform([pt])"
   ]
  },
  {
   "cell_type": "code",
   "execution_count": 93,
   "id": "14d359ac",
   "metadata": {},
   "outputs": [
    {
     "data": {
      "text/plain": [
       "<Compressed Sparse Row sparse matrix of dtype 'float64'\n",
       "\twith 2 stored elements and shape (1, 5000)>"
      ]
     },
     "execution_count": 93,
     "metadata": {},
     "output_type": "execute_result"
    }
   ],
   "source": [
    "vect_t"
   ]
  },
  {
   "cell_type": "code",
   "execution_count": 94,
   "id": "e47e84ab",
   "metadata": {},
   "outputs": [
    {
     "data": {
      "text/plain": [
       "array(['education'], dtype=object)"
      ]
     },
     "execution_count": 94,
     "metadata": {},
     "output_type": "execute_result"
    }
   ],
   "source": [
    "model.predict(vect_t)"
   ]
  },
  {
   "cell_type": "markdown",
   "id": "9f8ad4ef",
   "metadata": {},
   "source": [
    "### Test the model in a loop"
   ]
  },
  {
   "cell_type": "code",
   "execution_count": 77,
   "id": "b07cd7af",
   "metadata": {},
   "outputs": [
    {
     "name": "stdout",
     "output_type": "stream",
     "text": [
      "sproting conduct #Classification: ['education']\n",
      "sporting conduct #Classification: ['technology']\n",
      "sports manager #Classification: ['sports']\n",
      "its a sporting liability #Classification: ['technology']\n"
     ]
    },
    {
     "ename": "KeyboardInterrupt",
     "evalue": "Interrupted by user",
     "output_type": "error",
     "traceback": [
      "\u001b[31m---------------------------------------------------------------------------\u001b[39m",
      "\u001b[31mKeyboardInterrupt\u001b[39m                         Traceback (most recent call last)",
      "\u001b[36mCell\u001b[39m\u001b[36m \u001b[39m\u001b[32mIn[77]\u001b[39m\u001b[32m, line 4\u001b[39m\n\u001b[32m      1\u001b[39m breaker = \u001b[38;5;28;01mTrue\u001b[39;00m\n\u001b[32m      3\u001b[39m \u001b[38;5;28;01mwhile\u001b[39;00m breaker:\n\u001b[32m----> \u001b[39m\u001b[32m4\u001b[39m     input_text = \u001b[38;5;28;43minput\u001b[39;49m\u001b[43m(\u001b[49m\u001b[33;43m\"\u001b[39;49m\u001b[33;43mEnter Text to Classify, Enter End/Quit to end program\u001b[39;49m\u001b[33;43m\"\u001b[39;49m\u001b[43m)\u001b[49m\n\u001b[32m      6\u001b[39m     \u001b[38;5;28;01mif\u001b[39;00m input_text.lower() == \u001b[33m\"\u001b[39m\u001b[33mend\u001b[39m\u001b[33m\"\u001b[39m \u001b[38;5;129;01mor\u001b[39;00m input_text.lower() == \u001b[33m\"\u001b[39m\u001b[33mquit\u001b[39m\u001b[33m\"\u001b[39m:\n\u001b[32m      7\u001b[39m         \u001b[38;5;28;01mbreak\u001b[39;00m\n",
      "\u001b[36mFile \u001b[39m\u001b[32mc:\\Users\\gpietersen\\source\\repos\\ExploreAI_Classification_Project\\2501PTDS_Classification_Project\\.venv\\Lib\\site-packages\\ipykernel\\kernelbase.py:1275\u001b[39m, in \u001b[36mKernel.raw_input\u001b[39m\u001b[34m(self, prompt)\u001b[39m\n\u001b[32m   1273\u001b[39m     msg = \u001b[33m\"\u001b[39m\u001b[33mraw_input was called, but this frontend does not support input requests.\u001b[39m\u001b[33m\"\u001b[39m\n\u001b[32m   1274\u001b[39m     \u001b[38;5;28;01mraise\u001b[39;00m StdinNotImplementedError(msg)\n\u001b[32m-> \u001b[39m\u001b[32m1275\u001b[39m \u001b[38;5;28;01mreturn\u001b[39;00m \u001b[38;5;28;43mself\u001b[39;49m\u001b[43m.\u001b[49m\u001b[43m_input_request\u001b[49m\u001b[43m(\u001b[49m\n\u001b[32m   1276\u001b[39m \u001b[43m    \u001b[49m\u001b[38;5;28;43mstr\u001b[39;49m\u001b[43m(\u001b[49m\u001b[43mprompt\u001b[49m\u001b[43m)\u001b[49m\u001b[43m,\u001b[49m\n\u001b[32m   1277\u001b[39m \u001b[43m    \u001b[49m\u001b[38;5;28;43mself\u001b[39;49m\u001b[43m.\u001b[49m\u001b[43m_parent_ident\u001b[49m\u001b[43m[\u001b[49m\u001b[33;43m\"\u001b[39;49m\u001b[33;43mshell\u001b[39;49m\u001b[33;43m\"\u001b[39;49m\u001b[43m]\u001b[49m\u001b[43m,\u001b[49m\n\u001b[32m   1278\u001b[39m \u001b[43m    \u001b[49m\u001b[38;5;28;43mself\u001b[39;49m\u001b[43m.\u001b[49m\u001b[43mget_parent\u001b[49m\u001b[43m(\u001b[49m\u001b[33;43m\"\u001b[39;49m\u001b[33;43mshell\u001b[39;49m\u001b[33;43m\"\u001b[39;49m\u001b[43m)\u001b[49m\u001b[43m,\u001b[49m\n\u001b[32m   1279\u001b[39m \u001b[43m    \u001b[49m\u001b[43mpassword\u001b[49m\u001b[43m=\u001b[49m\u001b[38;5;28;43;01mFalse\u001b[39;49;00m\u001b[43m,\u001b[49m\n\u001b[32m   1280\u001b[39m \u001b[43m\u001b[49m\u001b[43m)\u001b[49m\n",
      "\u001b[36mFile \u001b[39m\u001b[32mc:\\Users\\gpietersen\\source\\repos\\ExploreAI_Classification_Project\\2501PTDS_Classification_Project\\.venv\\Lib\\site-packages\\ipykernel\\kernelbase.py:1320\u001b[39m, in \u001b[36mKernel._input_request\u001b[39m\u001b[34m(self, prompt, ident, parent, password)\u001b[39m\n\u001b[32m   1317\u001b[39m \u001b[38;5;28;01mexcept\u001b[39;00m \u001b[38;5;167;01mKeyboardInterrupt\u001b[39;00m:\n\u001b[32m   1318\u001b[39m     \u001b[38;5;66;03m# re-raise KeyboardInterrupt, to truncate traceback\u001b[39;00m\n\u001b[32m   1319\u001b[39m     msg = \u001b[33m\"\u001b[39m\u001b[33mInterrupted by user\u001b[39m\u001b[33m\"\u001b[39m\n\u001b[32m-> \u001b[39m\u001b[32m1320\u001b[39m     \u001b[38;5;28;01mraise\u001b[39;00m \u001b[38;5;167;01mKeyboardInterrupt\u001b[39;00m(msg) \u001b[38;5;28;01mfrom\u001b[39;00m\u001b[38;5;250m \u001b[39m\u001b[38;5;28;01mNone\u001b[39;00m\n\u001b[32m   1321\u001b[39m \u001b[38;5;28;01mexcept\u001b[39;00m \u001b[38;5;167;01mException\u001b[39;00m:\n\u001b[32m   1322\u001b[39m     \u001b[38;5;28mself\u001b[39m.log.warning(\u001b[33m\"\u001b[39m\u001b[33mInvalid Message:\u001b[39m\u001b[33m\"\u001b[39m, exc_info=\u001b[38;5;28;01mTrue\u001b[39;00m)\n",
      "\u001b[31mKeyboardInterrupt\u001b[39m: Interrupted by user"
     ]
    }
   ],
   "source": [
    "breaker = True\n",
    "\n",
    "while breaker:\n",
    "    input_text = input(\"Enter Text to Classify, Enter End/Quit to end program\")\n",
    "\n",
    "    if input_text.lower() == \"end\" or input_text.lower() == \"quit\":\n",
    "        break\n",
    "    else:\n",
    "        pt = process_text_pro(input_text)\n",
    "        vect_t = tfidf_vectorizer.transform([pt])\n",
    "        p_class = model.predict(vect_t)\n",
    "        print(f\"{input_text} #Classification: {p_class}\")\n",
    "\n"
   ]
  },
  {
   "cell_type": "markdown",
   "id": "ce37b6a5",
   "metadata": {},
   "source": [
    "## 8. Streamlit"
   ]
  },
  {
   "cell_type": "code",
   "execution_count": 132,
   "id": "22044a6a",
   "metadata": {},
   "outputs": [
    {
     "name": "stdout",
     "output_type": "stream",
     "text": [
      "^C\n"
     ]
    }
   ],
   "source": [
    "!streamlit run Streamlit/base_app.py\n",
    "# http://localhost:8508/"
   ]
  },
  {
   "cell_type": "markdown",
   "id": "b02c8cd0",
   "metadata": {},
   "source": [
    "## 9. MLFlow"
   ]
  },
  {
   "cell_type": "code",
   "execution_count": null,
   "id": "1b65244b",
   "metadata": {},
   "outputs": [
    {
     "name": "stdout",
     "output_type": "stream",
     "text": [
      "^C\n"
     ]
    }
   ],
   "source": [
    "!mlflow ui  \n",
    "#  http://127.0.0.1:5000/"
   ]
  },
  {
   "cell_type": "code",
   "execution_count": null,
   "id": "998b05b6",
   "metadata": {},
   "outputs": [
    {
     "name": "stderr",
     "output_type": "stream",
     "text": [
      "2025/10/19 22:07:41 INFO mlflow.utils.autologging_utils: Created MLflow autologging run with ID '35749d280e0446ba9fac91f432b0a0de', which will track hyperparameters, performance metrics, model artifacts, and lineage information for the current sklearn workflow\n",
      "2025/10/19 22:07:41 WARNING mlflow.sklearn: Unrecognized dataset type <class 'pandas.core.series.Series'>. Dataset logging skipped.\n",
      "2025/10/19 22:09:50 WARNING mlflow.utils.autologging_utils: Encountered unexpected error during sklearn autologging: When an mlflow-artifacts URI was supplied, the tracking URI must be a valid http or https URI, but it was currently set to file:///c:/Users/gpietersen/source/repos/ExploreAI_Classification_Project/2501PTDS_Classification_Project/mlruns. Perhaps you forgot to set the tracking URI to the running MLflow server. To set the tracking URI, use either of the following methods:\n",
      "1. Set the MLFLOW_TRACKING_URI environment variable to the desired tracking URI. `export MLFLOW_TRACKING_URI=http://localhost:5000`\n",
      "2. Set the tracking URI programmatically by calling `mlflow.set_tracking_uri`. `mlflow.set_tracking_uri('http://localhost:5000')`\n",
      "2025/10/19 22:09:50 INFO mlflow.utils.autologging_utils: Created MLflow autologging run with ID 'd03ad9b9e35b45298d6fd1fa95bd6dd0', which will track hyperparameters, performance metrics, model artifacts, and lineage information for the current sklearn workflow\n",
      "2025/10/19 22:09:50 WARNING mlflow.sklearn: Unrecognized dataset type <class 'pandas.core.series.Series'>. Dataset logging skipped.\n"
     ]
    },
    {
     "name": "stdout",
     "output_type": "stream",
     "text": [
      "ridge      | best CV f1: 0.9823 | {'clf__alpha': 1.0, 'clf__class_weight': 'balanced', 'tfidf__max_features': 40000, 'tfidf__ngram_range': (1, 2)}\n"
     ]
    },
    {
     "name": "stderr",
     "output_type": "stream",
     "text": [
      "2025/10/19 22:11:51 WARNING mlflow.utils.autologging_utils: Encountered unexpected error during sklearn autologging: When an mlflow-artifacts URI was supplied, the tracking URI must be a valid http or https URI, but it was currently set to file:///c:/Users/gpietersen/source/repos/ExploreAI_Classification_Project/2501PTDS_Classification_Project/mlruns. Perhaps you forgot to set the tracking URI to the running MLflow server. To set the tracking URI, use either of the following methods:\n",
      "1. Set the MLFLOW_TRACKING_URI environment variable to the desired tracking URI. `export MLFLOW_TRACKING_URI=http://localhost:5000`\n",
      "2. Set the tracking URI programmatically by calling `mlflow.set_tracking_uri`. `mlflow.set_tracking_uri('http://localhost:5000')`\n",
      "2025/10/19 22:11:51 INFO mlflow.utils.autologging_utils: Created MLflow autologging run with ID '50b531749bfa4cf5b83c70c6eae794cd', which will track hyperparameters, performance metrics, model artifacts, and lineage information for the current sklearn workflow\n",
      "2025/10/19 22:11:51 WARNING mlflow.sklearn: Unrecognized dataset type <class 'pandas.core.series.Series'>. Dataset logging skipped.\n"
     ]
    },
    {
     "name": "stdout",
     "output_type": "stream",
     "text": [
      "pac        | best CV f1: 0.9834 | {'clf__C': 1, 'clf__class_weight': 'balanced', 'clf__loss': 'squared_hinge', 'clf__max_iter': 2000, 'tfidf__ngram_range': (1, 2)}\n"
     ]
    },
    {
     "name": "stderr",
     "output_type": "stream",
     "text": [
      "2025/10/19 22:12:39 WARNING mlflow.utils.autologging_utils: Encountered unexpected error during sklearn autologging: When an mlflow-artifacts URI was supplied, the tracking URI must be a valid http or https URI, but it was currently set to file:///c:/Users/gpietersen/source/repos/ExploreAI_Classification_Project/2501PTDS_Classification_Project/mlruns. Perhaps you forgot to set the tracking URI to the running MLflow server. To set the tracking URI, use either of the following methods:\n",
      "1. Set the MLFLOW_TRACKING_URI environment variable to the desired tracking URI. `export MLFLOW_TRACKING_URI=http://localhost:5000`\n",
      "2. Set the tracking URI programmatically by calling `mlflow.set_tracking_uri`. `mlflow.set_tracking_uri('http://localhost:5000')`\n"
     ]
    },
    {
     "name": "stdout",
     "output_type": "stream",
     "text": [
      "cnb        | best CV f1: 0.9819 | {'clf__alpha': 0.1, 'tfidf__max_features': 40000, 'tfidf__ngram_range': (1, 2)}\n"
     ]
    },
    {
     "data": {
      "application/vnd.microsoft.datawrangler.viewer.v0+json": {
       "columns": [
        {
         "name": "index",
         "rawType": "int64",
         "type": "integer"
        },
        {
         "name": "model",
         "rawType": "object",
         "type": "string"
        },
        {
         "name": "best_cv_f1",
         "rawType": "float64",
         "type": "float"
        },
        {
         "name": "best_params",
         "rawType": "object",
         "type": "unknown"
        }
       ],
       "ref": "0c57979b-011d-4711-a74b-0aac2c0c6392",
       "rows": [
        [
         "1",
         "pac",
         "0.9834273994171996",
         "{'clf__C': 1, 'clf__class_weight': 'balanced', 'clf__loss': 'squared_hinge', 'clf__max_iter': 2000, 'tfidf__ngram_range': (1, 2)}"
        ],
        [
         "0",
         "ridge",
         "0.982315784128936",
         "{'clf__alpha': 1.0, 'clf__class_weight': 'balanced', 'tfidf__max_features': 40000, 'tfidf__ngram_range': (1, 2)}"
        ],
        [
         "2",
         "cnb",
         "0.9818597822765159",
         "{'clf__alpha': 0.1, 'tfidf__max_features': 40000, 'tfidf__ngram_range': (1, 2)}"
        ]
       ],
       "shape": {
        "columns": 3,
        "rows": 3
       }
      },
      "text/html": [
       "<div>\n",
       "<style scoped>\n",
       "    .dataframe tbody tr th:only-of-type {\n",
       "        vertical-align: middle;\n",
       "    }\n",
       "\n",
       "    .dataframe tbody tr th {\n",
       "        vertical-align: top;\n",
       "    }\n",
       "\n",
       "    .dataframe thead th {\n",
       "        text-align: right;\n",
       "    }\n",
       "</style>\n",
       "<table border=\"1\" class=\"dataframe\">\n",
       "  <thead>\n",
       "    <tr style=\"text-align: right;\">\n",
       "      <th></th>\n",
       "      <th>model</th>\n",
       "      <th>best_cv_f1</th>\n",
       "      <th>best_params</th>\n",
       "    </tr>\n",
       "  </thead>\n",
       "  <tbody>\n",
       "    <tr>\n",
       "      <th>1</th>\n",
       "      <td>pac</td>\n",
       "      <td>0.983427</td>\n",
       "      <td>{'clf__C': 1, 'clf__class_weight': 'balanced',...</td>\n",
       "    </tr>\n",
       "    <tr>\n",
       "      <th>0</th>\n",
       "      <td>ridge</td>\n",
       "      <td>0.982316</td>\n",
       "      <td>{'clf__alpha': 1.0, 'clf__class_weight': 'bala...</td>\n",
       "    </tr>\n",
       "    <tr>\n",
       "      <th>2</th>\n",
       "      <td>cnb</td>\n",
       "      <td>0.981860</td>\n",
       "      <td>{'clf__alpha': 0.1, 'tfidf__max_features': 400...</td>\n",
       "    </tr>\n",
       "  </tbody>\n",
       "</table>\n",
       "</div>"
      ],
      "text/plain": [
       "   model  best_cv_f1                                        best_params\n",
       "1    pac    0.983427  {'clf__C': 1, 'clf__class_weight': 'balanced',...\n",
       "0  ridge    0.982316  {'clf__alpha': 1.0, 'clf__class_weight': 'bala...\n",
       "2    cnb    0.981860  {'clf__alpha': 0.1, 'tfidf__max_features': 400..."
      ]
     },
     "metadata": {},
     "output_type": "display_data"
    }
   ],
   "source": []
  },
  {
   "cell_type": "code",
   "execution_count": null,
   "id": "2f297bd8",
   "metadata": {},
   "outputs": [
    {
     "name": "stderr",
     "output_type": "stream",
     "text": [
      "2025/10/19 14:17:30 INFO mlflow.utils.autologging_utils: Created MLflow autologging run with ID 'f53be7814934477885cc01096be632da', which will track hyperparameters, performance metrics, model artifacts, and lineage information for the current sklearn workflow\n",
      "2025/10/19 14:17:30 WARNING mlflow.sklearn: Unrecognized dataset type <class 'pandas.core.series.Series'>. Dataset logging skipped.\n"
     ]
    },
    {
     "name": "stdout",
     "output_type": "stream",
     "text": [
      "Fitting 5 folds for each of 144 candidates, totalling 720 fits\n"
     ]
    },
    {
     "name": "stderr",
     "output_type": "stream",
     "text": [
      "c:\\Users\\gpietersen\\source\\repos\\ExploreAI_Classification_Project\\2501PTDS_Classification_Project\\.venv\\Lib\\site-packages\\sklearn\\linear_model\\_logistic.py:1296: FutureWarning: Using the 'liblinear' solver for multiclass classification is deprecated. An error will be raised in 1.8. Either use another solver which supports the multinomial loss or wrap the estimator in a OneVsRestClassifier to keep applying a one-versus-rest scheme.\n",
      "  warnings.warn(\n",
      "2025/10/19 14:30:51 WARNING mlflow.utils.autologging_utils: Encountered unexpected error during sklearn autologging: When an mlflow-artifacts URI was supplied, the tracking URI must be a valid http or https URI, but it was currently set to file:///c:/Users/gpietersen/source/repos/ExploreAI_Classification_Project/2501PTDS_Classification_Project/mlruns. Perhaps you forgot to set the tracking URI to the running MLflow server. To set the tracking URI, use either of the following methods:\n",
      "1. Set the MLFLOW_TRACKING_URI environment variable to the desired tracking URI. `export MLFLOW_TRACKING_URI=http://localhost:5000`\n",
      "2. Set the tracking URI programmatically by calling `mlflow.set_tracking_uri`. `mlflow.set_tracking_uri('http://localhost:5000')`\n"
     ]
    },
    {
     "name": "stdout",
     "output_type": "stream",
     "text": [
      "Best params: {'clf__C': 5, 'clf__penalty': 'l2', 'clf__solver': 'liblinear', 'tfidf__max_features': 40000, 'tfidf__min_df': 3, 'tfidf__ngram_range': (1, 2)}\n",
      "Best CV accuracy: 0.983016557088904\n",
      "Validation accuracy: 0.9855072463768116\n",
      "               precision    recall  f1-score   support\n",
      "\n",
      "     business       0.98      0.97      0.98       224\n",
      "    education       1.00      0.99      1.00       304\n",
      "entertainment       1.00      1.00      1.00       192\n",
      "       sports       0.98      0.97      0.98       128\n",
      "   technology       0.97      0.98      0.98       256\n",
      "\n",
      "     accuracy                           0.99      1104\n",
      "    macro avg       0.99      0.98      0.98      1104\n",
      " weighted avg       0.99      0.99      0.99      1104\n",
      "\n"
     ]
    },
    {
     "name": "stderr",
     "output_type": "stream",
     "text": [
      "2025/10/19 14:30:53 INFO mlflow.utils.autologging_utils: Created MLflow autologging run with ID '097fa99c2b6f414287860400d20d8b8d', which will track hyperparameters, performance metrics, model artifacts, and lineage information for the current sklearn workflow\n",
      "2025/10/19 14:30:53 WARNING mlflow.sklearn: Unrecognized dataset type <class 'pandas.core.series.Series'>. Dataset logging skipped.\n",
      "c:\\Users\\gpietersen\\source\\repos\\ExploreAI_Classification_Project\\2501PTDS_Classification_Project\\.venv\\Lib\\site-packages\\sklearn\\linear_model\\_logistic.py:1296: FutureWarning: Using the 'liblinear' solver for multiclass classification is deprecated. An error will be raised in 1.8. Either use another solver which supports the multinomial loss or wrap the estimator in a OneVsRestClassifier to keep applying a one-versus-rest scheme.\n",
      "  warnings.warn(\n",
      "2025/10/19 14:31:15 WARNING mlflow.utils.autologging_utils: Encountered unexpected error during sklearn autologging: When an mlflow-artifacts URI was supplied, the tracking URI must be a valid http or https URI, but it was currently set to file:///c:/Users/gpietersen/source/repos/ExploreAI_Classification_Project/2501PTDS_Classification_Project/mlruns. Perhaps you forgot to set the tracking URI to the running MLflow server. To set the tracking URI, use either of the following methods:\n",
      "1. Set the MLFLOW_TRACKING_URI environment variable to the desired tracking URI. `export MLFLOW_TRACKING_URI=http://localhost:5000`\n",
      "2. Set the tracking URI programmatically by calling `mlflow.set_tracking_uri`. `mlflow.set_tracking_uri('http://localhost:5000')`\n"
     ]
    },
    {
     "name": "stdout",
     "output_type": "stream",
     "text": [
      "Saved predictions to predictions.csv\n"
     ]
    }
   ],
   "source": [
    "pipe = Pipeline([\n",
    "    ('tfidf', TfidfVectorizer(stop_words='english')),\n",
    "    ('clf', LogisticRegression(max_iter=2000))\n",
    "])\n",
    "\n",
    "param_grid = {\n",
    "    'tfidf__ngram_range': [(1,1), (1,2)],\n",
    "    'tfidf__min_df': [1, 2, 3],\n",
    "    'tfidf__max_features': [20000, 40000, None],\n",
    "    'clf__C': [0.5, 1, 2, 5],\n",
    "    'clf__penalty': ['l2'],                # (liblinear/saga support l1 too if desired)\n",
    "    'clf__solver': ['liblinear', 'saga']   # both handle many classes\n",
    "}\n",
    "\n",
    "grid = GridSearchCV(\n",
    "    estimator=pipe,\n",
    "    param_grid=param_grid,\n",
    "    scoring='accuracy',\n",
    "    cv=5,\n",
    "    n_jobs=-1,\n",
    "    verbose=1\n",
    ")\n",
    "grid.fit(X_train, y_train)\n",
    "\n",
    "print(\"Best params:\", grid.best_params_)\n",
    "print(\"Best CV accuracy:\", grid.best_score_)\n",
    "\n",
    "# 8) Evaluate on hold-out validation set\n",
    "y_val_pred = grid.predict(X_test)\n",
    "print(\"Validation accuracy:\", accuracy_score(y_test, y_val_pred))\n",
    "print(classification_report(y_test, y_val_pred))\n",
    "\n",
    "# 9) Fit on full training data (optional, after you’re happy with params)\n",
    "best_model = grid.best_estimator_\n",
    "best_model.fit(X_train, y_train)\n",
    "\n",
    "# 10) Predict on test set\n",
    "test_preds = best_model.predict(X_test)\n",
    "\n",
    "# If you want a submission file:\n",
    "out = test_df[['url']].copy()  # or any ID column you have; 'url' is available\n",
    "out['predicted_category'] = test_preds\n",
    "out.to_csv(\"predictions.csv\", index=False)\n",
    "print(\"Saved predictions to predictions.csv\")\n"
   ]
  },
  {
   "cell_type": "code",
   "execution_count": 130,
   "id": "0e7a77c0",
   "metadata": {},
   "outputs": [
    {
     "data": {
      "application/vnd.microsoft.datawrangler.viewer.v0+json": {
       "columns": [
        {
         "name": "index",
         "rawType": "int64",
         "type": "integer"
        },
        {
         "name": "category",
         "rawType": "object",
         "type": "string"
        }
       ],
       "ref": "d988560e-cdb7-4780-acd9-d73c939bf3ef",
       "rows": [
        [
         "0",
         "business"
        ],
        [
         "1",
         "business"
        ],
        [
         "2",
         "business"
        ],
        [
         "3",
         "business"
        ],
        [
         "4",
         "business"
        ],
        [
         "5",
         "business"
        ],
        [
         "6",
         "business"
        ],
        [
         "7",
         "business"
        ],
        [
         "8",
         "business"
        ],
        [
         "9",
         "business"
        ],
        [
         "10",
         "business"
        ],
        [
         "11",
         "business"
        ],
        [
         "12",
         "business"
        ],
        [
         "13",
         "business"
        ],
        [
         "14",
         "business"
        ],
        [
         "15",
         "business"
        ],
        [
         "16",
         "business"
        ],
        [
         "17",
         "business"
        ],
        [
         "18",
         "business"
        ],
        [
         "19",
         "business"
        ],
        [
         "20",
         "business"
        ],
        [
         "21",
         "business"
        ],
        [
         "22",
         "business"
        ],
        [
         "23",
         "business"
        ],
        [
         "24",
         "business"
        ],
        [
         "25",
         "business"
        ],
        [
         "26",
         "business"
        ],
        [
         "27",
         "business"
        ],
        [
         "28",
         "business"
        ],
        [
         "29",
         "business"
        ],
        [
         "30",
         "business"
        ],
        [
         "31",
         "business"
        ],
        [
         "32",
         "business"
        ],
        [
         "33",
         "business"
        ],
        [
         "34",
         "business"
        ],
        [
         "35",
         "business"
        ],
        [
         "36",
         "business"
        ],
        [
         "37",
         "business"
        ],
        [
         "38",
         "business"
        ],
        [
         "39",
         "business"
        ],
        [
         "40",
         "business"
        ],
        [
         "41",
         "business"
        ],
        [
         "42",
         "business"
        ],
        [
         "43",
         "business"
        ],
        [
         "44",
         "business"
        ],
        [
         "45",
         "business"
        ],
        [
         "46",
         "business"
        ],
        [
         "47",
         "business"
        ],
        [
         "48",
         "business"
        ],
        [
         "49",
         "business"
        ]
       ],
       "shape": {
        "columns": 1,
        "rows": 5520
       }
      },
      "text/plain": [
       "0         business\n",
       "1         business\n",
       "2         business\n",
       "3         business\n",
       "4         business\n",
       "           ...    \n",
       "5515    technology\n",
       "5516    technology\n",
       "5517    technology\n",
       "5518    technology\n",
       "5519    technology\n",
       "Name: category, Length: 5520, dtype: object"
      ]
     },
     "execution_count": 130,
     "metadata": {},
     "output_type": "execute_result"
    }
   ],
   "source": [
    "# train_df['text'].head(200)\n",
    "train_df['category']\n",
    "# test_df['text'].head(200)"
   ]
  }
 ],
 "metadata": {
  "kernelspec": {
   "display_name": ".venv",
   "language": "python",
   "name": "python3"
  },
  "language_info": {
   "codemirror_mode": {
    "name": "ipython",
    "version": 3
   },
   "file_extension": ".py",
   "mimetype": "text/x-python",
   "name": "python",
   "nbconvert_exporter": "python",
   "pygments_lexer": "ipython3",
   "version": "3.12.8"
  }
 },
 "nbformat": 4,
 "nbformat_minor": 5
}
